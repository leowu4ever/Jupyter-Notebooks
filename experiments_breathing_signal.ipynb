{
  "nbformat": 4,
  "nbformat_minor": 0,
  "metadata": {
    "colab": {
      "name": "experiments_breathing_signal",
      "version": "0.3.2",
      "provenance": [],
      "collapsed_sections": [
        "DVNxa1zM8L81",
        "88HTa-OwBJ35",
        "1iye1X2QVoNV",
        "NIj6mhuWMLVv",
        "mUURJX07x_lR",
        "uAgL8uQyygOu",
        "DEGpuwchyWa5",
        "gKsUHwGtQvh3",
        "4oPbLE5x-kr2",
        "yfZZ-EoLXQeM"
      ],
      "include_colab_link": true
    },
    "kernelspec": {
      "name": "python3",
      "display_name": "Python 3"
    },
    "accelerator": "GPU"
  },
  "cells": [
    {
      "cell_type": "markdown",
      "metadata": {
        "id": "view-in-github",
        "colab_type": "text"
      },
      "source": [
        "<a href=\"https://colab.research.google.com/github/leowu4ever/PhD_Note/blob/master/experiments_breathing_signal.ipynb\" target=\"_parent\"><img src=\"https://colab.research.google.com/assets/colab-badge.svg\" alt=\"Open In Colab\"/></a>"
      ]
    },
    {
      "cell_type": "markdown",
      "metadata": {
        "id": "DVNxa1zM8L81",
        "colab_type": "text"
      },
      "source": [
        "# **Housekeeping**"
      ]
    },
    {
      "cell_type": "markdown",
      "metadata": {
        "colab_type": "text",
        "id": "52_kp5QOy38S"
      },
      "source": [
        "List all files on google drive"
      ]
    },
    {
      "cell_type": "code",
      "metadata": {
        "id": "Qd7jiihhhIz2",
        "colab_type": "code",
        "colab": {}
      },
      "source": [
        "%reload_ext autoreload\n",
        "%autoreload 2\n",
        "%matplotlib inline\n",
        "\n",
        "import matplotlib.pyplot as plt\n",
        "from matplotlib.pyplot import specgram\n",
        "\n",
        "import librosa\n",
        "import librosa.display\n",
        "\n",
        "import numpy as np\n",
        "from pathlib import Path\n",
        "\n",
        "import IPython\n",
        "\n",
        "import scipy\n",
        "\n",
        "from IPython.core.interactiveshell import InteractiveShell\n",
        "InteractiveShell.ast_node_interactivity = \"all\"\n",
        "\n",
        "!pip install pyhht\n",
        "import pyhht\n",
        "\n",
        "import pywt\n",
        "\n",
        "from google.colab import drive\n",
        "drive.mount('/content/gdrive')\n",
        "\n",
        "import sys\n",
        "sys.path.insert(0,'/content/gdrive/My Drive/colab BET')"
      ],
      "execution_count": 0,
      "outputs": []
    },
    {
      "cell_type": "code",
      "metadata": {
        "id": "2HAjjw4g9fEP",
        "colab_type": "code",
        "colab": {}
      },
      "source": [
        "path_gdrive = '/content/gdrive/My Drive/colab BET/'\n",
        "path_gdrive_clips = path_gdrive + 'clips/'\n",
        "path_gdrive_plots = path_gdrive + 'plots/'\n",
        "path_gdrive_train_audio = path_gdrive + 'train_audio/'\n",
        "path_gdrive_train_audio_in = path_gdrive_train_audio + 'in/'\n",
        "path_gdrive_train_audio_out = path_gdrive_train_audio + 'out/'\n",
        "\n",
        "path_gdrive_train_img = path_gdrive + 'train_img/'\n",
        "path_gdrive_train_img_in = path_gdrive_train_img + 'in/'\n",
        "path_gdrive_train_img_out = path_gdrive_train_img + 'out/'\n",
        "\n",
        "path_gdrive_valid_img = path_gdrive + 'valid_img/'\n",
        "path_gdrive_valid_img_in = path_gdrive_valid_img + 'in/'\n",
        "path_gdrive_valid_img_out = path_gdrive_valid_img + 'out/'\n",
        "\n",
        "file_names = [path_gdrive_clips + 'My memos 7.wav', path_gdrive_clips + 'My memos 8.wav', path_gdrive_clips + 'My memos 9.wav', path_gdrive_clips + 'My memos 10.wav'];\n",
        "file_count = len(file_names)\n",
        "\n",
        "def create_paths(file_names):\n",
        "  clips = []\n",
        "  rates = []\n",
        "  for file_name in file_names:\n",
        "    clip_path = Path(file_name)\n",
        "    clip, rate = librosa.load(clip_path)\n",
        "    \n",
        "    clips.append(clip)\n",
        "    rates.append(rate)\n",
        "\n",
        "  return clips, rates\n",
        "\n",
        "clips, rates = create_paths(file_names)\n",
        "sr = rates[0]"
      ],
      "execution_count": 0,
      "outputs": []
    },
    {
      "cell_type": "code",
      "metadata": {
        "id": "kIQpYirrLWpN",
        "colab_type": "code",
        "colab": {}
      },
      "source": [
        "xlines_breathing_in = np.array([\n",
        "    [0.6, 5.5, 6.9, 9, 10.5, 12.8, 14.3, 16.8, 18.8, 20.3, 23],\n",
        "    [0.3, 3.5, 5.7, 8.2, 10.3, 11.8, 14.4, 17.3, 19.1, 20.9, 22.5, 24.6, 26.5, 28.4, 30.7, 32.9, 34.9, 37, 39.2, 41, 42.2],\n",
        "    [3.8, 5.7, 8.1, 11.4, 14, 16.6, 19.3, 23, 26.9, 30.7],\n",
        "    [5.5, 7.7, 10.1, 12.1, 14.3, 16.8, 27, 45, 56.5]\n",
        "])\n",
        "\n",
        "xlines_breathing_out = np.array([\n",
        "    [2.7, 6.3, 8, 9.8, 11.6, 13.3, 15.3, 17.8, 19.7, 21.3],\n",
        "    [1.6, 4.2, 6.6, 9.3, 11, 13.1, 15.9, 18.4, 20.1, 21.7, 23.6, 25.4, 27.5, 29.4, 31.7, 34, 36.1, 38, 39.8, 41.7, 43.2],\n",
        "    [4.2, 6.8, 9.4, 12.7, 15.5, 17.8, 20.6, 25.2, 27.9, 33.4],\n",
        "    [6.5, 8.7, 11.4, 13.2, 15.3, 17.5, 20.8, 23.6, 28.3, 33.4, 44, 46.6, 57.3]\n",
        "])"
      ],
      "execution_count": 0,
      "outputs": []
    },
    {
      "cell_type": "code",
      "metadata": {
        "id": "TlGXhcl9cslq",
        "colab_type": "code",
        "colab": {}
      },
      "source": [
        "segmentation_size = 1*sr\n",
        "overlapping_perc = 0.25\n",
        "imf_iteration_limit = 100"
      ],
      "execution_count": 0,
      "outputs": []
    },
    {
      "cell_type": "markdown",
      "metadata": {
        "colab_type": "text",
        "id": "88HTa-OwBJ35"
      },
      "source": [
        "# **Plotting functions**"
      ]
    },
    {
      "cell_type": "code",
      "metadata": {
        "id": "1AbRDEda4tmE",
        "colab_type": "code",
        "colab": {}
      },
      "source": [
        "def display_fft(clips):\n",
        "  for clip in clips:\n",
        "    fft = scipy.fftpack.fft(clip)\n",
        "    num_of_samples = len(clip)\n",
        "    fft_freq = scipy.fftpack.fftfreq(num_of_samples, 1/sr)\n",
        "    plt.figure(figsize=(20,4))\n",
        "    plt.xlim(0,6000)\n",
        "    plt.plot(fft_freq[0:int(num_of_samples/2)], (abs(fft)/num_of_samples)[0:int(num_of_samples/2)])"
      ],
      "execution_count": 0,
      "outputs": []
    },
    {
      "cell_type": "code",
      "metadata": {
        "id": "15QL8mgRxiYJ",
        "colab_type": "code",
        "colab": {}
      },
      "source": [
        "def display_audio_files(file_names):\n",
        "  for file_name in file_names:\n",
        "    print(file_name)\n",
        "    IPython.display.display(IPython.display.Audio(file_name))"
      ],
      "execution_count": 0,
      "outputs": []
    },
    {
      "cell_type": "code",
      "metadata": {
        "id": "g_kNmpWC7nd8",
        "colab_type": "code",
        "colab": {}
      },
      "source": [
        "def display_audio_waveform(clips):\n",
        "  for clip in clips:\n",
        "    plt.figure(figsize=(20,4))\n",
        "    librosa.display.waveplot(clip)"
      ],
      "execution_count": 0,
      "outputs": []
    },
    {
      "cell_type": "code",
      "metadata": {
        "id": "h514yI0QRY13",
        "colab_type": "code",
        "colab": {}
      },
      "source": [
        "def display_stft_spectrograms(clips, breathing_in_displayed=False, breathing_out_displayed=False, title=None, spectrogram_width=20, spectrogram_height=4):\n",
        "  i = 0\n",
        "  fig, ax = plt.subplots(1, file_count, figsize=(spectrogram_width,spectrogram_height))\n",
        "\n",
        "  for j in range(len(clips)):\n",
        "    clip_stft = librosa.stft(clips[j], window='hamm')\n",
        "    clip_stft_mag, clip_stft_phase = librosa.magphase(clip_stft)\n",
        "    clip_stft_mag_db = librosa.amplitude_to_db(clip_stft_mag, ref=np.max)\n",
        "    \n",
        "    if(file_count == 1):\n",
        "      librosa.display.specshow(clip_stft_mag_db, x_axis='time', y_axis='linear', ax=ax)\n",
        "\n",
        "      ax.set_title(title + file_names[i] + \" --- yellow line for breathing in, red line for breathing out\")\n",
        "      \n",
        "      if(breathing_in_displayed):\n",
        "        for xline_breathing_in in xlines_breathing_in[j]:\n",
        "          ax.axvline(xline_breathing_in, c='y')\n",
        "      \n",
        "      if(breathing_out_displayed):\n",
        "        for xline_breathing_out in xlines_breathing_out[j]:\n",
        "          ax.axvline(xline_breathing_out, c='r') \n",
        "        \n",
        "    else:\n",
        "      librosa.display.specshow(clip_stft_mag_db, x_axis='time', y_axis='linear', ax=ax[i])\n",
        "      \n",
        "      ax[i].set_title(title + file_names[i] + \" --- yellow line for breathing in, red line for breathing out\")\n",
        "    \n",
        "      if(breathing_in_displayed):\n",
        "        for xline_breathing_in in xlines_breathing_in[j]:\n",
        "          ax[i].axvline(xline_breathing_in, c='y')\n",
        "      \n",
        "      if(breathing_out_displayed):\n",
        "        for xline_breathing_out in xlines_breathing_out[j]:\n",
        "          ax[i].axvline(xline_breathing_out, c='r') \n",
        "        \n",
        "    i=i+1"
      ],
      "execution_count": 0,
      "outputs": []
    },
    {
      "cell_type": "code",
      "metadata": {
        "id": "_tv1fOnayFbr",
        "colab_type": "code",
        "colab": {}
      },
      "source": [
        "def display_mel_spectrograms(clips, breathing_in_displayed=False, breathing_out_displayed=False, title=None, spectrogram_width=20, spectrogram_height=4):\n",
        "  i = 0\n",
        "  fig, ax = plt.subplots(1,file_count, figsize=(spectrogram_width,spectrogram_height))\n",
        "  \n",
        "  for j in range(len(clips)):\n",
        "    clip_mel_spec = librosa.feature.melspectrogram(clips[j])\n",
        "    clip_mel_spec_db = librosa.amplitude_to_db(clip_mel_spec, ref=np.max)\n",
        "    \n",
        "    if(file_count == 1):\n",
        "      librosa.display.specshow(clip_mel_spec_db, x_axis='time', y_axis='mel', ax=ax)\n",
        "      \n",
        "      ax.set_title(title + file_names[i] + \" --- yellow line for breathing in, red line for breathing out\")\n",
        "\n",
        "      if(breathing_in_displayed):\n",
        "        for xline_breathing_in in xlines_breathing_in[j]:\n",
        "          ax.axvline(xline_breathing_in, c='y')\n",
        "      \n",
        "      if(breathing_out_displayed):\n",
        "        for xline_breathing_out in xlines_breathing_out[j]:\n",
        "          ax.axvline(xline_breathing_out, c='r') \n",
        "        \n",
        "    else:\n",
        "      librosa.display.specshow(clip_mel_spec_db, x_axis='time', y_axis='linear', ax=ax[i])\n",
        "      \n",
        "      ax[i].set_title(title + file_names[i] + \" --- yellow line for breathing in, red line for breathing out\")\n",
        "      \n",
        "      if(breathing_in_displayed):\n",
        "        for xline_breathing_in in xlines_breathing_in[j]:\n",
        "          ax[i].axvline(xline_breathing_in, c='y')\n",
        "      \n",
        "      if(breathing_out_displayed):\n",
        "        for xline_breathing_out in xlines_breathing_out[j]:\n",
        "          ax[i].axvline(xline_breathing_out, c='r') \n",
        "          \n",
        "    i = i+1"
      ],
      "execution_count": 0,
      "outputs": []
    },
    {
      "cell_type": "markdown",
      "metadata": {
        "id": "1iye1X2QVoNV",
        "colab_type": "text"
      },
      "source": [
        "# **Pre-processing**"
      ]
    },
    {
      "cell_type": "code",
      "metadata": {
        "id": "Ot9TMTAoVtcR",
        "colab_type": "code",
        "colab": {}
      },
      "source": [
        "def bandpass_filter(clips, low_frequency=50, high_frequency=4000, order=6):\n",
        "  bandpass_filtered_clips = []\n",
        "  \n",
        "  for clip in clips:\n",
        "    \n",
        "    b,a=scipy.signal.butter(N=order, Wn=[2*low_frequency/sr, 2*high_frequency/sr], btype='band')\n",
        "    x = scipy.signal.lfilter(b,a,clip)\n",
        "    \n",
        "    bandpass_filtered_clips.append(np.array(x))\n",
        "  return bandpass_filtered_clips"
      ],
      "execution_count": 0,
      "outputs": []
    },
    {
      "cell_type": "code",
      "metadata": {
        "id": "-OV7zFepGTLS",
        "colab_type": "code",
        "colab": {}
      },
      "source": [
        "def pre_emphasize(clips):\n",
        "  pre_emphasized_clips = []\n",
        "  \n",
        "  for clip in clips:\n",
        "    pre_emphasized_clip = []\n",
        "    \n",
        "    for i in range(1, len(clip)-1):\n",
        "      pre_emphasized_sample = clip[i] - 0.96*clip[i-1]\n",
        "      pre_emphasized_clip.append(pre_emphasized_sample)\n",
        "      \n",
        "    pre_emphasized_clips.append(np.array(pre_emphasized_clip))\n",
        "    \n",
        "  return pre_emphasized_clips"
      ],
      "execution_count": 0,
      "outputs": []
    },
    {
      "cell_type": "code",
      "metadata": {
        "id": "0pGu_CwvWTpx",
        "colab_type": "code",
        "colab": {}
      },
      "source": [
        "def normalise(clips):\n",
        "  normalised_clips = []\n",
        "  \n",
        "  for clip in clips:   \n",
        "    normalised_clip = librosa.util.normalize(clip)\n",
        "    normalised_clips.append(normalised_clip)\n",
        "    \n",
        "  return normalised_clips   "
      ],
      "execution_count": 0,
      "outputs": []
    },
    {
      "cell_type": "code",
      "metadata": {
        "id": "ZrSuZ-Z5HAcV",
        "colab_type": "code",
        "colab": {}
      },
      "source": [
        "# could try segmentation size of 256 and 600\n",
        "def segment(clips, segmentation_size=256, overlapping_perc=0.25):\n",
        "  \n",
        "  segmented_clips = []\n",
        "  for clip in clips:\n",
        "    \n",
        "    segmented_clip = []\n",
        "    \n",
        "    for i in np.arange(0, len(clip), int(segmentation_size*(1-overlapping_perc))):\n",
        "        \n",
        "        segmentation_start_point = i\n",
        "        segmentation_end_point = segmentation_start_point + segmentation_size\n",
        "        \n",
        "        if(segmentation_end_point > len(clip)-1):\n",
        "          \n",
        "          extra_zeros = np.zeros((segmentation_end_point-len(clip))+1) \n",
        "          segmentation_end_point = len(clip)-1\n",
        "          \n",
        "        segmented_clip.append(np.array(clip[segmentation_start_point:segmentation_end_point]))\n",
        "        \n",
        "        if(segmentation_end_point == len(clip)-1):\n",
        "          segmented_clip[-1] = np.append(segmented_clip[-1], extra_zeros)\n",
        "          \n",
        "    segmented_clips.append(segmented_clip) \n",
        "  return segmented_clips"
      ],
      "execution_count": 0,
      "outputs": []
    },
    {
      "cell_type": "code",
      "metadata": {
        "id": "w2WtM687yM6J",
        "colab_type": "code",
        "colab": {}
      },
      "source": [
        "def hamming_window(clips):\n",
        "  \n",
        "  hamming_windowed_clips = []\n",
        "  for clip in clips:\n",
        "    \n",
        "    hamming_windowed_clip = []\n",
        "    for segmentation in clip:\n",
        "      len_hamming_window = len(segmentation)\n",
        "      hamming_window = np.hamming(len_hamming_window)\n",
        "      segmentation = segmentation * hamming_window\n",
        "      \n",
        "      hamming_windowed_clip.append(segmentation)\n",
        "      \n",
        "    hamming_windowed_clips.append(np.array(hamming_windowed_clip))\n",
        "  return hamming_windowed_clips    "
      ],
      "execution_count": 0,
      "outputs": []
    },
    {
      "cell_type": "code",
      "metadata": {
        "id": "PG6Q1izsKqh8",
        "colab_type": "code",
        "colab": {}
      },
      "source": [
        "def hilbert_transform(clips, emd_enabled=False, amplitude_envelope_returned=True, instantaneous_frequency_returned=False):\n",
        "  hilbert_transformed_clips = []\n",
        "  \n",
        "  for clip in clips:\n",
        "    \n",
        "    if(emd_enabled):\n",
        "      emd = pyhht.emd.EMD(clip, fixe=imf_iteration_limit)\n",
        "      imfs = emd.decompose()\n",
        "      #need to rework when having multiple imfs\n",
        "      hilbert_tranformed_clip = hilbert_transform_with_zero_padding(imfs[0], amplitude_envelope_returned, instantaneous_frequency_returned)\n",
        "    else:\n",
        "      hilbert_tranformed_clip = hilbert_transform_with_zero_padding(clip, amplitude_envelope_returned, instantaneous_frequency_returned)\n",
        "    hilbert_transformed_clips.append(hilbert_tranformed_clip)\n",
        "\n",
        "  return hilbert_transformed_clips"
      ],
      "execution_count": 0,
      "outputs": []
    },
    {
      "cell_type": "code",
      "metadata": {
        "id": "VwoFkSlVX4J1",
        "colab_type": "code",
        "colab": {}
      },
      "source": [
        "def hilbert_transform_with_zero_padding(signal, amplitude_envelope_returned=True, instantaneous_frequency_returned=False):\n",
        "  padding = np.zeros(int(2 ** np.ceil(np.log2(len(signal)))) - len(signal))\n",
        "  tohilbert = np.hstack((signal, padding))\n",
        "\n",
        "  analytic_signal = scipy.signal.hilbert(tohilbert)\n",
        "\n",
        "  analytic_signal = analytic_signal[0:len(signal)]\n",
        "  amplitude_envelope = np.abs(analytic_signal)\n",
        "  instantaneous_phase = np.unwrap(np.angle(analytic_signal))\n",
        "  instantaneous_frequency = (np.diff(instantaneous_phase) / (2.0*np.pi) * sr)\n",
        "\n",
        "  if(amplitude_envelope_returned):\n",
        "    return amplitude_envelope\n",
        "  \n",
        "  if(instantaneous_frequency_returned):\n",
        "    return instantaneous_frequency"
      ],
      "execution_count": 0,
      "outputs": []
    },
    {
      "cell_type": "markdown",
      "metadata": {
        "id": "NIj6mhuWMLVv",
        "colab_type": "text"
      },
      "source": [
        "# **Audio feature extraction**"
      ]
    },
    {
      "cell_type": "markdown",
      "metadata": {
        "id": "0SgDCJofMPju",
        "colab_type": "text"
      },
      "source": [
        "Energy"
      ]
    },
    {
      "cell_type": "code",
      "metadata": {
        "id": "Rdvo8uFtMRrn",
        "colab_type": "code",
        "colab": {}
      },
      "source": [
        "def get_segmentation_short_time_energy(clips):\n",
        "  clips_energy = []\n",
        "  for clip in clips:\n",
        "   \n",
        "    clip_energy = []\n",
        "    for segmentation in clip:\n",
        "      energy = np.sum(np.square(segmentation))\n",
        "      clip_energy.append(energy)\n",
        "    \n",
        "    normalized_clip_energy = clip_energy\n",
        "    clips_energy.append(np.array(normalized_clip_energy))\n",
        "  return clips_energy"
      ],
      "execution_count": 0,
      "outputs": []
    },
    {
      "cell_type": "markdown",
      "metadata": {
        "id": "Wkd6Ne_htngG",
        "colab_type": "text"
      },
      "source": [
        "Spectral bandwidth"
      ]
    },
    {
      "cell_type": "code",
      "metadata": {
        "id": "rDIOUizYODvd",
        "colab_type": "code",
        "colab": {}
      },
      "source": [
        "def get_segmentation_spectral_bandwidth(segmented_clips, plots_displayed=False):\n",
        "  clips_spectral_bandwidth = []\n",
        "  for clip in segmented_clips:\n",
        "    \n",
        "    clip_spectral_bandwidth = []\n",
        "    for segmentation in clip:\n",
        "      spectral_bandwidth = librosa.feature.spectral_bandwidth(segmentation, sr)\n",
        "      clip_spectral_bandwidth.append(spectral_bandwidth)\n",
        "    \n",
        "    clips_spectral_bandwidth.append(np.array(clip_spectral_bandwidth))\n",
        "  return clips_spectral_bandwidth"
      ],
      "execution_count": 0,
      "outputs": []
    },
    {
      "cell_type": "markdown",
      "metadata": {
        "id": "gFxfNW7Yuo1k",
        "colab_type": "text"
      },
      "source": [
        "Spectral rolloff"
      ]
    },
    {
      "cell_type": "code",
      "metadata": {
        "id": "2WDy7Uj3egkH",
        "colab_type": "code",
        "colab": {}
      },
      "source": [
        "def get_segmentation_spectral_rolloff(segmented_clips, plots_displayed=False):\n",
        "  clips_spectral_rolloff = []\n",
        "  for clip in segmented_clips:\n",
        "    \n",
        "    clip_spectral_rolloff = []\n",
        "    for segmentation in clip:\n",
        "      spectral_rolloff = librosa.feature.spectral_rolloff(segmentation, sr)\n",
        "      clip_spectral_rolloff.append(spectral_rolloff)\n",
        "    \n",
        "    clips_spectral_rolloff.append(np.array(clip_spectral_rolloff))\n",
        "  return clips_spectral_rolloff"
      ],
      "execution_count": 0,
      "outputs": []
    },
    {
      "cell_type": "markdown",
      "metadata": {
        "id": "hQhuW3CctxfE",
        "colab_type": "text"
      },
      "source": [
        "Spectral centroid"
      ]
    },
    {
      "cell_type": "code",
      "metadata": {
        "id": "skQxruXze7kK",
        "colab_type": "code",
        "colab": {}
      },
      "source": [
        "def get_segmentation_spectral_centroid(segmented_clips, plots_displayed=False):\n",
        "  clips_spectral_centroid = []\n",
        "  for clip in segmented_clips:\n",
        "    \n",
        "    clip_spectral_centroid = []\n",
        "    for segmentation in clip:\n",
        "      spectral_centroid = librosa.feature.spectral_centroid(segmentation, sr)\n",
        "      clip_spectral_centroid.append(spectral_centroid)\n",
        "    \n",
        "    clips_spectral_centroid.append(np.array(clip_spectral_centroid))\n",
        "  return clips_spectral_centroid"
      ],
      "execution_count": 0,
      "outputs": []
    },
    {
      "cell_type": "markdown",
      "metadata": {
        "id": "qtwzfaiefMbG",
        "colab_type": "text"
      },
      "source": [
        "Spectral contrast"
      ]
    },
    {
      "cell_type": "code",
      "metadata": {
        "id": "NULmL9n_g3J_",
        "colab_type": "code",
        "colab": {}
      },
      "source": [
        "def get_segmentation_spectral_contrast(segmented_clips, plots_displayed=False):\n",
        "  clips_spectral_contrast = []\n",
        "  for clip in segmented_clips:\n",
        "    \n",
        "    clip_spectral_contrast = []\n",
        "    for segmentation in clip:\n",
        "      spectral_contrast = librosa.feature.spectral_contrast(segmentation, sr)\n",
        "      clip_spectral_contrast.append(spectral_contrast)\n",
        "    \n",
        "    clips_spectral_contrast.append(np.array(clip_spectral_contrast))\n",
        "  return clips_spectral_contrast"
      ],
      "execution_count": 0,
      "outputs": []
    },
    {
      "cell_type": "markdown",
      "metadata": {
        "id": "IWnU1G3efMif",
        "colab_type": "text"
      },
      "source": [
        "Spectral flatness"
      ]
    },
    {
      "cell_type": "code",
      "metadata": {
        "id": "s9ANQv2-hR4I",
        "colab_type": "code",
        "colab": {}
      },
      "source": [
        "def get_segmentation_spectral_flatness(segmented_clips, plots_displayed=False):\n",
        "  clips_spectral_flatness = []\n",
        "  for clip in segmented_clips:\n",
        "    \n",
        "    clip_spectral_flatness = []\n",
        "    for segmentation in clip:\n",
        "      spectral_flatness = librosa.feature.spectral_flatness(segmentation)\n",
        "      clip_spectral_flatness.append(spectral_flatness)\n",
        "    \n",
        "    clips_spectral_flatness.append(np.array(clip_spectral_flatness))\n",
        "  return clips_spectral_flatness"
      ],
      "execution_count": 0,
      "outputs": []
    },
    {
      "cell_type": "markdown",
      "metadata": {
        "id": "ZZFq4Cmuk0um",
        "colab_type": "text"
      },
      "source": [
        "MFCC"
      ]
    },
    {
      "cell_type": "code",
      "metadata": {
        "id": "pE-_WJAOkyrx",
        "colab_type": "code",
        "colab": {}
      },
      "source": [
        "def get_segmentation_mfcc(segmented_clips, plots_displayed=False):\n",
        "  clips_mfcc = []\n",
        "  for clip in segmented_clips:\n",
        "    \n",
        "    clip_mfcc = []\n",
        "    for segmentation in clip:\n",
        "      mfcc = librosa.feature.mfcc(segmentation, sr)\n",
        "      clip_mfcc.append(mfcc)\n",
        "      \n",
        "    clips_mfcc.append(np.array(clip_mfcc))  \n",
        "  return clips_mfcc"
      ],
      "execution_count": 0,
      "outputs": []
    },
    {
      "cell_type": "markdown",
      "metadata": {
        "id": "a5fbg2VbuwtW",
        "colab_type": "text"
      },
      "source": [
        "MFCC delta"
      ]
    },
    {
      "cell_type": "code",
      "metadata": {
        "id": "hkNoqHYjji3P",
        "colab_type": "code",
        "colab": {}
      },
      "source": [
        "def get_segmentation_mfcc_delta(segmented_clips, mode='nearest', plots_displayed=False):\n",
        "  clips_mfcc_delta = []\n",
        "  for clip in segmented_clips:\n",
        "    \n",
        "    clip_mfcc_delta = []\n",
        "    for segmentation in clip:\n",
        "      mfcc = librosa.feature.mfcc(segmentation, sr)\n",
        "      mfcc_delta = librosa.feature.delta(mfcc, mode=mode)\n",
        "      clip_mfcc_delta.append(mfcc_delta)\n",
        "      \n",
        "    clips_mfcc_delta.append(np.array(clip_mfcc_delta))  \n",
        "  return clips_mfcc_delta"
      ],
      "execution_count": 0,
      "outputs": []
    },
    {
      "cell_type": "markdown",
      "metadata": {
        "id": "Sd0-UELXuzEA",
        "colab_type": "text"
      },
      "source": [
        "MFCC delta delta"
      ]
    },
    {
      "cell_type": "code",
      "metadata": {
        "id": "RJ_NDje9kMsn",
        "colab_type": "code",
        "colab": {}
      },
      "source": [
        "def get_segmentation_mfcc_delta_delta(segmented_clips, mode='nearest', plots_displayed=False):\n",
        "  clips_mfcc_delta_delta = []\n",
        "  for clip in segmented_clips:\n",
        "    \n",
        "    clip_mfcc_delta_delta = []\n",
        "    for segmentation in clip:\n",
        "      mfcc = librosa.feature.mfcc(segmentation, sr)\n",
        "      mfcc_delta_delta = librosa.feature.delta(mfcc, mode=mode, order=2)\n",
        "      clip_mfcc_delta_delta.append(mfcc_delta_delta)\n",
        "      \n",
        "    clips_mfcc_delta_delta.append(np.array(clip_mfcc_delta_delta))  \n",
        "  return clips_mfcc_delta_delta"
      ],
      "execution_count": 0,
      "outputs": []
    },
    {
      "cell_type": "markdown",
      "metadata": {
        "id": "0dTjbLWDMK7h",
        "colab_type": "text"
      },
      "source": [
        "Silent ratio (silent frame/total frame)"
      ]
    },
    {
      "cell_type": "markdown",
      "metadata": {
        "id": "ksuLcDjmMdV-",
        "colab_type": "text"
      },
      "source": [
        "Normalise all of the features on the training set"
      ]
    },
    {
      "cell_type": "markdown",
      "metadata": {
        "id": "mUURJX07x_lR",
        "colab_type": "text"
      },
      "source": [
        "# **Statistic feature extraction**"
      ]
    },
    {
      "cell_type": "code",
      "metadata": {
        "id": "dSb0G8o1yBqV",
        "colab_type": "code",
        "colab": {}
      },
      "source": [
        "def energy_filter(segmented_clips, clips_energy, energy_threshold=0.2):\n",
        "  clips_energy_positions_filtered = []\n",
        "  for clip_energy in clips_energy:\n",
        "    clips_energy_positions_filtered.append(np.asarray(np.where(clip_energy >= energy_threshold))[0])\n",
        "  \n",
        "  \n",
        "  segmented_clips_filtered = []\n",
        "  for i in range(len(segmented_clips)):\n",
        "    segmented_clip_filtered = []\n",
        "    for position in clips_energy_positions_filtered[i]:\n",
        "      segmented_clip_filtered.append(np.array(segmented_clips[i][position]))\n",
        "    segmented_clips_filtered.append(np.array(segmented_clip_filtered))\n",
        "\n",
        "  clips_energy_filtered = []\n",
        "  for i in range(len(clips_energy)):\n",
        "    clip_energy_filtered = []\n",
        "    for position in clips_energy_positions_filtered[i]:\n",
        "      clip_energy_filtered.append(np.array(clips_energy[i][position]))\n",
        "    clips_energy_filtered.append(np.array(clip_energy_filtered))\n",
        "  \n",
        "  return segmented_clips_filtered, clips_energy_filtered, clips_energy_positions_filtered"
      ],
      "execution_count": 0,
      "outputs": []
    },
    {
      "cell_type": "code",
      "metadata": {
        "id": "K9jXKLinpADC",
        "colab_type": "code",
        "colab": {}
      },
      "source": [
        "def get_feature_mean(segmented_clips_feature):\n",
        "  segmented_clips_feature_mean = []\n",
        "  for segmented_clip_feature in segmented_clips_feature:\n",
        "    \n",
        "    segmented_clip_feature_mean = []\n",
        "    for segmentation_feature in segmented_clip_feature:\n",
        "      mean_feature = np.mean(segmentation_feature)\n",
        "      segmented_clip_feature_mean.append(np.array(mean_feature))\n",
        "    \n",
        "    segmented_clips_feature_mean.append(np.array(segmented_clip_feature_mean))\n",
        "  return segmented_clips_feature_mean"
      ],
      "execution_count": 0,
      "outputs": []
    },
    {
      "cell_type": "code",
      "metadata": {
        "id": "t7xYvwyKpCBR",
        "colab_type": "code",
        "colab": {}
      },
      "source": [
        "def get_feature_std(segmented_clips_feature):\n",
        "  segmented_clips_feature_std = []\n",
        "  for segmented_clip_feature in segmented_clips_feature:\n",
        "    \n",
        "    segmented_clip_feature_std = []\n",
        "    for segmentation_feature in segmented_clip_feature:\n",
        "      std_feature = np.std(segmentation_feature)\n",
        "      segmented_clip_feature_std.append(np.array(std_feature))\n",
        "    \n",
        "    segmented_clips_feature_std.append(np.array(segmented_clip_feature_std))\n",
        "  return segmented_clips_feature_std"
      ],
      "execution_count": 0,
      "outputs": []
    },
    {
      "cell_type": "markdown",
      "metadata": {
        "id": "uAgL8uQyygOu",
        "colab_type": "text"
      },
      "source": [
        "# Completed pipelines"
      ]
    },
    {
      "cell_type": "code",
      "metadata": {
        "id": "wGxuOe7cywbO",
        "colab_type": "code",
        "colab": {}
      },
      "source": [
        "bandpass_filtered_clips = bandpass_filter(clips)\n",
        "pre_emphasized_clips = pre_emphasize(bandpass_filtered_clips)\n",
        "\n",
        "hilbert_transformed_clips = hilbert_transform(clips, emd_enabled=False, amplitude_envelope_returned=True, instantaneous_frequency_returned=False)\n",
        "normalised_clips = normalise(hilbert_transformed_clips)\n",
        "segmented_clips = segment(normalised_clips, segmentation_size, overlapping_perc)\n",
        "hamming_windowed_clips = hamming_window(segmented_clips)\n",
        "\n",
        "#filter voiced/non-voiced segmentation with time-series energy\n",
        "clips_energy = get_segmentation_short_time_energy(hamming_windowed_clips)\n",
        "segmented_clips_filtered_with_energy, _, _ = energy_filter(segmented_clips, clips_energy, 0.2)"
      ],
      "execution_count": 0,
      "outputs": []
    },
    {
      "cell_type": "code",
      "metadata": {
        "id": "xoUWtiRpy35A",
        "colab_type": "code",
        "colab": {}
      },
      "source": [
        "segmented_clips_spectral_bandwidth = get_segmentation_spectral_bandwidth(segmented_clips_filtered_with_energy)\n",
        "segmented_clips_spectral_rolloff = get_segmentation_spectral_rolloff(segmented_clips_filtered_with_energy)\n",
        "segmented_clips_spectral_centroid = get_segmentation_spectral_centroid(segmented_clips_filtered_with_energy)\n",
        "segmented_clips_spectral_contrast = get_segmentation_spectral_contrast(segmented_clips_filtered_with_energy)\n",
        "segmented_clips_spectral_flatness = get_segmentation_spectral_flatness(segmented_clips_filtered_with_energy)\n",
        "segmented_clips_spectral_mfcc = get_segmentation_mfcc(segmented_clips_filtered_with_energy)\n",
        "segmented_clips_spectral_mfcc_delta = get_segmentation_mfcc_delta(segmented_clips_filtered_with_energy)\n",
        "segmented_clips_spectral_mfcc_delta_delta = get_segmentation_mfcc_delta_delta(segmented_clips_filtered_with_energy)"
      ],
      "execution_count": 0,
      "outputs": []
    },
    {
      "cell_type": "markdown",
      "metadata": {
        "id": "DEGpuwchyWa5",
        "colab_type": "text"
      },
      "source": [
        "# **Plots for revisiting**"
      ]
    },
    {
      "cell_type": "code",
      "metadata": {
        "id": "g-ILl8l8zFdW",
        "colab_type": "code",
        "cellView": "form",
        "outputId": "5f951fe3-bb19-40df-e755-ca5b7d90be7a",
        "colab": {
          "base_uri": "https://localhost:8080/",
          "height": 659
        }
      },
      "source": [
        "#@title Default title text { run: \"auto\" }\n",
        "run_stft_plots = True #@param {type:\"boolean\"}\n",
        "\n",
        "\n",
        "energy_threshold = 5 #@param {type:\"number\"}\n",
        "clip_num = 1 #@param {type:\"integer\"}\n",
        "\n",
        "breathing_in_displayed = True #@param {type:\"boolean\"}\n",
        "breathing_out_displayed = True #@param {type:\"boolean\"}\n",
        "seg_pos_larger_than_energy_threshold_displayed = True #@param {type:\"boolean\"}\n",
        "\n",
        "\n",
        "if(run_stft_plots):\n",
        "  plt.figure(figsize=(20,5))\n",
        "  plt.plot(get_feature_mean(clips_energy)[clip_num])\n",
        "\n",
        "  results = []\n",
        "  for clip_energy in clips_energy:\n",
        "    results.append(np.asarray(np.where(get_feature_mean(clips_energy)[clip_num] > energy_threshold)[0]))\n",
        "\n",
        "  plt.title(\"clips_energy, segmentation that satisfy: \" + str(len(results[0])))\n",
        "\n",
        "  if(seg_pos_larger_than_energy_threshold_displayed):\n",
        "    plt.axhline(energy_threshold, c='g')\n",
        "    for r in results[clip_num]:\n",
        "      plt.axvline(r, c='b')\n",
        "\n",
        "  if breathing_out_displayed:\n",
        "    for x in xlines_breathing_out[clip_num]:\n",
        "      x = x / ((segmentation_size* (1-overlapping_perc)) / sr)\n",
        "      plt.axvline(x, c='r')\n",
        "\n",
        "  if breathing_in_displayed:\n",
        "    for x in xlines_breathing_in[clip_num]:\n",
        "      x = x / ((segmentation_size* (1-overlapping_perc)) / sr)\n",
        "      plt.axvline(x, c='y')\n",
        "\n",
        "\n",
        "  display_audio_waveform(np.array([clips[clip_num]]))\n",
        "\n",
        "  if(seg_pos_larger_than_energy_threshold_displayed):\n",
        "    for r in results[clip_num]:\n",
        "      v_pos = r * (segmentation_size* (1-overlapping_perc)) / sr\n",
        "      plt.axvline(v_pos, c='b')\n",
        "\n",
        "  if breathing_out_displayed:\n",
        "    for x in xlines_breathing_out[clip_num]:\n",
        "      plt.axvline(x, c='r')\n",
        "\n",
        "  if breathing_in_displayed:\n",
        "    for x in xlines_breathing_in[clip_num]:\n",
        "      plt.axvline(x, c='y')"
      ],
      "execution_count": 0,
      "outputs": [
        {
          "output_type": "execute_result",
          "data": {
            "text/plain": [
              "<Figure size 1440x360 with 0 Axes>"
            ]
          },
          "metadata": {
            "tags": []
          },
          "execution_count": 32
        },
        {
          "output_type": "execute_result",
          "data": {
            "text/plain": [
              "[<matplotlib.lines.Line2D at 0x7fcda62266d8>]"
            ]
          },
          "metadata": {
            "tags": []
          },
          "execution_count": 32
        },
        {
          "output_type": "execute_result",
          "data": {
            "text/plain": [
              "Text(0.5, 1.0, 'clips_energy, segmentation that satisfy: 20')"
            ]
          },
          "metadata": {
            "tags": []
          },
          "execution_count": 32
        },
        {
          "output_type": "execute_result",
          "data": {
            "text/plain": [
              "<matplotlib.lines.Line2D at 0x7fcda5e39f28>"
            ]
          },
          "metadata": {
            "tags": []
          },
          "execution_count": 32
        },
        {
          "output_type": "execute_result",
          "data": {
            "text/plain": [
              "<matplotlib.lines.Line2D at 0x7fcda6226908>"
            ]
          },
          "metadata": {
            "tags": []
          },
          "execution_count": 32
        },
        {
          "output_type": "execute_result",
          "data": {
            "text/plain": [
              "<matplotlib.lines.Line2D at 0x7fcda61a1ba8>"
            ]
          },
          "metadata": {
            "tags": []
          },
          "execution_count": 32
        },
        {
          "output_type": "execute_result",
          "data": {
            "text/plain": [
              "<matplotlib.lines.Line2D at 0x7fcda5e1a4a8>"
            ]
          },
          "metadata": {
            "tags": []
          },
          "execution_count": 32
        },
        {
          "output_type": "execute_result",
          "data": {
            "text/plain": [
              "<matplotlib.lines.Line2D at 0x7fcda5e1a898>"
            ]
          },
          "metadata": {
            "tags": []
          },
          "execution_count": 32
        },
        {
          "output_type": "execute_result",
          "data": {
            "text/plain": [
              "<matplotlib.lines.Line2D at 0x7fcda5e1ac88>"
            ]
          },
          "metadata": {
            "tags": []
          },
          "execution_count": 32
        },
        {
          "output_type": "execute_result",
          "data": {
            "text/plain": [
              "<matplotlib.lines.Line2D at 0x7fcda6226160>"
            ]
          },
          "metadata": {
            "tags": []
          },
          "execution_count": 32
        },
        {
          "output_type": "execute_result",
          "data": {
            "text/plain": [
              "<matplotlib.lines.Line2D at 0x7fcda5e234a8>"
            ]
          },
          "metadata": {
            "tags": []
          },
          "execution_count": 32
        },
        {
          "output_type": "execute_result",
          "data": {
            "text/plain": [
              "<matplotlib.lines.Line2D at 0x7fcda5e23898>"
            ]
          },
          "metadata": {
            "tags": []
          },
          "execution_count": 32
        },
        {
          "output_type": "execute_result",
          "data": {
            "text/plain": [
              "<matplotlib.lines.Line2D at 0x7fcda5e23c88>"
            ]
          },
          "metadata": {
            "tags": []
          },
          "execution_count": 32
        },
        {
          "output_type": "execute_result",
          "data": {
            "text/plain": [
              "<matplotlib.lines.Line2D at 0x7fcda5e1ad68>"
            ]
          },
          "metadata": {
            "tags": []
          },
          "execution_count": 32
        },
        {
          "output_type": "execute_result",
          "data": {
            "text/plain": [
              "<matplotlib.lines.Line2D at 0x7fcda5e2a4a8>"
            ]
          },
          "metadata": {
            "tags": []
          },
          "execution_count": 32
        },
        {
          "output_type": "execute_result",
          "data": {
            "text/plain": [
              "<matplotlib.lines.Line2D at 0x7fcda5e2a898>"
            ]
          },
          "metadata": {
            "tags": []
          },
          "execution_count": 32
        },
        {
          "output_type": "execute_result",
          "data": {
            "text/plain": [
              "<matplotlib.lines.Line2D at 0x7fcda5e2ac88>"
            ]
          },
          "metadata": {
            "tags": []
          },
          "execution_count": 32
        },
        {
          "output_type": "execute_result",
          "data": {
            "text/plain": [
              "<matplotlib.lines.Line2D at 0x7fcda5e23d68>"
            ]
          },
          "metadata": {
            "tags": []
          },
          "execution_count": 32
        },
        {
          "output_type": "execute_result",
          "data": {
            "text/plain": [
              "<matplotlib.lines.Line2D at 0x7fcda5e2b4a8>"
            ]
          },
          "metadata": {
            "tags": []
          },
          "execution_count": 32
        },
        {
          "output_type": "execute_result",
          "data": {
            "text/plain": [
              "<matplotlib.lines.Line2D at 0x7fcda5e2b898>"
            ]
          },
          "metadata": {
            "tags": []
          },
          "execution_count": 32
        },
        {
          "output_type": "execute_result",
          "data": {
            "text/plain": [
              "<matplotlib.lines.Line2D at 0x7fcda5e2bc88>"
            ]
          },
          "metadata": {
            "tags": []
          },
          "execution_count": 32
        },
        {
          "output_type": "execute_result",
          "data": {
            "text/plain": [
              "<matplotlib.lines.Line2D at 0x7fcda5e2ad68>"
            ]
          },
          "metadata": {
            "tags": []
          },
          "execution_count": 32
        },
        {
          "output_type": "execute_result",
          "data": {
            "text/plain": [
              "<matplotlib.lines.Line2D at 0x7fcda35b54a8>"
            ]
          },
          "metadata": {
            "tags": []
          },
          "execution_count": 32
        },
        {
          "output_type": "execute_result",
          "data": {
            "text/plain": [
              "<matplotlib.lines.Line2D at 0x7fcda35b58d0>"
            ]
          },
          "metadata": {
            "tags": []
          },
          "execution_count": 32
        },
        {
          "output_type": "execute_result",
          "data": {
            "text/plain": [
              "<matplotlib.lines.Line2D at 0x7fcda35b5a20>"
            ]
          },
          "metadata": {
            "tags": []
          },
          "execution_count": 32
        },
        {
          "output_type": "execute_result",
          "data": {
            "text/plain": [
              "<matplotlib.lines.Line2D at 0x7fcda35b5f98>"
            ]
          },
          "metadata": {
            "tags": []
          },
          "execution_count": 32
        },
        {
          "output_type": "execute_result",
          "data": {
            "text/plain": [
              "<matplotlib.lines.Line2D at 0x7fcda35b94a8>"
            ]
          },
          "metadata": {
            "tags": []
          },
          "execution_count": 32
        },
        {
          "output_type": "execute_result",
          "data": {
            "text/plain": [
              "<matplotlib.lines.Line2D at 0x7fcda35b9630>"
            ]
          },
          "metadata": {
            "tags": []
          },
          "execution_count": 32
        },
        {
          "output_type": "execute_result",
          "data": {
            "text/plain": [
              "<matplotlib.lines.Line2D at 0x7fcda35b9c18>"
            ]
          },
          "metadata": {
            "tags": []
          },
          "execution_count": 32
        },
        {
          "output_type": "execute_result",
          "data": {
            "text/plain": [
              "<matplotlib.lines.Line2D at 0x7fcda35b9fd0>"
            ]
          },
          "metadata": {
            "tags": []
          },
          "execution_count": 32
        },
        {
          "output_type": "execute_result",
          "data": {
            "text/plain": [
              "<matplotlib.lines.Line2D at 0x7fcda35c7438>"
            ]
          },
          "metadata": {
            "tags": []
          },
          "execution_count": 32
        },
        {
          "output_type": "execute_result",
          "data": {
            "text/plain": [
              "<matplotlib.lines.Line2D at 0x7fcda35c7828>"
            ]
          },
          "metadata": {
            "tags": []
          },
          "execution_count": 32
        },
        {
          "output_type": "execute_result",
          "data": {
            "text/plain": [
              "<matplotlib.lines.Line2D at 0x7fcda35c7c18>"
            ]
          },
          "metadata": {
            "tags": []
          },
          "execution_count": 32
        },
        {
          "output_type": "execute_result",
          "data": {
            "text/plain": [
              "<matplotlib.lines.Line2D at 0x7fcda35c7fd0>"
            ]
          },
          "metadata": {
            "tags": []
          },
          "execution_count": 32
        },
        {
          "output_type": "execute_result",
          "data": {
            "text/plain": [
              "<matplotlib.lines.Line2D at 0x7fcda35cf400>"
            ]
          },
          "metadata": {
            "tags": []
          },
          "execution_count": 32
        },
        {
          "output_type": "execute_result",
          "data": {
            "text/plain": [
              "<matplotlib.lines.Line2D at 0x7fcda35cf710>"
            ]
          },
          "metadata": {
            "tags": []
          },
          "execution_count": 32
        },
        {
          "output_type": "execute_result",
          "data": {
            "text/plain": [
              "<matplotlib.lines.Line2D at 0x7fcda35cfc18>"
            ]
          },
          "metadata": {
            "tags": []
          },
          "execution_count": 32
        },
        {
          "output_type": "execute_result",
          "data": {
            "text/plain": [
              "<matplotlib.lines.Line2D at 0x7fcda35cfda0>"
            ]
          },
          "metadata": {
            "tags": []
          },
          "execution_count": 32
        },
        {
          "output_type": "execute_result",
          "data": {
            "text/plain": [
              "<matplotlib.lines.Line2D at 0x7fcda35db438>"
            ]
          },
          "metadata": {
            "tags": []
          },
          "execution_count": 32
        },
        {
          "output_type": "execute_result",
          "data": {
            "text/plain": [
              "<matplotlib.lines.Line2D at 0x7fcda35db828>"
            ]
          },
          "metadata": {
            "tags": []
          },
          "execution_count": 32
        },
        {
          "output_type": "execute_result",
          "data": {
            "text/plain": [
              "<matplotlib.lines.Line2D at 0x7fcda35dbc88>"
            ]
          },
          "metadata": {
            "tags": []
          },
          "execution_count": 32
        },
        {
          "output_type": "execute_result",
          "data": {
            "text/plain": [
              "<matplotlib.lines.Line2D at 0x7fcda35dbda0>"
            ]
          },
          "metadata": {
            "tags": []
          },
          "execution_count": 32
        },
        {
          "output_type": "execute_result",
          "data": {
            "text/plain": [
              "<matplotlib.lines.Line2D at 0x7fcda35e5390>"
            ]
          },
          "metadata": {
            "tags": []
          },
          "execution_count": 32
        },
        {
          "output_type": "execute_result",
          "data": {
            "text/plain": [
              "<matplotlib.lines.Line2D at 0x7fcda35e5860>"
            ]
          },
          "metadata": {
            "tags": []
          },
          "execution_count": 32
        },
        {
          "output_type": "execute_result",
          "data": {
            "text/plain": [
              "<matplotlib.lines.Line2D at 0x7fcda35e5c88>"
            ]
          },
          "metadata": {
            "tags": []
          },
          "execution_count": 32
        },
        {
          "output_type": "execute_result",
          "data": {
            "text/plain": [
              "<matplotlib.lines.Line2D at 0x7fcda35e5f60>"
            ]
          },
          "metadata": {
            "tags": []
          },
          "execution_count": 32
        },
        {
          "output_type": "execute_result",
          "data": {
            "text/plain": [
              "<matplotlib.lines.Line2D at 0x7fcda357e438>"
            ]
          },
          "metadata": {
            "tags": []
          },
          "execution_count": 32
        },
        {
          "output_type": "execute_result",
          "data": {
            "text/plain": [
              "<matplotlib.lines.Line2D at 0x7fcda357e828>"
            ]
          },
          "metadata": {
            "tags": []
          },
          "execution_count": 32
        },
        {
          "output_type": "execute_result",
          "data": {
            "text/plain": [
              "<matplotlib.lines.Line2D at 0x7fcda357ec18>"
            ]
          },
          "metadata": {
            "tags": []
          },
          "execution_count": 32
        },
        {
          "output_type": "execute_result",
          "data": {
            "text/plain": [
              "<matplotlib.lines.Line2D at 0x7fcda357ef60>"
            ]
          },
          "metadata": {
            "tags": []
          },
          "execution_count": 32
        },
        {
          "output_type": "execute_result",
          "data": {
            "text/plain": [
              "<matplotlib.lines.Line2D at 0x7fcda3587438>"
            ]
          },
          "metadata": {
            "tags": []
          },
          "execution_count": 32
        },
        {
          "output_type": "execute_result",
          "data": {
            "text/plain": [
              "<matplotlib.lines.Line2D at 0x7fcda3587828>"
            ]
          },
          "metadata": {
            "tags": []
          },
          "execution_count": 32
        },
        {
          "output_type": "execute_result",
          "data": {
            "text/plain": [
              "<matplotlib.lines.Line2D at 0x7fcda3587c18>"
            ]
          },
          "metadata": {
            "tags": []
          },
          "execution_count": 32
        },
        {
          "output_type": "execute_result",
          "data": {
            "text/plain": [
              "<matplotlib.lines.Line2D at 0x7fcda3587da0>"
            ]
          },
          "metadata": {
            "tags": []
          },
          "execution_count": 32
        },
        {
          "output_type": "execute_result",
          "data": {
            "text/plain": [
              "<matplotlib.lines.Line2D at 0x7fcda3586438>"
            ]
          },
          "metadata": {
            "tags": []
          },
          "execution_count": 32
        },
        {
          "output_type": "execute_result",
          "data": {
            "text/plain": [
              "<matplotlib.lines.Line2D at 0x7fcda3586828>"
            ]
          },
          "metadata": {
            "tags": []
          },
          "execution_count": 32
        },
        {
          "output_type": "execute_result",
          "data": {
            "text/plain": [
              "<matplotlib.lines.Line2D at 0x7fcda3586c18>"
            ]
          },
          "metadata": {
            "tags": []
          },
          "execution_count": 32
        },
        {
          "output_type": "execute_result",
          "data": {
            "text/plain": [
              "<matplotlib.lines.Line2D at 0x7fcda3586fd0>"
            ]
          },
          "metadata": {
            "tags": []
          },
          "execution_count": 32
        },
        {
          "output_type": "execute_result",
          "data": {
            "text/plain": [
              "<matplotlib.lines.Line2D at 0x7fcda3591438>"
            ]
          },
          "metadata": {
            "tags": []
          },
          "execution_count": 32
        },
        {
          "output_type": "execute_result",
          "data": {
            "text/plain": [
              "<matplotlib.lines.Line2D at 0x7fcda3591828>"
            ]
          },
          "metadata": {
            "tags": []
          },
          "execution_count": 32
        },
        {
          "output_type": "execute_result",
          "data": {
            "text/plain": [
              "<matplotlib.lines.Line2D at 0x7fcda3591be0>"
            ]
          },
          "metadata": {
            "tags": []
          },
          "execution_count": 32
        },
        {
          "output_type": "execute_result",
          "data": {
            "text/plain": [
              "<matplotlib.lines.Line2D at 0x7fcda3591f60>"
            ]
          },
          "metadata": {
            "tags": []
          },
          "execution_count": 32
        },
        {
          "output_type": "execute_result",
          "data": {
            "text/plain": [
              "<matplotlib.lines.Line2D at 0x7fcda35a9438>"
            ]
          },
          "metadata": {
            "tags": []
          },
          "execution_count": 32
        },
        {
          "output_type": "execute_result",
          "data": {
            "text/plain": [
              "<matplotlib.lines.Line2D at 0x7fcda35a9828>"
            ]
          },
          "metadata": {
            "tags": []
          },
          "execution_count": 32
        },
        {
          "output_type": "execute_result",
          "data": {
            "text/plain": [
              "<matplotlib.lines.Line2D at 0x7fcda35a9a20>"
            ]
          },
          "metadata": {
            "tags": []
          },
          "execution_count": 32
        },
        {
          "output_type": "execute_result",
          "data": {
            "text/plain": [
              "<matplotlib.lines.Line2D at 0x7fcda35a9fd0>"
            ]
          },
          "metadata": {
            "tags": []
          },
          "execution_count": 32
        },
        {
          "output_type": "execute_result",
          "data": {
            "text/plain": [
              "<matplotlib.lines.Line2D at 0x7fcda35366d8>"
            ]
          },
          "metadata": {
            "tags": []
          },
          "execution_count": 32
        },
        {
          "output_type": "execute_result",
          "data": {
            "text/plain": [
              "<matplotlib.lines.Line2D at 0x7fcda355c518>"
            ]
          },
          "metadata": {
            "tags": []
          },
          "execution_count": 32
        },
        {
          "output_type": "execute_result",
          "data": {
            "text/plain": [
              "<matplotlib.lines.Line2D at 0x7fcda355c908>"
            ]
          },
          "metadata": {
            "tags": []
          },
          "execution_count": 32
        },
        {
          "output_type": "execute_result",
          "data": {
            "text/plain": [
              "<matplotlib.lines.Line2D at 0x7fcda355cda0>"
            ]
          },
          "metadata": {
            "tags": []
          },
          "execution_count": 32
        },
        {
          "output_type": "execute_result",
          "data": {
            "text/plain": [
              "<matplotlib.lines.Line2D at 0x7fcda35650f0>"
            ]
          },
          "metadata": {
            "tags": []
          },
          "execution_count": 32
        },
        {
          "output_type": "execute_result",
          "data": {
            "text/plain": [
              "<matplotlib.lines.Line2D at 0x7fcda3565550>"
            ]
          },
          "metadata": {
            "tags": []
          },
          "execution_count": 32
        },
        {
          "output_type": "execute_result",
          "data": {
            "text/plain": [
              "<matplotlib.lines.Line2D at 0x7fcda3565940>"
            ]
          },
          "metadata": {
            "tags": []
          },
          "execution_count": 32
        },
        {
          "output_type": "execute_result",
          "data": {
            "text/plain": [
              "<matplotlib.lines.Line2D at 0x7fcda3565e10>"
            ]
          },
          "metadata": {
            "tags": []
          },
          "execution_count": 32
        },
        {
          "output_type": "execute_result",
          "data": {
            "text/plain": [
              "<matplotlib.lines.Line2D at 0x7fcda3565f28>"
            ]
          },
          "metadata": {
            "tags": []
          },
          "execution_count": 32
        },
        {
          "output_type": "execute_result",
          "data": {
            "text/plain": [
              "<matplotlib.lines.Line2D at 0x7fcda3574550>"
            ]
          },
          "metadata": {
            "tags": []
          },
          "execution_count": 32
        },
        {
          "output_type": "execute_result",
          "data": {
            "text/plain": [
              "<matplotlib.lines.Line2D at 0x7fcda3574940>"
            ]
          },
          "metadata": {
            "tags": []
          },
          "execution_count": 32
        },
        {
          "output_type": "execute_result",
          "data": {
            "text/plain": [
              "<matplotlib.lines.Line2D at 0x7fcda3574ac8>"
            ]
          },
          "metadata": {
            "tags": []
          },
          "execution_count": 32
        },
        {
          "output_type": "execute_result",
          "data": {
            "text/plain": [
              "<matplotlib.lines.Line2D at 0x7fcda3574d30>"
            ]
          },
          "metadata": {
            "tags": []
          },
          "execution_count": 32
        },
        {
          "output_type": "execute_result",
          "data": {
            "text/plain": [
              "<matplotlib.lines.Line2D at 0x7fcda3502550>"
            ]
          },
          "metadata": {
            "tags": []
          },
          "execution_count": 32
        },
        {
          "output_type": "execute_result",
          "data": {
            "text/plain": [
              "<matplotlib.lines.Line2D at 0x7fcda3502748>"
            ]
          },
          "metadata": {
            "tags": []
          },
          "execution_count": 32
        },
        {
          "output_type": "execute_result",
          "data": {
            "text/plain": [
              "<matplotlib.lines.Line2D at 0x7fcda3502b38>"
            ]
          },
          "metadata": {
            "tags": []
          },
          "execution_count": 32
        },
        {
          "output_type": "execute_result",
          "data": {
            "text/plain": [
              "<matplotlib.lines.Line2D at 0x7fcda3502f28>"
            ]
          },
          "metadata": {
            "tags": []
          },
          "execution_count": 32
        },
        {
          "output_type": "execute_result",
          "data": {
            "text/plain": [
              "<matplotlib.lines.Line2D at 0x7fcda3503550>"
            ]
          },
          "metadata": {
            "tags": []
          },
          "execution_count": 32
        },
        {
          "output_type": "execute_result",
          "data": {
            "text/plain": [
              "<matplotlib.lines.Line2D at 0x7fcda3503940>"
            ]
          },
          "metadata": {
            "tags": []
          },
          "execution_count": 32
        },
        {
          "output_type": "execute_result",
          "data": {
            "text/plain": [
              "<matplotlib.lines.Line2D at 0x7fcda3502eb8>"
            ]
          },
          "metadata": {
            "tags": []
          },
          "execution_count": 32
        },
        {
          "output_type": "execute_result",
          "data": {
            "text/plain": [
              "<matplotlib.lines.Line2D at 0x7fcda350e0f0>"
            ]
          },
          "metadata": {
            "tags": []
          },
          "execution_count": 32
        },
        {
          "output_type": "execute_result",
          "data": {
            "text/plain": [
              "<matplotlib.lines.Line2D at 0x7fcda350e4a8>"
            ]
          },
          "metadata": {
            "tags": []
          },
          "execution_count": 32
        },
        {
          "output_type": "execute_result",
          "data": {
            "text/plain": [
              "<matplotlib.lines.Line2D at 0x7fcda350e748>"
            ]
          },
          "metadata": {
            "tags": []
          },
          "execution_count": 32
        },
        {
          "output_type": "execute_result",
          "data": {
            "text/plain": [
              "<matplotlib.lines.Line2D at 0x7fcda350ecf8>"
            ]
          },
          "metadata": {
            "tags": []
          },
          "execution_count": 32
        },
        {
          "output_type": "execute_result",
          "data": {
            "text/plain": [
              "<matplotlib.lines.Line2D at 0x7fcda350eb38>"
            ]
          },
          "metadata": {
            "tags": []
          },
          "execution_count": 32
        },
        {
          "output_type": "execute_result",
          "data": {
            "text/plain": [
              "<matplotlib.lines.Line2D at 0x7fcda351a550>"
            ]
          },
          "metadata": {
            "tags": []
          },
          "execution_count": 32
        },
        {
          "output_type": "execute_result",
          "data": {
            "text/plain": [
              "<matplotlib.lines.Line2D at 0x7fcda351a940>"
            ]
          },
          "metadata": {
            "tags": []
          },
          "execution_count": 32
        },
        {
          "output_type": "execute_result",
          "data": {
            "text/plain": [
              "<matplotlib.lines.Line2D at 0x7fcda351ab38>"
            ]
          },
          "metadata": {
            "tags": []
          },
          "execution_count": 32
        },
        {
          "output_type": "execute_result",
          "data": {
            "text/plain": [
              "<matplotlib.lines.Line2D at 0x7fcda3524160>"
            ]
          },
          "metadata": {
            "tags": []
          },
          "execution_count": 32
        },
        {
          "output_type": "execute_result",
          "data": {
            "text/plain": [
              "<matplotlib.lines.Line2D at 0x7fcda3524518>"
            ]
          },
          "metadata": {
            "tags": []
          },
          "execution_count": 32
        },
        {
          "output_type": "execute_result",
          "data": {
            "text/plain": [
              "<matplotlib.lines.Line2D at 0x7fcda3524940>"
            ]
          },
          "metadata": {
            "tags": []
          },
          "execution_count": 32
        },
        {
          "output_type": "execute_result",
          "data": {
            "text/plain": [
              "<matplotlib.lines.Line2D at 0x7fcda3524d30>"
            ]
          },
          "metadata": {
            "tags": []
          },
          "execution_count": 32
        },
        {
          "output_type": "execute_result",
          "data": {
            "text/plain": [
              "<matplotlib.lines.Line2D at 0x7fcda3524f28>"
            ]
          },
          "metadata": {
            "tags": []
          },
          "execution_count": 32
        },
        {
          "output_type": "execute_result",
          "data": {
            "text/plain": [
              "<matplotlib.lines.Line2D at 0x7fcda3532550>"
            ]
          },
          "metadata": {
            "tags": []
          },
          "execution_count": 32
        },
        {
          "output_type": "execute_result",
          "data": {
            "text/plain": [
              "<matplotlib.lines.Line2D at 0x7fcda3532940>"
            ]
          },
          "metadata": {
            "tags": []
          },
          "execution_count": 32
        },
        {
          "output_type": "execute_result",
          "data": {
            "text/plain": [
              "<matplotlib.lines.Line2D at 0x7fcda3532d30>"
            ]
          },
          "metadata": {
            "tags": []
          },
          "execution_count": 32
        },
        {
          "output_type": "execute_result",
          "data": {
            "text/plain": [
              "<matplotlib.lines.Line2D at 0x7fcda3532c50>"
            ]
          },
          "metadata": {
            "tags": []
          },
          "execution_count": 32
        },
        {
          "output_type": "execute_result",
          "data": {
            "text/plain": [
              "<matplotlib.lines.Line2D at 0x7fcda34b9550>"
            ]
          },
          "metadata": {
            "tags": []
          },
          "execution_count": 32
        },
        {
          "output_type": "execute_result",
          "data": {
            "text/plain": [
              "<matplotlib.lines.Line2D at 0x7fcda34b9940>"
            ]
          },
          "metadata": {
            "tags": []
          },
          "execution_count": 32
        },
        {
          "output_type": "execute_result",
          "data": {
            "text/plain": [
              "<matplotlib.lines.Line2D at 0x7fcda34b9b38>"
            ]
          },
          "metadata": {
            "tags": []
          },
          "execution_count": 32
        },
        {
          "output_type": "execute_result",
          "data": {
            "text/plain": [
              "<matplotlib.lines.Line2D at 0x7fcda34b9cf8>"
            ]
          },
          "metadata": {
            "tags": []
          },
          "execution_count": 32
        },
        {
          "output_type": "execute_result",
          "data": {
            "text/plain": [
              "<matplotlib.lines.Line2D at 0x7fcda34c22e8>"
            ]
          },
          "metadata": {
            "tags": []
          },
          "execution_count": 32
        },
        {
          "output_type": "execute_result",
          "data": {
            "text/plain": [
              "<matplotlib.lines.Line2D at 0x7fcda34c2940>"
            ]
          },
          "metadata": {
            "tags": []
          },
          "execution_count": 32
        },
        {
          "output_type": "execute_result",
          "data": {
            "text/plain": [
              "<matplotlib.lines.Line2D at 0x7fcda34c2b38>"
            ]
          },
          "metadata": {
            "tags": []
          },
          "execution_count": 32
        },
        {
          "output_type": "execute_result",
          "data": {
            "text/plain": [
              "<matplotlib.lines.Line2D at 0x7fcda34c2f28>"
            ]
          },
          "metadata": {
            "tags": []
          },
          "execution_count": 32
        },
        {
          "output_type": "execute_result",
          "data": {
            "text/plain": [
              "<matplotlib.lines.Line2D at 0x7fcda34d94e0>"
            ]
          },
          "metadata": {
            "tags": []
          },
          "execution_count": 32
        },
        {
          "output_type": "execute_result",
          "data": {
            "text/plain": [
              "<matplotlib.lines.Line2D at 0x7fcda34d9940>"
            ]
          },
          "metadata": {
            "tags": []
          },
          "execution_count": 32
        },
        {
          "output_type": "execute_result",
          "data": {
            "text/plain": [
              "<matplotlib.lines.Line2D at 0x7fcda34d9cc0>"
            ]
          },
          "metadata": {
            "tags": []
          },
          "execution_count": 32
        },
        {
          "output_type": "execute_result",
          "data": {
            "text/plain": [
              "<matplotlib.lines.Line2D at 0x7fcda34d9f28>"
            ]
          },
          "metadata": {
            "tags": []
          },
          "execution_count": 32
        },
        {
          "output_type": "execute_result",
          "data": {
            "text/plain": [
              "<matplotlib.lines.Line2D at 0x7fcda34db550>"
            ]
          },
          "metadata": {
            "tags": []
          },
          "execution_count": 32
        },
        {
          "output_type": "execute_result",
          "data": {
            "text/plain": [
              "<matplotlib.lines.Line2D at 0x7fcda34c2eb8>"
            ]
          },
          "metadata": {
            "tags": []
          },
          "execution_count": 32
        },
        {
          "output_type": "execute_result",
          "data": {
            "text/plain": [
              "<matplotlib.lines.Line2D at 0x7fcda34dbd68>"
            ]
          },
          "metadata": {
            "tags": []
          },
          "execution_count": 32
        },
        {
          "output_type": "execute_result",
          "data": {
            "text/plain": [
              "<matplotlib.lines.Line2D at 0x7fcda34e4160>"
            ]
          },
          "metadata": {
            "tags": []
          },
          "execution_count": 32
        },
        {
          "output_type": "execute_result",
          "data": {
            "text/plain": [
              "<matplotlib.lines.Line2D at 0x7fcda34e4518>"
            ]
          },
          "metadata": {
            "tags": []
          },
          "execution_count": 32
        },
        {
          "output_type": "execute_result",
          "data": {
            "text/plain": [
              "<matplotlib.lines.Line2D at 0x7fcda34e4748>"
            ]
          },
          "metadata": {
            "tags": []
          },
          "execution_count": 32
        },
        {
          "output_type": "execute_result",
          "data": {
            "text/plain": [
              "<matplotlib.lines.Line2D at 0x7fcda34e4b38>"
            ]
          },
          "metadata": {
            "tags": []
          },
          "execution_count": 32
        },
        {
          "output_type": "execute_result",
          "data": {
            "text/plain": [
              "<matplotlib.lines.Line2D at 0x7fcda34e4d30>"
            ]
          },
          "metadata": {
            "tags": []
          },
          "execution_count": 32
        },
        {
          "output_type": "execute_result",
          "data": {
            "text/plain": [
              "<matplotlib.lines.Line2D at 0x7fcda34f3550>"
            ]
          },
          "metadata": {
            "tags": []
          },
          "execution_count": 32
        },
        {
          "output_type": "execute_result",
          "data": {
            "text/plain": [
              "<matplotlib.lines.Line2D at 0x7fcda34f3748>"
            ]
          },
          "metadata": {
            "tags": []
          },
          "execution_count": 32
        },
        {
          "output_type": "execute_result",
          "data": {
            "text/plain": [
              "<matplotlib.lines.Line2D at 0x7fcda34f3b38>"
            ]
          },
          "metadata": {
            "tags": []
          },
          "execution_count": 32
        },
        {
          "output_type": "execute_result",
          "data": {
            "text/plain": [
              "<matplotlib.lines.Line2D at 0x7fcda34f3cf8>"
            ]
          },
          "metadata": {
            "tags": []
          },
          "execution_count": 32
        },
        {
          "output_type": "execute_result",
          "data": {
            "text/plain": [
              "<matplotlib.lines.Line2D at 0x7fcda347b550>"
            ]
          },
          "metadata": {
            "tags": []
          },
          "execution_count": 32
        },
        {
          "output_type": "display_data",
          "data": {
            "image/png": "[encoded data removed]",
            "text/plain": [
              "<Figure size 1440x360 with 1 Axes>"
            ]
          },
          "metadata": {
            "tags": []
          }
        },
        {
          "output_type": "display_data",
          "data": {
            "image/png": "[encoded data removed]",
            "text/plain": [
              "<Figure size 1440x288 with 1 Axes>"
            ]
          },
          "metadata": {
            "tags": []
          }
        }
      ]
    },
    {
      "cell_type": "code",
      "metadata": {
        "colab_type": "code",
        "cellView": "both",
        "id": "p9uf1J0bMXXC",
        "colab": {}
      },
      "source": [
        "#@title Display spectrogram of the signal with breathing_in and breathing_out markers { run: \"auto\", vertical-output: true }\n",
        "run_mel_plots = False #@param {type:\"boolean\"}\n",
        "\n",
        "breathing_in_displayed = False #@param {type:\"boolean\"}\n",
        "breathing_out_displayed = True #@param {type:\"boolean\"}\n",
        "spectrogram_width = 40 #@param {type:\"integer\"}\n",
        "spectrogram_height = 4 #@param {type:\"integer\"}\n",
        "plot_type = \"normalised_clips\" #@param [\"None\",\"clips\", \"filtered_clips\", \"pre_emphasized_clips\", \"normalised_clips\", \"all\"]\n",
        "\n",
        "if(run_mel_plots):\n",
        "  filtered_clips = bandpass_filter(clips)\n",
        "  pre_emphasized_clips = pre_emphasize(filtered_clips)\n",
        "  normalised_clips = normalise(pre_emphasized_clips)\n",
        "\n",
        "\n",
        "  if(plot_type == 'clips'):\n",
        "    display_stft_spectrograms(clips, breathing_in_displayed, breathing_out_displayed, \"clips\", spectrogram_width, spectrogram_height)\n",
        "    display_mel_spectrograms(clips, breathing_in_displayed, breathing_out_displayed, \"clips\", spectrogram_width, spectrogram_height)\n",
        "\n",
        "  if(plot_type == 'filtered_clips'):\n",
        "    display_stft_spectrograms(filtered_clips, breathing_in_displayed, breathing_out_displayed, \"filtered_clips\", spectrogram_width, spectrogram_height)\n",
        "    display_mel_spectrograms(filtered_clips, breathing_in_displayed, breathing_out_displayed, \"filtered_clips\",spectrogram_width, spectrogram_height)\n",
        "\n",
        "  if(plot_type == 'pre_emphasized_clips'):\n",
        "    display_stft_spectrograms(pre_emphasized_clips, breathing_in_displayed, breathing_out_displayed, \"pre_emphasized_clips\", spectrogram_width, spectrogram_height)\n",
        "    display_mel_spectrograms(pre_emphasized_clips, breathing_in_displayed, breathing_out_displayed, \"pre_emphasized_clips\", spectrogram_width, spectrogram_height)\n",
        "\n",
        "  if(plot_type == 'normalised_clips'):\n",
        "    display_stft_spectrograms(normalised_clips, breathing_in_displayed, breathing_out_displayed, \"normalised_clips\", spectrogram_width, spectrogram_height)\n",
        "    display_mel_spectrograms(normalised_clips, breathing_in_displayed, breathing_out_displayed, \"normalised_clips\", spectrogram_width, spectrogram_height)\n",
        "\n",
        "  if(plot_type == 'all'):\n",
        "    display_stft_spectrograms(clips, breathing_in_displayed, breathing_out_displayed, \"clips\", spectrogram_width, spectrogram_height)\n",
        "    display_mel_spectrograms(clips, breathing_in_displayed, breathing_out_displayed, \"clips\", spectrogram_width, spectrogram_height)\n",
        "\n",
        "    display_stft_spectrograms(filtered_clips, breathing_in_displayed, breathing_out_displayed, \"filtered_clips\", spectrogram_width, spectrogram_height)\n",
        "    display_mel_spectrograms(filtered_clips, breathing_in_displayed, breathing_out_displayed, \"filtered_clips\",spectrogram_width, spectrogram_height)\n",
        "\n",
        "    display_stft_spectrograms(pre_emphasized_clips, breathing_in_displayed, breathing_out_displayed, \"pre_emphasized_clips\", spectrogram_width, spectrogram_height)\n",
        "    display_mel_spectrograms(pre_emphasized_clips, breathing_in_displayed, breathing_out_displayed, \"pre_emphasized_clips\", spectrogram_width, spectrogram_height)\n",
        "\n",
        "    display_stft_spectrograms(normalised_clips, breathing_in_displayed, breathing_out_displayed, \"normalised_clips\", spectrogram_width, spectrogram_height)\n",
        "    display_mel_spectrograms(normalised_clips, breathing_in_displayed, breathing_out_displayed, \"normalised_clips\", spectrogram_width, spectrogram_height)"
      ],
      "execution_count": 0,
      "outputs": []
    },
    {
      "cell_type": "markdown",
      "metadata": {
        "id": "gKsUHwGtQvh3",
        "colab_type": "text"
      },
      "source": [
        "# Testing parameters for spectrogram techniques"
      ]
    },
    {
      "cell_type": "code",
      "metadata": {
        "id": "bRD0b9JtB_ra",
        "colab_type": "code",
        "cellView": "form",
        "colab": {}
      },
      "source": [
        "#@title test stft n_fft\n",
        "run_stft_nfft = False #@param {type:\"boolean\"}\n",
        "\n",
        "if(run_stft_nfft):\n",
        "  power = range(5,13)\n",
        "  n_ffts = np.power(2,power)\n",
        "  plt.figure(figsize=(20,20))\n",
        "\n",
        "  i = 1\n",
        "  for n_fft in n_ffts:\n",
        "\n",
        "    stft = abs(librosa.stft(normalised_clips[0], center=False, n_fft=n_fft))\n",
        "    stft_mag, _ = librosa.magphase(stft)\n",
        "    stft_mag_db = librosa.amplitude_to_db(stft_mag)\n",
        "\n",
        "    plt.subplot(len(n_ffts), 1, i)\n",
        "    librosa.display.specshow(stft_mag_db, cmap='magma', y_axis='log', x_axis='time')\n",
        "    plt.colorbar(format='%+2.0f dB')\n",
        "    plt.title('n_fft' + str(n_fft))\n",
        "\n",
        "    i=i+1\n",
        "\n",
        "  plt.suptitle('stft of ' + file_names[0] + 'with differnt n_fft', size=20)\n",
        "  plt.savefig(path_gdrive_plots+'stft_n_fft.png');"
      ],
      "execution_count": 0,
      "outputs": []
    },
    {
      "cell_type": "code",
      "metadata": {
        "id": "78D3JJ7KUvf5",
        "colab_type": "code",
        "cellView": "both",
        "colab": {}
      },
      "source": [
        "#@title test mel n_fft\n",
        "run_mel_nfft = False #@param {type:\"boolean\"}\n",
        "\n",
        "if(run_mel_nfft):\n",
        "\n",
        "  n_ffts = np.power(2,power)\n",
        "  plt.figure(figsize=(20,20))\n",
        "\n",
        "  i = 1\n",
        "  for n_fft in n_ffts:\n",
        "\n",
        "    clip_mel_spec = librosa.feature.melspectrogram(clips[1], power=2)\n",
        "    clip_mel_spec_db = librosa.amplitude_to_db(clip_mel_spec, ref=np.max)\n",
        "\n",
        "    plt.subplot(len(n_ffts), 1, i)\n",
        "    librosa.display.specshow(clip_mel_spec_db, cmap='magma', y_axis='log', x_axis='time')\n",
        "    plt.colorbar(format='%+2.0f dB')\n",
        "    plt.title('n_fft' + str(n_fft))\n",
        "\n",
        "    i=i+1\n",
        "\n",
        "  plt.suptitle('mel stft of ' + file_names[0] + 'with differnt n_fft', size=20)\n",
        "  plt.savefig(path_gdrive_plots+'mel_stft_n_fft.png');"
      ],
      "execution_count": 0,
      "outputs": []
    },
    {
      "cell_type": "code",
      "metadata": {
        "id": "1CmGNnjX_e2x",
        "colab_type": "code",
        "cellView": "form",
        "colab": {}
      },
      "source": [
        "#@title test wavelet scales\n",
        "run_wavelet_scales = False #@param {type:\"boolean\"}\n",
        "\n",
        "if(run_wavelet_scales):\n",
        "  \n",
        "  plt.figure(figsize=(20,20))\n",
        "  scales_limit = 20\n",
        "\n",
        "  for i in range(scales_limit):\n",
        "\n",
        "    plt.subplot(scales_limit, 1, i+1)\n",
        "\n",
        "    coef, freqs = pywt.cwt(clips[0], np.arange(1,i), 'gaus1')\n",
        "    plt.imshow(coef, aspect='auto', cmap='PRGn');\n",
        "    plt.colorbar()\n",
        "    plt.title('scales' + str(i))\n",
        "\n",
        "  plt.suptitle('wavelet transform' + file_names[0] + 'with different scales', size=20)\n",
        "  plt.savefig(path_gdrive_plots+'wavelet_trans_scales.png');"
      ],
      "execution_count": 0,
      "outputs": []
    },
    {
      "cell_type": "code",
      "metadata": {
        "id": "XZNlHq6sbSMq",
        "colab_type": "code",
        "cellView": "form",
        "colab": {}
      },
      "source": [
        "#@title test wavelet funcs\n",
        "run_wavelet_funs = False #@param {type:\"boolean\"}\n",
        "\n",
        "if(run_wavelet_funs):\n",
        "  \n",
        "  plt.figure(figsize=(20,20))\n",
        "  wavelets = pywt.wavelist('gaus') + pywt.wavelist('mexh') + pywt.wavelist('morl')\n",
        "  i=1\n",
        "  for wavelet in wavelets:\n",
        "\n",
        "    plt.subplot(len(wavelets), 1, i)\n",
        "\n",
        "    coef, freqs = pywt.cwt(clips[0], np.arange(1,20), wavelet)\n",
        "    plt.imshow(coef, aspect='auto', cmap='PRGn');\n",
        "    plt.colorbar()\n",
        "    plt.title('wavelet function' + wavelet)\n",
        "\n",
        "  #   for xline_breathing_out in xlines_breathing_out[0]:\n",
        "  #     plt.axvline(xline_breathing_out*sr, c='r')\n",
        "\n",
        "    i=i+1\n",
        "\n",
        "  plt.suptitle('wavelet transform' + file_names[0] + 'with different wavelet functions', size=20)\n",
        "  plt.savefig(path_gdrive_plots+'wavelet_trans_wav_func.png');"
      ],
      "execution_count": 0,
      "outputs": []
    },
    {
      "cell_type": "markdown",
      "metadata": {
        "id": "4oPbLE5x-kr2",
        "colab_type": "text"
      },
      "source": [
        "# Exporting"
      ]
    },
    {
      "cell_type": "markdown",
      "metadata": {
        "id": "qrFCiciV_Vzc",
        "colab_type": "text"
      },
      "source": [
        "use the marker and get the first following second of samples"
      ]
    },
    {
      "cell_type": "code",
      "metadata": {
        "id": "aaadphVc_LQn",
        "colab_type": "code",
        "cellView": "both",
        "colab": {}
      },
      "source": [
        "#@title Export audio files\n",
        "clip_id = 3 #@param {type:\"integer\"}\n",
        "run_export = False #@param {type:\"boolean\"}\n",
        "file_length_sec = 1\n",
        "\n",
        "\n",
        "if(run_export):\n",
        "  for xline_breathing_in in xlines_breathing_in[clip_id]:\n",
        "    export_file_name = str(clip_id) + '_' + str(xline_breathing_in)+'.wav'\n",
        "    file_start_sample = int(xline_breathing_in*sr)\n",
        "    file_end_sample = int( (xline_breathing_in+file_length_sec)*sr )\n",
        "    export_file_sample = clips[clip_id][file_start_sample:file_end_sample]\n",
        "    librosa.output.write_wav(path_gdrive_train_audio_in+export_file_name, export_file_sample, sr)\n",
        "\n",
        "  for xline_breathing_out in xlines_breathing_out[clip_id]:\n",
        "    export_file_name = str(clip_id) + '_' + str(xline_breathing_out)+'.wav'\n",
        "    file_start_sample = int(xline_breathing_out*sr)\n",
        "    file_end_sample = int( (xline_breathing_out+file_length_sec)*sr )\n",
        "    export_file_sample = clips[clip_id][file_start_sample:file_end_sample]\n",
        "    librosa.output.write_wav(path_gdrive_train_audio_out+export_file_name, export_file_sample, sr)"
      ],
      "execution_count": 0,
      "outputs": []
    },
    {
      "cell_type": "code",
      "metadata": {
        "id": "pctbHpRz1dmh",
        "colab_type": "code",
        "colab": {}
      },
      "source": [
        "#@title read WAVs then generate IMGs for in and out\n",
        "run_img_export = True #@param {type:\"boolean\"}\n",
        "\n",
        "if(run_img_export):\n",
        "  temp_in_clips = []\n",
        "  temp_in_files = []\n",
        "\n",
        "  for filename in os.listdir(path_gdrive_train_audio_in):\n",
        "      if filename.endswith(\"wav\"):\n",
        "        temp_in_files.append(filename)\n",
        "        temp_in_clip, temp_sr = librosa.load(path_gdrive_train_audio_in + filename)\n",
        "        temp_in_clips.append(temp_in_clip)\n",
        "\n",
        "\n",
        "  temp_out_clips = []\n",
        "  temp_out_files = []\n",
        "\n",
        "  for filename in os.listdir(path_gdrive_train_audio_out):\n",
        "      if filename.endswith(\"wav\"):\n",
        "        temp_out_files.append(filename)\n",
        "        temp_out_clip, temp_sr = librosa.load(path_gdrive_train_audio_out + filename)\n",
        "        temp_out_clips.append(temp_out_clip)\n",
        "\n",
        "\n",
        "  bandpass_filtered_clips = bandpass_filter(temp_in_clips)\n",
        "  pre_emphasized_clips = pre_emphasize(bandpass_filtered_clips)\n",
        "  hilbert_transformed_clips = hilbert_transform(pre_emphasized_clips, emd_enabled=False, amplitude_envelope_returned=True, instantaneous_frequency_returned=False)\n",
        "  normalised_clips = normalise(hilbert_transformed_clips)\n",
        "\n",
        "  for i in range(len(temp_in_clips)):\n",
        "\n",
        "    clip_mel_spec = librosa.feature.melspectrogram(normalised_clips[i])\n",
        "    clip_mel_spec_db = librosa.amplitude_to_db(clip_mel_spec, ref=np.max)\n",
        "\n",
        "    librosa.display.specshow(clip_mel_spec_db, cmap='magma', y_axis='log', x_axis='time')\n",
        "    plt.axis('off')\n",
        "    plt.savefig(path_gdrive_train_img_in + temp_in_files[i].split('.wav')[0] + '.png')\n",
        "\n",
        "\n",
        "\n",
        "  bandpass_filtered_clips = bandpass_filter(temp_out_clips)\n",
        "  pre_emphasized_clips = pre_emphasize(bandpass_filtered_clips)\n",
        "  hilbert_transformed_clips = hilbert_transform(pre_emphasized_clips, emd_enabled=False, amplitude_envelope_returned=True, instantaneous_frequency_returned=False)\n",
        "  normalised_clips = normalise(hilbert_transformed_clips)\n",
        "\n",
        "  for i in range(len(temp_out_clips)):\n",
        "\n",
        "    clip_mel_spec = librosa.feature.melspectrogram(normalised_clips[i])\n",
        "    clip_mel_spec_db = librosa.amplitude_to_db(clip_mel_spec, ref=np.max)\n",
        "\n",
        "    librosa.display.specshow(clip_mel_spec_db, cmap='magma', y_axis='log', x_axis='time')\n",
        "    plt.axis('off')\n",
        "    plt.savefig(path_gdrive_train_img_out + temp_out_files[i].split('.wav')[0] + '.png')"
      ],
      "execution_count": 0,
      "outputs": []
    },
    {
      "cell_type": "markdown",
      "metadata": {
        "id": "yfZZ-EoLXQeM",
        "colab_type": "text"
      },
      "source": [
        "# Trying fastai"
      ]
    },
    {
      "cell_type": "code",
      "metadata": {
        "id": "h_jZfXhWVTXC",
        "colab_type": "code",
        "colab": {}
      },
      "source": [
        "from fastai_audio import *\n",
        "\n",
        "import fastai\n",
        "from fastai.metrics import accuracy\n",
        "from fastai.torch_core import *\n",
        "from fastai_audio import *\n",
        "\n",
        "from fastai.vision import models, ClassificationInterpretation\n",
        "from fastai.vision import *"
      ],
      "execution_count": 0,
      "outputs": []
    },
    {
      "cell_type": "code",
      "metadata": {
        "id": "kEACSpEAC2Bz",
        "colab_type": "code",
        "colab": {}
      },
      "source": [
        "random_seed = 8\n",
        "data = ImageList.from_folder(path_gdrive_train_img).split_by_rand_pct(seed=random_seed).label_from_folder().databunch()"
      ],
      "execution_count": 0,
      "outputs": []
    },
    {
      "cell_type": "code",
      "metadata": {
        "id": "nO30yWwL6Met",
        "colab_type": "code",
        "outputId": "9623a95a-9e6f-48f1-d310-a87e589f2b59",
        "colab": {
          "base_uri": "https://localhost:8080/",
          "height": 34
        }
      },
      "source": [
        "data.classes"
      ],
      "execution_count": 183,
      "outputs": [
        {
          "output_type": "execute_result",
          "data": {
            "text/plain": [
              "['in', 'out']"
            ]
          },
          "metadata": {
            "tags": []
          },
          "execution_count": 183
        }
      ]
    },
    {
      "cell_type": "code",
      "metadata": {
        "id": "w1IShmDE7OA1",
        "colab_type": "code",
        "outputId": "837ef138-1911-4594-ae9a-744617d38f9b",
        "colab": {
          "base_uri": "https://localhost:8080/",
          "height": 297
        }
      },
      "source": [
        "data.show_batch(3, figsize=(8,4), hide_axis=False)"
      ],
      "execution_count": 186,
      "outputs": [
        {
          "output_type": "display_data",
          "data": {
            "image/png": "[encoded data removed]",
            "text/plain": [
              "<Figure size 576x288 with 9 Axes>"
            ]
          },
          "metadata": {
            "tags": []
          }
        }
      ]
    },
    {
      "cell_type": "code",
      "metadata": {
        "id": "NaYQD3jj74Ma",
        "colab_type": "code",
        "colab": {
          "base_uri": "https://localhost:8080/",
          "height": 94
        },
        "outputId": "e35e0787-5e2a-430c-be6e-ce7bd6345304"
      },
      "source": [
        "learner = cnn_learner(data, models.resnet18, metrics=accuracy)\n",
        "learner.fit_one_cycle(1,1e-2)"
      ],
      "execution_count": 192,
      "outputs": [
        {
          "output_type": "display_data",
          "data": {
            "text/html": [
              "<table border=\"1\" class=\"dataframe\">\n",
              "  <thead>\n",
              "    <tr style=\"text-align: left;\">\n",
              "      <th>epoch</th>\n",
              "      <th>train_loss</th>\n",
              "      <th>valid_loss</th>\n",
              "      <th>accuracy</th>\n",
              "      <th>time</th>\n",
              "    </tr>\n",
              "  </thead>\n",
              "  <tbody>\n",
              "    <tr>\n",
              "      <td>0</td>\n",
              "      <td>0.918204</td>\n",
              "      <td>0.692606</td>\n",
              "      <td>0.571429</td>\n",
              "      <td>00:01</td>\n",
              "    </tr>\n",
              "  </tbody>\n",
              "</table>"
            ],
            "text/plain": [
              "<IPython.core.display.HTML object>"
            ]
          },
          "metadata": {
            "tags": []
          }
        }
      ]
    },
    {
      "cell_type": "code",
      "metadata": {
        "colab_type": "code",
        "id": "Q7W7a5KNIAxd",
        "colab": {}
      },
      "source": [
        "# To create some extra test data\n",
        "\n",
        "# valid_in_files = []\n",
        "# valid_out_files = []\n",
        "\n",
        "# for filename in os.listdir(path_gdrive_valid_img_in):\n",
        "#     if filename.endswith(\"png\"):\n",
        "#       valid_in_files.append(path_gdrive_valid_img_in + filename)\n",
        "      \n",
        "# for filename in os.listdir(path_gdrive_valid_img_out):\n",
        "#     if filename.endswith(\"png\"):\n",
        "#       valid_out_files.append(path_gdrive_valid_img_out + filename)\n",
        "      \n",
        "# valid_in_imgs = []\n",
        "# for valid_in_file in valid_in_files:\n",
        "#   valid_in_imgs.append(open_image(valid_in_file))\n",
        "  \n",
        "# valid_out_imgs = []\n",
        "# for valid_out_file in valid_out_files:\n",
        "#   valid_out_imgs.append(open_image(valid_out_file))"
      ],
      "execution_count": 0,
      "outputs": []
    }
  ]
}