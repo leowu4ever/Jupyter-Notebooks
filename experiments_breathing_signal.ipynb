{
  "nbformat": 4,
  "nbformat_minor": 0,
  "metadata": {
    "colab": {
      "name": "experiments_breathing_signal",
      "version": "0.3.2",
      "provenance": [],
      "collapsed_sections": [
        "DVNxa1zM8L81",
        "88HTa-OwBJ35",
        "1iye1X2QVoNV",
        "NIj6mhuWMLVv",
        "mUURJX07x_lR",
        "uAgL8uQyygOu",
        "DEGpuwchyWa5",
        "zCs-3XMTnS_i",
        "yfZZ-EoLXQeM",
        "X98m4-gXzv-h",
        "Z7E77v6yz6f8"
      ],
      "toc_visible": true,
      "include_colab_link": true
    },
    "kernelspec": {
      "name": "python3",
      "display_name": "Python 3"
    },
    "accelerator": "GPU"
  },
  "cells": [
    {
      "cell_type": "markdown",
      "metadata": {
        "id": "view-in-github",
        "colab_type": "text"
      },
      "source": [
        "<a href=\"https://colab.research.google.com/github/leowu4ever/PhD_Note/blob/master/experiments_breathing_signal.ipynb\" target=\"_parent\"><img src=\"https://colab.research.google.com/assets/colab-badge.svg\" alt=\"Open In Colab\"/></a>"
      ]
    },
    {
      "cell_type": "markdown",
      "metadata": {
        "id": "DVNxa1zM8L81",
        "colab_type": "text"
      },
      "source": [
        "# **Housekeeping**"
      ]
    },
    {
      "cell_type": "code",
      "metadata": {
        "id": "Qd7jiihhhIz2",
        "colab_type": "code",
        "outputId": "89b1bd1f-3735-4b78-c0c7-06ccb6d3f570",
        "colab": {
          "base_uri": "https://localhost:8080/",
          "height": 224
        }
      },
      "source": [
        "%reload_ext autoreload\n",
        "%autoreload 2\n",
        "%matplotlib inline\n",
        "\n",
        "import matplotlib.pyplot as plt\n",
        "from matplotlib.pyplot import specgram\n",
        "\n",
        "import librosa\n",
        "import librosa.display\n",
        "\n",
        "import numpy as np\n",
        "from pathlib import Path\n",
        "\n",
        "import IPython\n",
        "\n",
        "import scipy\n",
        "\n",
        "from IPython.core.interactiveshell import InteractiveShell\n",
        "InteractiveShell.ast_node_interactivity = \"all\"\n",
        "\n",
        "!pip install pyhht\n",
        "import pyhht\n",
        "\n",
        "import pywt\n",
        "\n",
        "from google.colab import drive\n",
        "drive.mount('/content/gdrive')\n",
        "\n",
        "import sys\n",
        "sys.path.insert(0,'/content/gdrive/My Drive/colab PhD')\n",
        "\n",
        "import os"
      ],
      "execution_count": 0,
      "outputs": [
        {
          "output_type": "stream",
          "text": [
            "Requirement already satisfied: pyhht in /usr/local/lib/python3.6/dist-packages (0.1.0)\n",
            "Requirement already satisfied: scipy in /usr/local/lib/python3.6/dist-packages (from pyhht) (1.3.0)\n",
            "Requirement already satisfied: matplotlib in /usr/local/lib/python3.6/dist-packages (from pyhht) (3.0.3)\n",
            "Requirement already satisfied: six in /usr/local/lib/python3.6/dist-packages (from pyhht) (1.12.0)\n",
            "Requirement already satisfied: numpy in /usr/local/lib/python3.6/dist-packages (from pyhht) (1.16.4)\n",
            "Requirement already satisfied: cycler>=0.10 in /usr/local/lib/python3.6/dist-packages (from matplotlib->pyhht) (0.10.0)\n",
            "Requirement already satisfied: pyparsing!=2.0.4,!=2.1.2,!=2.1.6,>=2.0.1 in /usr/local/lib/python3.6/dist-packages (from matplotlib->pyhht) (2.4.0)\n",
            "Requirement already satisfied: python-dateutil>=2.1 in /usr/local/lib/python3.6/dist-packages (from matplotlib->pyhht) (2.5.3)\n",
            "Requirement already satisfied: kiwisolver>=1.0.1 in /usr/local/lib/python3.6/dist-packages (from matplotlib->pyhht) (1.1.0)\n",
            "Requirement already satisfied: setuptools in /usr/local/lib/python3.6/dist-packages (from kiwisolver>=1.0.1->matplotlib->pyhht) (41.0.1)\n",
            "Drive already mounted at /content/gdrive; to attempt to forcibly remount, call drive.mount(\"/content/gdrive\", force_remount=True).\n"
          ],
          "name": "stdout"
        }
      ]
    },
    {
      "cell_type": "code",
      "metadata": {
        "id": "2HAjjw4g9fEP",
        "colab_type": "code",
        "colab": {}
      },
      "source": [
        "path_gdrive = '/content/gdrive/My Drive/colab PhD/'\n",
        "path_gdrive_clips = path_gdrive + 'clips/'\n",
        "path_gdrive_plots = path_gdrive + 'plots/'\n",
        "path_gdrive_train_audio = path_gdrive + 'train_audio/'\n",
        "path_gdrive_train_audio_in = path_gdrive_train_audio + 'in/'\n",
        "path_gdrive_train_audio_out = path_gdrive_train_audio + 'out/'\n",
        "\n",
        "path_gdrive_train_img = path_gdrive + 'train_img/'\n",
        "path_gdrive_train_img_in = path_gdrive_train_img + 'in/'\n",
        "path_gdrive_train_img_out = path_gdrive_train_img + 'out/'\n",
        "\n",
        "path_gdrive_valid_img = path_gdrive + 'valid_img/'\n",
        "path_gdrive_valid_img_in = path_gdrive_valid_img + 'in/'\n",
        "path_gdrive_valid_img_out = path_gdrive_valid_img + 'out/'\n",
        "\n",
        "path_gdrive_models = path_gdrive + 'models/'\n",
        "\n",
        "file_names = [path_gdrive_clips + 'My memos 7.wav', \n",
        "              path_gdrive_clips + 'My memos 8.wav', \n",
        "              path_gdrive_clips + 'My memos 9.wav', \n",
        "              path_gdrive_clips + 'My memos 10.wav', \n",
        "              path_gdrive_clips + 'test_clip_1.wav', \n",
        "              path_gdrive_clips + 'test_clip_2.wav', \n",
        "              path_gdrive_clips + 'test_clip_3.wav'];\n",
        "# file_names = [path_gdrive_clips + 'My memos 7.wav', path_gdrive_clips + 'My memos 8.wav', path_gdrive_clips + 'My memos 9.wav', path_gdrive_clips + 'My memos 10.wav'];\n",
        "\n",
        "\n",
        "file_count = len(file_names)\n",
        "\n",
        "def create_paths(file_names):\n",
        "  clips = []\n",
        "  rates = []\n",
        "  for file_name in file_names:\n",
        "    clip_path = Path(file_name)\n",
        "    clip, rate = librosa.load(clip_path)\n",
        "    \n",
        "    clips.append(clip)\n",
        "    rates.append(rate)\n",
        "\n",
        "  return clips, rates\n",
        "\n",
        "clips, rates = create_paths(file_names)\n",
        "sr = rates[0]"
      ],
      "execution_count": 0,
      "outputs": []
    },
    {
      "cell_type": "code",
      "metadata": {
        "id": "kIQpYirrLWpN",
        "colab_type": "code",
        "colab": {}
      },
      "source": [
        "xlines_breathing_in = np.array([\n",
        "    [0.6, 5.5, 6.9, 9, 10.5, 12.8, 14.3, 16.8, 18.8, 20.3, 23],\n",
        "    [0.3, 3.5, 5.7, 8.2, 10.3, 11.8, 14.4, 17.3, 19.1, 20.9, 22.5, 24.6, 26.5, 28.4, 30.7, 32.9, 34.9, 37, 39.2, 41, 42.2],\n",
        "    [3.8, 5.7, 8.1, 11.4, 14, 16.6, 19.3, 23, 26.9, 30.7],\n",
        "    [5.5, 7.7, 10.1, 12.1, 14.3, 16.8, 27, 45, 56.5],\n",
        "    [],\n",
        "    [0.5, 2.5, 4, 5.8, 7.4],\n",
        "    [1, 2.9, 5.3, 7.1, 9.6], \n",
        "])\n",
        "\n",
        "xlines_breathing_out = np.array([\n",
        "    [2.7, 6.3, 8, 9.8, 11.6, 13.3, 15.3, 17.8, 19.7, 21.3],\n",
        "    [1.6, 4.2, 6.6, 9.3, 11, 13.1, 15.9, 18.4, 20.1, 21.7, 23.6, 25.4, 27.5, 29.4, 31.7, 34, 36.1, 38, 39.8, 41.7, 43.2],\n",
        "    [4.2, 6.8, 9.4, 12.7, 15.5, 17.8, 20.6, 25.2, 27.9, 33.4],\n",
        "    [6.5, 8.7, 11.4, 13.2, 15.3, 17.5, 20.8, 23.6, 28.3, 33.4, 44, 46.6, 57.3],\n",
        "    [2.2, 5.3, 8.2, 11, 14, 16.7],\n",
        "    [1.4, 3.2, 5, 6.6, 7.9],\n",
        "    [1.9, 3.8, 6, 8.2, 10.4],\n",
        "    \n",
        "])"
      ],
      "execution_count": 0,
      "outputs": []
    },
    {
      "cell_type": "code",
      "metadata": {
        "id": "TlGXhcl9cslq",
        "colab_type": "code",
        "colab": {}
      },
      "source": [
        "segmentation_size = 256\n",
        "overlapping_perc = 0.25\n",
        "imf_iteration_limit = 100"
      ],
      "execution_count": 0,
      "outputs": []
    },
    {
      "cell_type": "markdown",
      "metadata": {
        "colab_type": "text",
        "id": "88HTa-OwBJ35"
      },
      "source": [
        "# **Plotting functions**"
      ]
    },
    {
      "cell_type": "code",
      "metadata": {
        "id": "1AbRDEda4tmE",
        "colab_type": "code",
        "colab": {}
      },
      "source": [
        "def display_fft(clip):\n",
        "    if(len(clip)%2 != 0):\n",
        "      clip = np.append(clip, [0])\n",
        "      \n",
        "    fft = scipy.fftpack.fft(clip)\n",
        "    num_of_samples = len(clip)\n",
        "    fft_freq = scipy.fftpack.fftfreq(num_of_samples, 1/sr)\n",
        "    plt.xlim(0,8000)\n",
        "    plt.plot(fft_freq[0:int(num_of_samples/2)], (abs(fft)/num_of_samples)[0:int(num_of_samples/2)])"
      ],
      "execution_count": 0,
      "outputs": []
    },
    {
      "cell_type": "code",
      "metadata": {
        "id": "15QL8mgRxiYJ",
        "colab_type": "code",
        "colab": {}
      },
      "source": [
        "def display_audio_files(file_names):\n",
        "  for file_name in file_names:\n",
        "    print(file_name)\n",
        "    IPython.display.display(IPython.display.Audio(file_name))"
      ],
      "execution_count": 0,
      "outputs": []
    },
    {
      "cell_type": "code",
      "metadata": {
        "id": "g_kNmpWC7nd8",
        "colab_type": "code",
        "colab": {}
      },
      "source": [
        "def display_audio_waveform(clips):\n",
        "  for clip in clips:\n",
        "    plt.figure(figsize=(20,4))\n",
        "    librosa.display.waveplot(clip)"
      ],
      "execution_count": 0,
      "outputs": []
    },
    {
      "cell_type": "code",
      "metadata": {
        "id": "h514yI0QRY13",
        "colab_type": "code",
        "colab": {}
      },
      "source": [
        "def display_stft_spectrograms(clips, breathing_in_displayed=False, breathing_out_displayed=False, title=None, spectrogram_width=20, spectrogram_height=4):\n",
        "  i = 0\n",
        "  fig, ax = plt.subplots(1, file_count, figsize=(spectrogram_width,spectrogram_height))\n",
        "\n",
        "  for j in range(len(clips)):\n",
        "    clip_stft = librosa.stft(clips[j], window='hamm')\n",
        "    clip_stft_mag, clip_stft_phase = librosa.magphase(clip_stft)\n",
        "    clip_stft_mag_db = librosa.amplitude_to_db(clip_stft_mag, ref=np.max)\n",
        "    \n",
        "    if(file_count == 1):\n",
        "      librosa.display.specshow(clip_stft_mag_db, x_axis='time', y_axis='linear', ax=ax)\n",
        "\n",
        "      ax.set_title(title + file_names[i] + \" --- yellow line for breathing in, red line for breathing out\")\n",
        "      \n",
        "      if(breathing_in_displayed):\n",
        "        for xline_breathing_in in xlines_breathing_in[j]:\n",
        "          ax.axvline(xline_breathing_in, c='y')\n",
        "      \n",
        "      if(breathing_out_displayed):\n",
        "        for xline_breathing_out in xlines_breathing_out[j]:\n",
        "          ax.axvline(xline_breathing_out, c='r') \n",
        "        \n",
        "    else:\n",
        "      librosa.display.specshow(clip_stft_mag_db, x_axis='time', y_axis='linear', ax=ax[i])\n",
        "      \n",
        "      ax[i].set_title(title + file_names[i].split('/')[-1] + \" --- yellow line for breathing in, red line for breathing out\")\n",
        "    \n",
        "      if(breathing_in_displayed):\n",
        "        for xline_breathing_in in xlines_breathing_in[j]:\n",
        "          ax[i].axvline(xline_breathing_in, c='y')\n",
        "      \n",
        "      if(breathing_out_displayed):\n",
        "        for xline_breathing_out in xlines_breathing_out[j]:\n",
        "          ax[i].axvline(xline_breathing_out, c='r') \n",
        "        \n",
        "    i=i+1"
      ],
      "execution_count": 0,
      "outputs": []
    },
    {
      "cell_type": "code",
      "metadata": {
        "id": "_tv1fOnayFbr",
        "colab_type": "code",
        "colab": {}
      },
      "source": [
        "def display_mel_spectrograms(clips, breathing_in_displayed=False, breathing_out_displayed=False, title=None, spectrogram_width=20, spectrogram_height=4):\n",
        "  i = 0\n",
        "  fig, ax = plt.subplots(1,file_count, figsize=(spectrogram_width,spectrogram_height))\n",
        "  \n",
        "  for j in range(len(clips)):\n",
        "    clip_mel_spec = librosa.feature.melspectrogram(clips[j])\n",
        "    clip_mel_spec_db = librosa.amplitude_to_db(clip_mel_spec, ref=np.max)\n",
        "    \n",
        "    if(file_count == 1):\n",
        "      librosa.display.specshow(clip_mel_spec_db, x_axis='time', y_axis='mel', ax=ax)\n",
        "      \n",
        "      ax.set_title(title + file_names[i] + \" --- yellow line for breathing in, red line for breathing out\")\n",
        "\n",
        "      if(breathing_in_displayed):\n",
        "        for xline_breathing_in in xlines_breathing_in[j]:\n",
        "          ax.axvline(xline_breathing_in, c='y')\n",
        "      \n",
        "      if(breathing_out_displayed):\n",
        "        for xline_breathing_out in xlines_breathing_out[j]:\n",
        "          ax.axvline(xline_breathing_out, c='r') \n",
        "        \n",
        "    else:\n",
        "      librosa.display.specshow(clip_mel_spec_db, x_axis='time', y_axis='mel', ax=ax[i])\n",
        "      \n",
        "      ax[i].set_title(title + file_names[i].split('/')[-1] + \" --- yellow line for breathing in, red line for breathing out\")\n",
        "      \n",
        "      if(breathing_in_displayed):\n",
        "        for xline_breathing_in in xlines_breathing_in[j]:\n",
        "          ax[i].axvline(xline_breathing_in, c='y')\n",
        "      \n",
        "      if(breathing_out_displayed):\n",
        "        for xline_breathing_out in xlines_breathing_out[j]:\n",
        "          ax[i].axvline(xline_breathing_out, c='r') \n",
        "          \n",
        "    i = i+1"
      ],
      "execution_count": 0,
      "outputs": []
    },
    {
      "cell_type": "markdown",
      "metadata": {
        "id": "1iye1X2QVoNV",
        "colab_type": "text"
      },
      "source": [
        "# **Pre-processing**"
      ]
    },
    {
      "cell_type": "code",
      "metadata": {
        "id": "Ot9TMTAoVtcR",
        "colab_type": "code",
        "colab": {}
      },
      "source": [
        "def bandpass_filter(clips, low_frequency=50, high_frequency=4000, order=6):\n",
        "  bandpass_filtered_clips = []\n",
        "  \n",
        "  for clip in clips:\n",
        "    \n",
        "    b,a=scipy.signal.butter(N=order, Wn=[2*low_frequency/sr, 2*high_frequency/sr], btype='band')\n",
        "    x = scipy.signal.lfilter(b,a,clip)\n",
        "    \n",
        "    bandpass_filtered_clips.append(np.array(x))\n",
        "  return bandpass_filtered_clips"
      ],
      "execution_count": 0,
      "outputs": []
    },
    {
      "cell_type": "code",
      "metadata": {
        "id": "-OV7zFepGTLS",
        "colab_type": "code",
        "colab": {}
      },
      "source": [
        "def pre_emphasize(clips):\n",
        "  pre_emphasized_clips = []\n",
        "  \n",
        "  for clip in clips:\n",
        "    pre_emphasized_clip = []\n",
        "    \n",
        "    for i in range(1, len(clip)-1):\n",
        "      pre_emphasized_sample = clip[i] - 0.96*clip[i-1]\n",
        "      pre_emphasized_clip.append(pre_emphasized_sample)\n",
        "      \n",
        "    pre_emphasized_clips.append(np.array(pre_emphasized_clip))\n",
        "    \n",
        "  return pre_emphasized_clips"
      ],
      "execution_count": 0,
      "outputs": []
    },
    {
      "cell_type": "code",
      "metadata": {
        "id": "0pGu_CwvWTpx",
        "colab_type": "code",
        "colab": {}
      },
      "source": [
        "def normalise(clips):\n",
        "  normalised_clips = []\n",
        "  \n",
        "  for clip in clips:   \n",
        "    normalised_clip = librosa.util.normalize(clip)\n",
        "    normalised_clips.append(normalised_clip)\n",
        "    \n",
        "  return normalised_clips   "
      ],
      "execution_count": 0,
      "outputs": []
    },
    {
      "cell_type": "code",
      "metadata": {
        "id": "ZrSuZ-Z5HAcV",
        "colab_type": "code",
        "colab": {}
      },
      "source": [
        "# could try segmentation size of 256 and 600\n",
        "def segment(clips, segmentation_size=256, overlapping_perc=0.25):\n",
        "  \n",
        "  segmented_clips = []\n",
        "  for clip in clips:\n",
        "    \n",
        "    segmented_clip = []\n",
        "    \n",
        "    for i in np.arange(0, len(clip), int(segmentation_size*(1-overlapping_perc))):\n",
        "        \n",
        "        segmentation_start_point = i\n",
        "        segmentation_end_point = segmentation_start_point + segmentation_size\n",
        "        \n",
        "        if(segmentation_end_point > len(clip)-1):\n",
        "          \n",
        "          extra_zeros = np.zeros((segmentation_end_point-len(clip))+1) \n",
        "          segmentation_end_point = len(clip)-1\n",
        "          \n",
        "        segmented_clip.append(np.array(clip[segmentation_start_point:segmentation_end_point]))\n",
        "        \n",
        "        if(segmentation_end_point == len(clip)-1):\n",
        "          segmented_clip[-1] = np.append(segmented_clip[-1], extra_zeros)\n",
        "          \n",
        "    segmented_clips.append(segmented_clip) \n",
        "  return segmented_clips"
      ],
      "execution_count": 0,
      "outputs": []
    },
    {
      "cell_type": "code",
      "metadata": {
        "id": "w2WtM687yM6J",
        "colab_type": "code",
        "colab": {}
      },
      "source": [
        "def hamming_window(clips):\n",
        "  \n",
        "  hamming_windowed_clips = []\n",
        "  for clip in clips:\n",
        "    \n",
        "    hamming_windowed_clip = []\n",
        "    for segmentation in clip:\n",
        "      len_hamming_window = len(segmentation)\n",
        "      hamming_window = np.hamming(len_hamming_window)\n",
        "      segmentation = segmentation * hamming_window\n",
        "      \n",
        "      hamming_windowed_clip.append(segmentation)\n",
        "      \n",
        "    hamming_windowed_clips.append(np.array(hamming_windowed_clip))\n",
        "  return hamming_windowed_clips    "
      ],
      "execution_count": 0,
      "outputs": []
    },
    {
      "cell_type": "code",
      "metadata": {
        "id": "PG6Q1izsKqh8",
        "colab_type": "code",
        "colab": {}
      },
      "source": [
        "def hilbert_transform(clips, emd_enabled=False, amplitude_envelope_returned=True, instantaneous_frequency_returned=False):\n",
        "  hilbert_transformed_clips = []\n",
        "  \n",
        "  for clip in clips:\n",
        "    \n",
        "    if(emd_enabled):\n",
        "      emd = pyhht.emd.EMD(clip, fixe=imf_iteration_limit)\n",
        "      imfs = emd.decompose()\n",
        "      #need to rework when having multiple imfs\n",
        "      hilbert_tranformed_clip = hilbert_transform_with_zero_padding(imfs[0], amplitude_envelope_returned, instantaneous_frequency_returned)\n",
        "    else:\n",
        "      hilbert_tranformed_clip = hilbert_transform_with_zero_padding(clip, amplitude_envelope_returned, instantaneous_frequency_returned)\n",
        "    \n",
        "    hilbert_transformed_clips.append(hilbert_tranformed_clip)\n",
        "\n",
        "  return hilbert_transformed_clips"
      ],
      "execution_count": 0,
      "outputs": []
    },
    {
      "cell_type": "code",
      "metadata": {
        "id": "VwoFkSlVX4J1",
        "colab_type": "code",
        "colab": {}
      },
      "source": [
        "def hilbert_transform_with_zero_padding(signal, amplitude_envelope_returned=True, instantaneous_frequency_returned=False):\n",
        "  padding = np.zeros(int(2 ** np.ceil(np.log2(len(signal)))) - len(signal))\n",
        "  tohilbert = np.hstack((signal, padding))\n",
        "\n",
        "  analytic_signal = scipy.signal.hilbert(tohilbert)\n",
        "\n",
        "  analytic_signal = analytic_signal[0:len(signal)]\n",
        "  \n",
        "  amplitude_envelope = np.abs(analytic_signal)\n",
        "  instantaneous_phase = np.unwrap(np.angle(analytic_signal))\n",
        "  instantaneous_frequency = (np.diff(instantaneous_phase) / (2.0*np.pi) * sr)\n",
        "\n",
        "  if(amplitude_envelope_returned):\n",
        "    return amplitude_envelope\n",
        "  \n",
        "  if(instantaneous_frequency_returned):\n",
        "    return instantaneous_frequency"
      ],
      "execution_count": 0,
      "outputs": []
    },
    {
      "cell_type": "markdown",
      "metadata": {
        "id": "NIj6mhuWMLVv",
        "colab_type": "text"
      },
      "source": [
        "# **Audio feature extraction**"
      ]
    },
    {
      "cell_type": "markdown",
      "metadata": {
        "id": "0SgDCJofMPju",
        "colab_type": "text"
      },
      "source": [
        "Energy"
      ]
    },
    {
      "cell_type": "code",
      "metadata": {
        "id": "Rdvo8uFtMRrn",
        "colab_type": "code",
        "colab": {}
      },
      "source": [
        "def get_segmentation_short_time_energy(clips):\n",
        "  clips_energy = []\n",
        "  for clip in clips:\n",
        "   \n",
        "    clip_energy = []\n",
        "    for segmentation in clip:\n",
        "      energy = np.sum(np.square(segmentation))\n",
        "      clip_energy.append(energy)\n",
        "    \n",
        "    normalized_clip_energy = clip_energy\n",
        "    clips_energy.append(np.array(normalized_clip_energy))\n",
        "  return clips_energy"
      ],
      "execution_count": 0,
      "outputs": []
    },
    {
      "cell_type": "markdown",
      "metadata": {
        "id": "Wkd6Ne_htngG",
        "colab_type": "text"
      },
      "source": [
        "Spectral bandwidth"
      ]
    },
    {
      "cell_type": "code",
      "metadata": {
        "id": "rDIOUizYODvd",
        "colab_type": "code",
        "colab": {}
      },
      "source": [
        "def get_segmentation_spectral_bandwidth(segmented_clips, plots_displayed=False):\n",
        "  clips_spectral_bandwidth = []\n",
        "  for clip in segmented_clips:\n",
        "    \n",
        "    clip_spectral_bandwidth = []\n",
        "    for segmentation in clip:\n",
        "      spectral_bandwidth = librosa.feature.spectral_bandwidth(segmentation, sr)\n",
        "      clip_spectral_bandwidth.append(spectral_bandwidth)\n",
        "    \n",
        "    clips_spectral_bandwidth.append(np.array(clip_spectral_bandwidth))\n",
        "  return clips_spectral_bandwidth"
      ],
      "execution_count": 0,
      "outputs": []
    },
    {
      "cell_type": "markdown",
      "metadata": {
        "id": "gFxfNW7Yuo1k",
        "colab_type": "text"
      },
      "source": [
        "Spectral rolloff"
      ]
    },
    {
      "cell_type": "code",
      "metadata": {
        "id": "2WDy7Uj3egkH",
        "colab_type": "code",
        "colab": {}
      },
      "source": [
        "def get_segmentation_spectral_rolloff(segmented_clips, plots_displayed=False):\n",
        "  clips_spectral_rolloff = []\n",
        "  for clip in segmented_clips:\n",
        "    \n",
        "    clip_spectral_rolloff = []\n",
        "    for segmentation in clip:\n",
        "      spectral_rolloff = librosa.feature.spectral_rolloff(segmentation, sr)\n",
        "      clip_spectral_rolloff.append(spectral_rolloff)\n",
        "    \n",
        "    clips_spectral_rolloff.append(np.array(clip_spectral_rolloff))\n",
        "  return clips_spectral_rolloff"
      ],
      "execution_count": 0,
      "outputs": []
    },
    {
      "cell_type": "markdown",
      "metadata": {
        "id": "hQhuW3CctxfE",
        "colab_type": "text"
      },
      "source": [
        "Spectral centroid"
      ]
    },
    {
      "cell_type": "code",
      "metadata": {
        "id": "skQxruXze7kK",
        "colab_type": "code",
        "colab": {}
      },
      "source": [
        "def get_segmentation_spectral_centroid(segmented_clips, plots_displayed=False):\n",
        "  clips_spectral_centroid = []\n",
        "  for clip in segmented_clips:\n",
        "    \n",
        "    clip_spectral_centroid = []\n",
        "    for segmentation in clip:\n",
        "      spectral_centroid = librosa.feature.spectral_centroid(segmentation, sr)\n",
        "      clip_spectral_centroid.append(spectral_centroid)\n",
        "    \n",
        "    clips_spectral_centroid.append(np.array(clip_spectral_centroid))\n",
        "  return clips_spectral_centroid"
      ],
      "execution_count": 0,
      "outputs": []
    },
    {
      "cell_type": "markdown",
      "metadata": {
        "id": "qtwzfaiefMbG",
        "colab_type": "text"
      },
      "source": [
        "Spectral contrast"
      ]
    },
    {
      "cell_type": "code",
      "metadata": {
        "id": "NULmL9n_g3J_",
        "colab_type": "code",
        "colab": {}
      },
      "source": [
        "def get_segmentation_spectral_contrast(segmented_clips, plots_displayed=False):\n",
        "  clips_spectral_contrast = []\n",
        "  for clip in segmented_clips:\n",
        "    \n",
        "    clip_spectral_contrast = []\n",
        "    for segmentation in clip:\n",
        "      spectral_contrast = librosa.feature.spectral_contrast(segmentation, sr)\n",
        "      clip_spectral_contrast.append(spectral_contrast)\n",
        "    \n",
        "    clips_spectral_contrast.append(np.array(clip_spectral_contrast))\n",
        "  return clips_spectral_contrast"
      ],
      "execution_count": 0,
      "outputs": []
    },
    {
      "cell_type": "markdown",
      "metadata": {
        "id": "IWnU1G3efMif",
        "colab_type": "text"
      },
      "source": [
        "Spectral flatness"
      ]
    },
    {
      "cell_type": "code",
      "metadata": {
        "id": "s9ANQv2-hR4I",
        "colab_type": "code",
        "colab": {}
      },
      "source": [
        "def get_segmentation_spectral_flatness(segmented_clips, plots_displayed=False):\n",
        "  clips_spectral_flatness = []\n",
        "  for clip in segmented_clips:\n",
        "    \n",
        "    clip_spectral_flatness = []\n",
        "    for segmentation in clip:\n",
        "      spectral_flatness = librosa.feature.spectral_flatness(segmentation)\n",
        "      clip_spectral_flatness.append(spectral_flatness)\n",
        "    \n",
        "    clips_spectral_flatness.append(np.array(clip_spectral_flatness))\n",
        "  return clips_spectral_flatness"
      ],
      "execution_count": 0,
      "outputs": []
    },
    {
      "cell_type": "markdown",
      "metadata": {
        "id": "ZZFq4Cmuk0um",
        "colab_type": "text"
      },
      "source": [
        "MFCC"
      ]
    },
    {
      "cell_type": "code",
      "metadata": {
        "id": "pE-_WJAOkyrx",
        "colab_type": "code",
        "colab": {}
      },
      "source": [
        "def get_segmentation_mfcc(segmented_clips, plots_displayed=False):\n",
        "  clips_mfcc = []\n",
        "  for clip in segmented_clips:\n",
        "    \n",
        "    clip_mfcc = []\n",
        "    for segmentation in clip:\n",
        "      mfcc = librosa.feature.mfcc(segmentation, sr)\n",
        "      clip_mfcc.append(mfcc)\n",
        "      \n",
        "    clips_mfcc.append(np.array(clip_mfcc))  \n",
        "  return clips_mfcc"
      ],
      "execution_count": 0,
      "outputs": []
    },
    {
      "cell_type": "markdown",
      "metadata": {
        "id": "a5fbg2VbuwtW",
        "colab_type": "text"
      },
      "source": [
        "MFCC delta"
      ]
    },
    {
      "cell_type": "code",
      "metadata": {
        "id": "hkNoqHYjji3P",
        "colab_type": "code",
        "colab": {}
      },
      "source": [
        "def get_segmentation_mfcc_delta(segmented_clips, mode='nearest', plots_displayed=False):\n",
        "  clips_mfcc_delta = []\n",
        "  for clip in segmented_clips:\n",
        "    \n",
        "    clip_mfcc_delta = []\n",
        "    for segmentation in clip:\n",
        "      mfcc = librosa.feature.mfcc(segmentation, sr)\n",
        "      mfcc_delta = librosa.feature.delta(mfcc, mode=mode)\n",
        "      clip_mfcc_delta.append(mfcc_delta)\n",
        "      \n",
        "    clips_mfcc_delta.append(np.array(clip_mfcc_delta))  \n",
        "  return clips_mfcc_delta"
      ],
      "execution_count": 0,
      "outputs": []
    },
    {
      "cell_type": "markdown",
      "metadata": {
        "id": "Sd0-UELXuzEA",
        "colab_type": "text"
      },
      "source": [
        "MFCC delta delta"
      ]
    },
    {
      "cell_type": "code",
      "metadata": {
        "id": "RJ_NDje9kMsn",
        "colab_type": "code",
        "colab": {}
      },
      "source": [
        "def get_segmentation_mfcc_delta_delta(segmented_clips, mode='nearest', plots_displayed=False):\n",
        "  clips_mfcc_delta_delta = []\n",
        "  for clip in segmented_clips:\n",
        "    \n",
        "    clip_mfcc_delta_delta = []\n",
        "    for segmentation in clip:\n",
        "      mfcc = librosa.feature.mfcc(segmentation, sr)\n",
        "      mfcc_delta_delta = librosa.feature.delta(mfcc, mode=mode, order=2)\n",
        "      clip_mfcc_delta_delta.append(mfcc_delta_delta)\n",
        "      \n",
        "    clips_mfcc_delta_delta.append(np.array(clip_mfcc_delta_delta))  \n",
        "  return clips_mfcc_delta_delta"
      ],
      "execution_count": 0,
      "outputs": []
    },
    {
      "cell_type": "markdown",
      "metadata": {
        "id": "0dTjbLWDMK7h",
        "colab_type": "text"
      },
      "source": [
        "Silent ratio (silent frame/total frame)"
      ]
    },
    {
      "cell_type": "markdown",
      "metadata": {
        "id": "ksuLcDjmMdV-",
        "colab_type": "text"
      },
      "source": [
        "Normalise all of the features on the training set"
      ]
    },
    {
      "cell_type": "markdown",
      "metadata": {
        "id": "mUURJX07x_lR",
        "colab_type": "text"
      },
      "source": [
        "# **Statistic feature extraction**"
      ]
    },
    {
      "cell_type": "code",
      "metadata": {
        "id": "dSb0G8o1yBqV",
        "colab_type": "code",
        "colab": {}
      },
      "source": [
        "def energy_filter(segmented_clips, clips_energy, energy_threshold=0.2):\n",
        "  clips_energy_positions_filtered = []\n",
        "  for clip_energy in clips_energy:\n",
        "    clips_energy_positions_filtered.append(np.asarray(np.where(clip_energy >= energy_threshold))[0])\n",
        "  \n",
        "  \n",
        "  segmented_clips_filtered = []\n",
        "  for i in range(len(segmented_clips)):\n",
        "    segmented_clip_filtered = []\n",
        "    for position in clips_energy_positions_filtered[i]:\n",
        "      segmented_clip_filtered.append(np.array(segmented_clips[i][position]))\n",
        "    segmented_clips_filtered.append(np.array(segmented_clip_filtered))\n",
        "\n",
        "  clips_energy_filtered = []\n",
        "  for i in range(len(clips_energy)):\n",
        "    clip_energy_filtered = []\n",
        "    for position in clips_energy_positions_filtered[i]:\n",
        "      clip_energy_filtered.append(np.array(clips_energy[i][position]))\n",
        "    clips_energy_filtered.append(np.array(clip_energy_filtered))\n",
        "  \n",
        "  return segmented_clips_filtered, clips_energy_filtered, clips_energy_positions_filtered"
      ],
      "execution_count": 0,
      "outputs": []
    },
    {
      "cell_type": "code",
      "metadata": {
        "id": "K9jXKLinpADC",
        "colab_type": "code",
        "colab": {}
      },
      "source": [
        "def get_feature_mean(segmented_clips_feature):\n",
        "  segmented_clips_feature_mean = []\n",
        "  for segmented_clip_feature in segmented_clips_feature:\n",
        "    \n",
        "    segmented_clip_feature_mean = []\n",
        "    for segmentation_feature in segmented_clip_feature:\n",
        "      mean_feature = np.mean(segmentation_feature)\n",
        "      segmented_clip_feature_mean.append(np.array(mean_feature))\n",
        "    \n",
        "    segmented_clips_feature_mean.append(np.array(segmented_clip_feature_mean))\n",
        "  return segmented_clips_feature_mean"
      ],
      "execution_count": 0,
      "outputs": []
    },
    {
      "cell_type": "code",
      "metadata": {
        "id": "t7xYvwyKpCBR",
        "colab_type": "code",
        "colab": {}
      },
      "source": [
        "def get_feature_std(segmented_clips_feature):\n",
        "  segmented_clips_feature_std = []\n",
        "  for segmented_clip_feature in segmented_clips_feature:\n",
        "    \n",
        "    segmented_clip_feature_std = []\n",
        "    for segmentation_feature in segmented_clip_feature:\n",
        "      std_feature = np.std(segmentation_feature)\n",
        "      segmented_clip_feature_std.append(np.array(std_feature))\n",
        "    \n",
        "    segmented_clips_feature_std.append(np.array(segmented_clip_feature_std))\n",
        "  return segmented_clips_feature_std"
      ],
      "execution_count": 0,
      "outputs": []
    },
    {
      "cell_type": "code",
      "metadata": {
        "id": "Xkh3LS_353KF",
        "colab_type": "code",
        "colab": {}
      },
      "source": [
        ""
      ],
      "execution_count": 0,
      "outputs": []
    },
    {
      "cell_type": "markdown",
      "metadata": {
        "id": "uAgL8uQyygOu",
        "colab_type": "text"
      },
      "source": [
        "# Completed pipelines"
      ]
    },
    {
      "cell_type": "code",
      "metadata": {
        "id": "wGxuOe7cywbO",
        "colab_type": "code",
        "colab": {}
      },
      "source": [
        "bandpass_filtered_clips = bandpass_filter(clips)\n",
        "pre_emphasized_clips = pre_emphasize(bandpass_filtered_clips)\n",
        "\n",
        "hilbert_transformed_clips = hilbert_transform(clips, emd_enabled=False, amplitude_envelope_returned=True, instantaneous_frequency_returned=False)\n",
        "normalised_clips = normalise(hilbert_transformed_clips)\n",
        "segmented_clips = segment(normalised_clips, segmentation_size, overlapping_perc)\n",
        "hamming_windowed_clips = hamming_window(segmented_clips)\n",
        "\n",
        "#filter voiced/non-voiced segmentation with time-series energy\n",
        "clips_energy = get_segmentation_short_time_energy(hamming_windowed_clips)\n",
        "segmented_clips_filtered_with_energy, _, _ = energy_filter(segmented_clips, clips_energy, 0.2)"
      ],
      "execution_count": 0,
      "outputs": []
    },
    {
      "cell_type": "code",
      "metadata": {
        "id": "xoUWtiRpy35A",
        "colab_type": "code",
        "colab": {}
      },
      "source": [
        "# segmented_clips_spectral_bandwidth = get_segmentation_spectral_bandwidth(segmented_clips_filtered_with_energy)\n",
        "# segmented_clips_spectral_rolloff = get_segmentation_spectral_rolloff(segmented_clips_filtered_with_energy)\n",
        "# segmented_clips_spectral_centroid = get_segmentation_spectral_centroid(segmented_clips_filtered_with_energy)\n",
        "# segmented_clips_spectral_contrast = get_segmentation_spectral_contrast(segmented_clips_filtered_with_energy)\n",
        "# segmented_clips_spectral_flatness = get_segmentation_spectral_flatness(segmented_clips_filtered_with_energy)\n",
        "# segmented_clips_spectral_mfcc = get_segmentation_mfcc(segmented_clips_filtered_with_energy)\n",
        "# segmented_clips_spectral_mfcc_delta = get_segmentation_mfcc_delta(segmented_clips_filtered_with_energy)\n",
        "# segmented_clips_spectral_mfcc_delta_delta = get_segmentation_mfcc_delta_delta(segmented_clips_filtered_with_energy)"
      ],
      "execution_count": 0,
      "outputs": []
    },
    {
      "cell_type": "markdown",
      "metadata": {
        "id": "DEGpuwchyWa5",
        "colab_type": "text"
      },
      "source": [
        "# **Plots for revisiting**"
      ]
    },
    {
      "cell_type": "code",
      "metadata": {
        "id": "g-ILl8l8zFdW",
        "colab_type": "code",
        "cellView": "both",
        "colab": {}
      },
      "source": [
        "#@title Default title text { run: \"auto\" }\n",
        "run_stft_plots = False #@param {type:\"boolean\"}\n",
        "\n",
        "\n",
        "energy_threshold = 0.2 #@param {type:\"number\"}\n",
        "clip_num = 0 #@param {type:\"integer\"}\n",
        "\n",
        "breathing_in_displayed = True #@param {type:\"boolean\"}\n",
        "breathing_out_displayed = True #@param {type:\"boolean\"}\n",
        "seg_pos_larger_than_energy_threshold_displayed = False #@param {type:\"boolean\"}\n",
        "\n",
        "\n",
        "if(run_stft_plots):\n",
        "  plt.figure(figsize=(20,5))\n",
        "  plt.plot(clips_energy[clip_num])\n",
        "\n",
        "  results = []\n",
        "  for clip_energy in clips_energy:\n",
        "    results.append(np.asarray(np.where(get_feature_mean(clips_energy)[clip_num] > energy_threshold)[0]))\n",
        "\n",
        "  plt.title(\"clips_energy, segmentation that satisfy: \" + str(len(results[0])))\n",
        "\n",
        "  if(seg_pos_larger_than_energy_threshold_displayed):\n",
        "    plt.axhline(energy_threshold, c='g')\n",
        "    for r in results[clip_num]:\n",
        "      plt.axvline(r, c='b')\n",
        "\n",
        "  if breathing_out_displayed:\n",
        "    for x in xlines_breathing_out[clip_num]:\n",
        "      x = x / ((segmentation_size* (1-overlapping_perc)) / sr)\n",
        "      plt.axvline(x, c='r')\n",
        "\n",
        "  if breathing_in_displayed:\n",
        "    for x in xlines_breathing_in[clip_num]:\n",
        "      x = x / ((segmentation_size* (1-overlapping_perc)) / sr)\n",
        "      plt.axvline(x, c='y')\n",
        "\n",
        "\n",
        "  display_audio_waveform(np.array([clips[clip_num]]))\n",
        "\n",
        "  if(seg_pos_larger_than_energy_threshold_displayed):\n",
        "    for r in results[clip_num]:\n",
        "      v_pos = r * (segmentation_size* (1-overlapping_perc)) / sr\n",
        "      plt.axvline(v_pos, c='b')\n",
        "\n",
        "  if breathing_out_displayed:\n",
        "    for x in xlines_breathing_out[clip_num]:\n",
        "      plt.axvline(x, c='r')\n",
        "\n",
        "  if breathing_in_displayed:\n",
        "    for x in xlines_breathing_in[clip_num]:\n",
        "      plt.axvline(x, c='y')"
      ],
      "execution_count": 0,
      "outputs": []
    },
    {
      "cell_type": "code",
      "metadata": {
        "colab_type": "code",
        "cellView": "form",
        "id": "p9uf1J0bMXXC",
        "colab": {}
      },
      "source": [
        "#@title Display spectrogram of the signal with breathing_in and breathing_out markers { run: \"auto\", vertical-output: true }\n",
        "run_mel_plots = False #@param {type:\"boolean\"}\n",
        "\n",
        "breathing_in_displayed = True #@param {type:\"boolean\"}\n",
        "breathing_out_displayed = True #@param {type:\"boolean\"}\n",
        "spectrogram_width = 40 #@param {type:\"integer\"}\n",
        "spectrogram_height = 4 #@param {type:\"integer\"}\n",
        "plot_type = \"all\" #@param [\"None\",\"clips\", \"filtered_clips\", \"pre_emphasized_clips\", \"normalised_clips\", \"all\"]\n",
        "\n",
        "if(run_mel_plots):\n",
        "  filtered_clips = bandpass_filter(clips)\n",
        "  pre_emphasized_clips = pre_emphasize(filtered_clips)\n",
        "  normalised_clips = normalise(pre_emphasized_clips)\n",
        "\n",
        "\n",
        "  if(plot_type == 'clips'):\n",
        "    display_stft_spectrograms(clips, breathing_in_displayed, breathing_out_displayed, \"clips\", spectrogram_width, spectrogram_height)\n",
        "    display_mel_spectrograms(clips, breathing_in_displayed, breathing_out_displayed, \"clips\", spectrogram_width, spectrogram_height)\n",
        "\n",
        "  if(plot_type == 'filtered_clips'):\n",
        "    display_stft_spectrograms(filtered_clips, breathing_in_displayed, breathing_out_displayed, \"filtered_clips\", spectrogram_width, spectrogram_height)\n",
        "    display_mel_spectrograms(filtered_clips, breathing_in_displayed, breathing_out_displayed, \"filtered_clips\",spectrogram_width, spectrogram_height)\n",
        "\n",
        "  if(plot_type == 'pre_emphasized_clips'):\n",
        "    display_stft_spectrograms(pre_emphasized_clips, breathing_in_displayed, breathing_out_displayed, \"pre_emphasized_clips\", spectrogram_width, spectrogram_height)\n",
        "    display_mel_spectrograms(pre_emphasized_clips, breathing_in_displayed, breathing_out_displayed, \"pre_emphasized_clips\", spectrogram_width, spectrogram_height)\n",
        "\n",
        "  if(plot_type == 'normalised_clips'):\n",
        "    display_stft_spectrograms(normalised_clips, breathing_in_displayed, breathing_out_displayed, \"normalised_clips\", spectrogram_width, spectrogram_height)\n",
        "    display_mel_spectrograms(normalised_clips, breathing_in_displayed, breathing_out_displayed, \"normalised_clips\", spectrogram_width, spectrogram_height)\n",
        "\n",
        "  if(plot_type == 'all'):\n",
        "    display_stft_spectrograms(clips, breathing_in_displayed, breathing_out_displayed, \"clips\", spectrogram_width, spectrogram_height)\n",
        "    display_mel_spectrograms(clips, breathing_in_displayed, breathing_out_displayed, \"clips\", spectrogram_width, spectrogram_height)\n",
        "\n",
        "    display_stft_spectrograms(filtered_clips, breathing_in_displayed, breathing_out_displayed, \"filtered_clips\", spectrogram_width, spectrogram_height)\n",
        "    display_mel_spectrograms(filtered_clips, breathing_in_displayed, breathing_out_displayed, \"filtered_clips\",spectrogram_width, spectrogram_height)\n",
        "\n",
        "    display_stft_spectrograms(pre_emphasized_clips, breathing_in_displayed, breathing_out_displayed, \"pre_emphasized_clips\", spectrogram_width, spectrogram_height)\n",
        "    display_mel_spectrograms(pre_emphasized_clips, breathing_in_displayed, breathing_out_displayed, \"pre_emphasized_clips\", spectrogram_width, spectrogram_height)\n",
        "\n",
        "    display_stft_spectrograms(normalised_clips, breathing_in_displayed, breathing_out_displayed, \"normalised_clips\", spectrogram_width, spectrogram_height)\n",
        "    display_mel_spectrograms(normalised_clips, breathing_in_displayed, breathing_out_displayed, \"normalised_clips\", spectrogram_width, spectrogram_height)"
      ],
      "execution_count": 0,
      "outputs": []
    },
    {
      "cell_type": "markdown",
      "metadata": {
        "colab_type": "text",
        "id": "zCs-3XMTnS_i"
      },
      "source": [
        "# Testing parameters for spectrogram techniques"
      ]
    },
    {
      "cell_type": "code",
      "metadata": {
        "id": "-9xlCfa52PjM",
        "colab_type": "code",
        "cellView": "form",
        "colab": {}
      },
      "source": [
        "#@title fft\n",
        "run_fft = False #@param {type:\"boolean\"}\n",
        "\n",
        "if(run_fft):\n",
        "  plt.figure(figsize=(20,20))\n",
        "\n",
        "  i = 1\n",
        "  for clip in clips:\n",
        "\n",
        "    plt.subplot(len(clips), 1, i)\n",
        "    display_fft(clip)\n",
        "    plt.title('fft' + file_names[i-1])\n",
        "\n",
        "    i=i+1\n",
        "\n",
        "  plt.suptitle('fft ', size=20)\n",
        "  plt.savefig(path_gdrive_plots+'fft.png');"
      ],
      "execution_count": 0,
      "outputs": []
    },
    {
      "cell_type": "code",
      "metadata": {
        "id": "6YrreheMCZG1",
        "colab_type": "code",
        "cellView": "form",
        "colab": {}
      },
      "source": [
        "#@title fft for the pipeline\n",
        "run_fft_pipieline = False #@param {type:\"boolean\"}\n",
        "fft_pipeline_clip_id = 0 #@param {type:\"integer\"}\n",
        "\n",
        "if(run_fft_pipieline):\n",
        "  plt.figure(figsize=(20,20))\n",
        "\n",
        " \n",
        "  plt.subplot(4, 1, 1)\n",
        "  display_fft(clips[fft_pipeline_clip_id])\n",
        "  plt.title('fft')\n",
        "  \n",
        "  plt.subplot(4, 1, 2)\n",
        "  display_fft(bandpass_filtered_clips[fft_pipeline_clip_id])\n",
        "  plt.title('fft')\n",
        "  \n",
        "  plt.subplot(4, 1, 3)\n",
        "  display_fft(pre_emphasized_clips[fft_pipeline_clip_id])\n",
        "  plt.title('fft')\n",
        "  \n",
        "  plt.subplot(4, 1, 4)\n",
        "  display_fft(normalised_clips[fft_pipeline_clip_id])\n",
        "  plt.title('fft')\n",
        "\n",
        "  i=i+1\n",
        "\n",
        "  plt.suptitle('fft_pipeline', size=20)\n",
        "  plt.savefig(path_gdrive_plots+'fft_pipeline.png');"
      ],
      "execution_count": 0,
      "outputs": []
    },
    {
      "cell_type": "code",
      "metadata": {
        "id": "bRD0b9JtB_ra",
        "colab_type": "code",
        "cellView": "both",
        "outputId": "ed49dce7-4d58-493a-a611-6011797fa5e3",
        "colab": {
          "base_uri": "https://localhost:8080/",
          "height": 34
        }
      },
      "source": [
        "0#@title test stft n_fft\n",
        "run_stft_nfft = False #@param {type:\"boolean\"}\n",
        "\n",
        "if(run_stft_nfft):\n",
        "  power = range(5,13)\n",
        "  n_ffts = np.power(2,power)\n",
        "  plt.figure(figsize=(20,20))\n",
        "\n",
        "  i = 1\n",
        "  for n_fft in n_ffts:\n",
        "\n",
        "    stft = abs(librosa.stft(normalised_clips[0], center=False, n_fft=n_fft))\n",
        "    stft_mag, _ = librosa.magphase(stft)\n",
        "    stft_mag_db = librosa.amplitude_to_db(stft_mag)\n",
        "\n",
        "    plt.subplot(len(n_ffts), 1, i)\n",
        "    librosa.display.specshow(stft_mag_db, cmap='magma', y_axis='log', x_axis='time')\n",
        "    plt.colorbar(format='%+2.0f dB')\n",
        "    plt.title('n_fft' + str(n_fft))\n",
        "\n",
        "    i=i+1\n",
        "\n",
        "  plt.suptitle('stft of ' + file_names[0] + 'with differnt n_fft', size=20)\n",
        "  plt.savefig(path_gdrive_plots+'stft_n_fft.png');"
      ],
      "execution_count": 0,
      "outputs": [
        {
          "output_type": "execute_result",
          "data": {
            "text/plain": [
              "0"
            ]
          },
          "metadata": {
            "tags": []
          },
          "execution_count": 35
        }
      ]
    },
    {
      "cell_type": "code",
      "metadata": {
        "id": "78D3JJ7KUvf5",
        "colab_type": "code",
        "cellView": "form",
        "colab": {}
      },
      "source": [
        "#@title test mel n_fft\n",
        "run_mel_nfft = False #@param {type:\"boolean\"}\n",
        "\n",
        "if(run_mel_nfft):\n",
        "\n",
        "  n_ffts = np.power(2,power)\n",
        "  plt.figure(figsize=(20,20))\n",
        "\n",
        "  i = 1\n",
        "  for n_fft in n_ffts:\n",
        "\n",
        "    clip_mel_spec = librosa.feature.melspectrogram(clips[1], power=2)\n",
        "    clip_mel_spec_db = librosa.amplitude_to_db(clip_mel_spec, ref=np.max)\n",
        "\n",
        "    plt.subplot(len(n_ffts), 1, i)\n",
        "    librosa.display.specshow(clip_mel_spec_db, cmap='magma', y_axis='log', x_axis='time')\n",
        "    plt.colorbar(format='%+2.0f dB')\n",
        "    plt.title('n_fft' + str(n_fft))\n",
        "\n",
        "    i=i+1\n",
        "\n",
        "  plt.suptitle('mel stft of ' + file_names[0] + 'with differnt n_fft', size=20)\n",
        "  plt.savefig(path_gdrive_plots+'mel_stft_n_fft.png');"
      ],
      "execution_count": 0,
      "outputs": []
    },
    {
      "cell_type": "code",
      "metadata": {
        "id": "1CmGNnjX_e2x",
        "colab_type": "code",
        "cellView": "form",
        "colab": {}
      },
      "source": [
        "#@title test wavelet scales\n",
        "run_wavelet_scales = False #@param {type:\"boolean\"}\n",
        "\n",
        "if(run_wavelet_scales):\n",
        "  \n",
        "  plt.figure(figsize=(20,20))\n",
        "  scales_limit = 20\n",
        "\n",
        "  for i in range(scales_limit):\n",
        "\n",
        "    plt.subplot(scales_limit, 1, i+1)\n",
        "\n",
        "    coef, freqs = pywt.cwt(clips[0], np.arange(1,i), 'gaus1')\n",
        "    plt.imshow(coef, aspect='auto', cmap='PRGn');\n",
        "    plt.colorbar()\n",
        "    plt.title('scales' + str(i))\n",
        "\n",
        "  plt.suptitle('wavelet transform' + file_names[0] + 'with different scales', size=20)\n",
        "  plt.savefig(path_gdrive_plots+'wavelet_trans_scales.png');"
      ],
      "execution_count": 0,
      "outputs": []
    },
    {
      "cell_type": "code",
      "metadata": {
        "id": "XZNlHq6sbSMq",
        "colab_type": "code",
        "cellView": "form",
        "colab": {}
      },
      "source": [
        "#@title test wavelet funcs\n",
        "run_wavelet_funs = False #@param {type:\"boolean\"}\n",
        "\n",
        "if(run_wavelet_funs):\n",
        "  \n",
        "  plt.figure(figsize=(20,20))\n",
        "  wavelets = pywt.wavelist('gaus') + pywt.wavelist('mexh') + pywt.wavelist('morl')\n",
        "  i=1\n",
        "  for wavelet in wavelets:\n",
        "\n",
        "    plt.subplot(len(wavelets), 1, i)\n",
        "\n",
        "    coef, freqs = pywt.cwt(clips[0], np.arange(1,20), wavelet)\n",
        "    plt.imshow(coef, aspect='auto', cmap='PRGn');\n",
        "    plt.colorbar()\n",
        "    plt.title('wavlet: ' + wavelet)\n",
        "\n",
        "  #   for xline_breathing_out in xlines_breathing_out[0]:\n",
        "  #     plt.axvline(xline_breathing_out*sr, c='r')\n",
        "\n",
        "    i=i+1\n",
        "\n",
        "  plt.suptitle('wavelet transform' + file_names[0] + 'with different wavelet functions', size=20)\n",
        "  plt.savefig(path_gdrive_plots+'wavelet_trans_wav_func.png');"
      ],
      "execution_count": 0,
      "outputs": []
    },
    {
      "cell_type": "markdown",
      "metadata": {
        "colab_type": "text",
        "id": "N8nwX4nGh9yR"
      },
      "source": [
        "# Exporting"
      ]
    },
    {
      "cell_type": "markdown",
      "metadata": {
        "colab_type": "text",
        "id": "734rBn59h9yQ"
      },
      "source": [
        "use the marker and get the first following second of samples"
      ]
    },
    {
      "cell_type": "code",
      "metadata": {
        "colab_type": "code",
        "cellView": "both",
        "id": "wYfUHk38h9yN",
        "colab": {}
      },
      "source": [
        "#@title Export audio files { form-width: \"20%\" }\n",
        "run_export = True #@param {type:\"boolean\"}\n",
        "file_length_sec = 1\n",
        "\n",
        "\n",
        "if(run_export):\n",
        "  for clip_id in range(len(file_names)):\n",
        "    for xline_breathing_in in xlines_breathing_in[clip_id]:\n",
        "      export_file_name = str(clip_id) + '_' + str(xline_breathing_in)+'.wav'\n",
        "      file_start_sample = int(xline_breathing_in*sr)\n",
        "      file_end_sample = int( (xline_breathing_in+file_length_sec)*sr )\n",
        "      export_file_sample = clips[clip_id][file_start_sample:file_end_sample]\n",
        "      librosa.output.write_wav(path_gdrive_train_audio_in+export_file_name, export_file_sample, sr)\n",
        "\n",
        "    for xline_breathing_out in xlines_breathing_out[clip_id]:\n",
        "      export_file_name = str(clip_id) + '_' + str(xline_breathing_out)+'.wav'\n",
        "      file_start_sample = int(xline_breathing_out*sr)\n",
        "      file_end_sample = int( (xline_breathing_out+file_length_sec)*sr )\n",
        "      export_file_sample = clips[clip_id][file_start_sample:file_end_sample]\n",
        "      librosa.output.write_wav(path_gdrive_train_audio_out+export_file_name, export_file_sample, sr)"
      ],
      "execution_count": 0,
      "outputs": []
    },
    {
      "cell_type": "code",
      "metadata": {
        "colab_type": "code",
        "cellView": "both",
        "id": "e2UBZznle26P",
        "outputId": "c989eb1e-fe46-401d-a8c7-0fbc0cca0705",
        "colab": {
          "base_uri": "https://localhost:8080/",
          "height": 316
        }
      },
      "source": [
        "#@title read WAVs then generate IMGs for in and out { form-width: \"20%\" }\n",
        "run_img_export = True #@param {type:\"boolean\"}\n",
        "\n",
        "if(run_img_export):\n",
        "  temp_in_clips = []\n",
        "  temp_in_files = []\n",
        "\n",
        "  \n",
        "#   loading clips\n",
        "\n",
        "  for filename in os.listdir(path_gdrive_train_audio_in):\n",
        "      if filename.endswith(\"wav\"):\n",
        "        temp_in_files.append(filename)\n",
        "        temp_in_clip, temp_sr = librosa.load(path_gdrive_train_audio_in + filename)\n",
        "        temp_in_clips.append(temp_in_clip)\n",
        "\n",
        "\n",
        "  temp_out_clips = []\n",
        "  temp_out_files = []\n",
        "\n",
        "  for filename in os.listdir(path_gdrive_train_audio_out):\n",
        "      if filename.endswith(\"wav\"):\n",
        "        temp_out_files.append(filename)\n",
        "        temp_out_clip, temp_sr = librosa.load(path_gdrive_train_audio_out + filename)\n",
        "        temp_out_clips.append(temp_out_clip)\n",
        "\n",
        "\n",
        "\n",
        "#         process clips with pre pro-processing approaches\n",
        "\n",
        "  bandpass_filtered_clips = bandpass_filter(temp_in_clips)\n",
        "  pre_emphasized_clips = pre_emphasize(bandpass_filtered_clips)\n",
        "  hilbert_transformed_clips = hilbert_transform(pre_emphasized_clips, emd_enabled=False, amplitude_envelope_returned=True, instantaneous_frequency_returned=False)\n",
        "  normalised_clips = normalise(hilbert_transformed_clips)\n",
        "\n",
        "  \n",
        "  \n",
        "  for i in range(len(temp_in_clips)):\n",
        "\n",
        "    clip_mel_spec = librosa.feature.melspectrogram(normalised_clips[i])\n",
        "    clip_mel_spec_db = librosa.amplitude_to_db(clip_mel_spec, ref=np.max)\n",
        "\n",
        "    librosa.display.specshow(clip_mel_spec_db, cmap='magma', y_axis='log', x_axis='time')\n",
        "    plt.axis('off')\n",
        "    plt.savefig(path_gdrive_train_img_in + temp_in_files[i].split('.wav')[0] + '.png')\n",
        "\n",
        "\n",
        "\n",
        "  bandpass_filtered_clips = bandpass_filter(temp_out_clips)\n",
        "  pre_emphasized_clips = pre_emphasize(bandpass_filtered_clips)\n",
        "  hilbert_transformed_clips = hilbert_transform(pre_emphasized_clips, emd_enabled=False, amplitude_envelope_returned=True, instantaneous_frequency_returned=False)\n",
        "  normalised_clips = normalise(hilbert_transformed_clips)\n",
        "\n",
        "  for i in range(len(temp_out_clips)):\n",
        "\n",
        "    clip_mel_spec = librosa.feature.melspectrogram(normalised_clips[i])\n",
        "    clip_mel_spec_db = librosa.amplitude_to_db(clip_mel_spec, ref=np.max)\n",
        "\n",
        "    librosa.display.specshow(clip_mel_spec_db, cmap='magma', y_axis='log', x_axis='time')\n",
        "    plt.axis('off')\n",
        "    plt.savefig(path_gdrive_train_img_out + temp_out_files[i].split('.wav')[0] + '.png')"
      ],
      "execution_count": 0,
      "outputs": [
        {
          "output_type": "execute_result",
          "data": {
            "text/plain": [
              "<matplotlib.axes._subplots.AxesSubplot at 0x7f703509d5c0>"
            ]
          },
          "metadata": {
            "tags": []
          },
          "execution_count": 110
        },
        {
          "output_type": "execute_result",
          "data": {
            "text/plain": [
              "(0.0, 1.0216780045351475, 0.0, 11025.0)"
            ]
          },
          "metadata": {
            "tags": []
          },
          "execution_count": 110
        },
        {
          "output_type": "execute_result",
          "data": {
            "text/plain": [
              "<matplotlib.axes._subplots.AxesSubplot at 0x7f703509d5c0>"
            ]
          },
          "metadata": {
            "tags": []
          },
          "execution_count": 110
        },
        {
          "output_type": "execute_result",
          "data": {
            "text/plain": [
              "(0.0, 1.0216780045351475, 0.0, 11025.0)"
            ]
          },
          "metadata": {
            "tags": []
          },
          "execution_count": 110
        },
        {
          "output_type": "execute_result",
          "data": {
            "text/plain": [
              "<matplotlib.axes._subplots.AxesSubplot at 0x7f703509d5c0>"
            ]
          },
          "metadata": {
            "tags": []
          },
          "execution_count": 110
        },
        {
          "output_type": "execute_result",
          "data": {
            "text/plain": [
              "(0.0, 1.0216780045351475, 0.0, 11025.0)"
            ]
          },
          "metadata": {
            "tags": []
          },
          "execution_count": 110
        },
        {
          "output_type": "execute_result",
          "data": {
            "text/plain": [
              "<matplotlib.axes._subplots.AxesSubplot at 0x7f703509d5c0>"
            ]
          },
          "metadata": {
            "tags": []
          },
          "execution_count": 110
        },
        {
          "output_type": "execute_result",
          "data": {
            "text/plain": [
              "(0.0, 1.0216780045351475, 0.0, 11025.0)"
            ]
          },
          "metadata": {
            "tags": []
          },
          "execution_count": 110
        },
        {
          "output_type": "execute_result",
          "data": {
            "text/plain": [
              "<matplotlib.axes._subplots.AxesSubplot at 0x7f703509d5c0>"
            ]
          },
          "metadata": {
            "tags": []
          },
          "execution_count": 110
        },
        {
          "output_type": "execute_result",
          "data": {
            "text/plain": [
              "(0.0, 1.0216780045351475, 0.0, 11025.0)"
            ]
          },
          "metadata": {
            "tags": []
          },
          "execution_count": 110
        },
        {
          "output_type": "execute_result",
          "data": {
            "text/plain": [
              "<matplotlib.axes._subplots.AxesSubplot at 0x7f703509d5c0>"
            ]
          },
          "metadata": {
            "tags": []
          },
          "execution_count": 110
        },
        {
          "output_type": "execute_result",
          "data": {
            "text/plain": [
              "(0.0, 1.0216780045351475, 0.0, 11025.0)"
            ]
          },
          "metadata": {
            "tags": []
          },
          "execution_count": 110
        },
        {
          "output_type": "execute_result",
          "data": {
            "text/plain": [
              "<matplotlib.axes._subplots.AxesSubplot at 0x7f703509d5c0>"
            ]
          },
          "metadata": {
            "tags": []
          },
          "execution_count": 110
        },
        {
          "output_type": "execute_result",
          "data": {
            "text/plain": [
              "(0.0, 1.0216780045351475, 0.0, 11025.0)"
            ]
          },
          "metadata": {
            "tags": []
          },
          "execution_count": 110
        },
        {
          "output_type": "execute_result",
          "data": {
            "text/plain": [
              "<matplotlib.axes._subplots.AxesSubplot at 0x7f703509d5c0>"
            ]
          },
          "metadata": {
            "tags": []
          },
          "execution_count": 110
        },
        {
          "output_type": "execute_result",
          "data": {
            "text/plain": [
              "(0.0, 1.0216780045351475, 0.0, 11025.0)"
            ]
          },
          "metadata": {
            "tags": []
          },
          "execution_count": 110
        },
        {
          "output_type": "execute_result",
          "data": {
            "text/plain": [
              "<matplotlib.axes._subplots.AxesSubplot at 0x7f703509d5c0>"
            ]
          },
          "metadata": {
            "tags": []
          },
          "execution_count": 110
        },
        {
          "output_type": "execute_result",
          "data": {
            "text/plain": [
              "(0.0, 1.0216780045351475, 0.0, 11025.0)"
            ]
          },
          "metadata": {
            "tags": []
          },
          "execution_count": 110
        },
        {
          "output_type": "execute_result",
          "data": {
            "text/plain": [
              "<matplotlib.axes._subplots.AxesSubplot at 0x7f703509d5c0>"
            ]
          },
          "metadata": {
            "tags": []
          },
          "execution_count": 110
        },
        {
          "output_type": "execute_result",
          "data": {
            "text/plain": [
              "(0.0, 1.0216780045351475, 0.0, 11025.0)"
            ]
          },
          "metadata": {
            "tags": []
          },
          "execution_count": 110
        },
        {
          "output_type": "execute_result",
          "data": {
            "text/plain": [
              "<matplotlib.axes._subplots.AxesSubplot at 0x7f703509d5c0>"
            ]
          },
          "metadata": {
            "tags": []
          },
          "execution_count": 110
        },
        {
          "output_type": "execute_result",
          "data": {
            "text/plain": [
              "(0.0, 0.3250793650793651, 0.0, 11025.0)"
            ]
          },
          "metadata": {
            "tags": []
          },
          "execution_count": 110
        },
        {
          "output_type": "execute_result",
          "data": {
            "text/plain": [
              "<matplotlib.axes._subplots.AxesSubplot at 0x7f703509d5c0>"
            ]
          },
          "metadata": {
            "tags": []
          },
          "execution_count": 110
        },
        {
          "output_type": "execute_result",
          "data": {
            "text/plain": [
              "(0.0, 1.0216780045351475, 0.0, 11025.0)"
            ]
          },
          "metadata": {
            "tags": []
          },
          "execution_count": 110
        },
        {
          "output_type": "execute_result",
          "data": {
            "text/plain": [
              "<matplotlib.axes._subplots.AxesSubplot at 0x7f703509d5c0>"
            ]
          },
          "metadata": {
            "tags": []
          },
          "execution_count": 110
        },
        {
          "output_type": "execute_result",
          "data": {
            "text/plain": [
              "(0.0, 1.0216780045351475, 0.0, 11025.0)"
            ]
          },
          "metadata": {
            "tags": []
          },
          "execution_count": 110
        },
        {
          "output_type": "execute_result",
          "data": {
            "text/plain": [
              "<matplotlib.axes._subplots.AxesSubplot at 0x7f703509d5c0>"
            ]
          },
          "metadata": {
            "tags": []
          },
          "execution_count": 110
        },
        {
          "output_type": "execute_result",
          "data": {
            "text/plain": [
              "(0.0, 1.0216780045351475, 0.0, 11025.0)"
            ]
          },
          "metadata": {
            "tags": []
          },
          "execution_count": 110
        },
        {
          "output_type": "execute_result",
          "data": {
            "text/plain": [
              "<matplotlib.axes._subplots.AxesSubplot at 0x7f703509d5c0>"
            ]
          },
          "metadata": {
            "tags": []
          },
          "execution_count": 110
        },
        {
          "output_type": "execute_result",
          "data": {
            "text/plain": [
              "(0.0, 1.0216780045351475, 0.0, 11025.0)"
            ]
          },
          "metadata": {
            "tags": []
          },
          "execution_count": 110
        },
        {
          "output_type": "execute_result",
          "data": {
            "text/plain": [
              "<matplotlib.axes._subplots.AxesSubplot at 0x7f703509d5c0>"
            ]
          },
          "metadata": {
            "tags": []
          },
          "execution_count": 110
        },
        {
          "output_type": "execute_result",
          "data": {
            "text/plain": [
              "(0.0, 1.0216780045351475, 0.0, 11025.0)"
            ]
          },
          "metadata": {
            "tags": []
          },
          "execution_count": 110
        },
        {
          "output_type": "execute_result",
          "data": {
            "text/plain": [
              "<matplotlib.axes._subplots.AxesSubplot at 0x7f703509d5c0>"
            ]
          },
          "metadata": {
            "tags": []
          },
          "execution_count": 110
        },
        {
          "output_type": "execute_result",
          "data": {
            "text/plain": [
              "(0.0, 1.0216780045351475, 0.0, 11025.0)"
            ]
          },
          "metadata": {
            "tags": []
          },
          "execution_count": 110
        },
        {
          "output_type": "execute_result",
          "data": {
            "text/plain": [
              "<matplotlib.axes._subplots.AxesSubplot at 0x7f703509d5c0>"
            ]
          },
          "metadata": {
            "tags": []
          },
          "execution_count": 110
        },
        {
          "output_type": "execute_result",
          "data": {
            "text/plain": [
              "(0.0, 1.0216780045351475, 0.0, 11025.0)"
            ]
          },
          "metadata": {
            "tags": []
          },
          "execution_count": 110
        },
        {
          "output_type": "execute_result",
          "data": {
            "text/plain": [
              "<matplotlib.axes._subplots.AxesSubplot at 0x7f703509d5c0>"
            ]
          },
          "metadata": {
            "tags": []
          },
          "execution_count": 110
        },
        {
          "output_type": "execute_result",
          "data": {
            "text/plain": [
              "(0.0, 1.0216780045351475, 0.0, 11025.0)"
            ]
          },
          "metadata": {
            "tags": []
          },
          "execution_count": 110
        },
        {
          "output_type": "execute_result",
          "data": {
            "text/plain": [
              "<matplotlib.axes._subplots.AxesSubplot at 0x7f703509d5c0>"
            ]
          },
          "metadata": {
            "tags": []
          },
          "execution_count": 110
        },
        {
          "output_type": "execute_result",
          "data": {
            "text/plain": [
              "(0.0, 1.0216780045351475, 0.0, 11025.0)"
            ]
          },
          "metadata": {
            "tags": []
          },
          "execution_count": 110
        },
        {
          "output_type": "execute_result",
          "data": {
            "text/plain": [
              "<matplotlib.axes._subplots.AxesSubplot at 0x7f703509d5c0>"
            ]
          },
          "metadata": {
            "tags": []
          },
          "execution_count": 110
        },
        {
          "output_type": "execute_result",
          "data": {
            "text/plain": [
              "(0.0, 1.0216780045351475, 0.0, 11025.0)"
            ]
          },
          "metadata": {
            "tags": []
          },
          "execution_count": 110
        },
        {
          "output_type": "execute_result",
          "data": {
            "text/plain": [
              "<matplotlib.axes._subplots.AxesSubplot at 0x7f703509d5c0>"
            ]
          },
          "metadata": {
            "tags": []
          },
          "execution_count": 110
        },
        {
          "output_type": "execute_result",
          "data": {
            "text/plain": [
              "(0.0, 1.0216780045351475, 0.0, 11025.0)"
            ]
          },
          "metadata": {
            "tags": []
          },
          "execution_count": 110
        },
        {
          "output_type": "execute_result",
          "data": {
            "text/plain": [
              "<matplotlib.axes._subplots.AxesSubplot at 0x7f703509d5c0>"
            ]
          },
          "metadata": {
            "tags": []
          },
          "execution_count": 110
        },
        {
          "output_type": "execute_result",
          "data": {
            "text/plain": [
              "(0.0, 1.0216780045351475, 0.0, 11025.0)"
            ]
          },
          "metadata": {
            "tags": []
          },
          "execution_count": 110
        },
        {
          "output_type": "execute_result",
          "data": {
            "text/plain": [
              "<matplotlib.axes._subplots.AxesSubplot at 0x7f703509d5c0>"
            ]
          },
          "metadata": {
            "tags": []
          },
          "execution_count": 110
        },
        {
          "output_type": "execute_result",
          "data": {
            "text/plain": [
              "(0.0, 1.0216780045351475, 0.0, 11025.0)"
            ]
          },
          "metadata": {
            "tags": []
          },
          "execution_count": 110
        },
        {
          "output_type": "execute_result",
          "data": {
            "text/plain": [
              "<matplotlib.axes._subplots.AxesSubplot at 0x7f703509d5c0>"
            ]
          },
          "metadata": {
            "tags": []
          },
          "execution_count": 110
        },
        {
          "output_type": "execute_result",
          "data": {
            "text/plain": [
              "(0.0, 1.0216780045351475, 0.0, 11025.0)"
            ]
          },
          "metadata": {
            "tags": []
          },
          "execution_count": 110
        },
        {
          "output_type": "execute_result",
          "data": {
            "text/plain": [
              "<matplotlib.axes._subplots.AxesSubplot at 0x7f703509d5c0>"
            ]
          },
          "metadata": {
            "tags": []
          },
          "execution_count": 110
        },
        {
          "output_type": "execute_result",
          "data": {
            "text/plain": [
              "(0.0, 1.0216780045351475, 0.0, 11025.0)"
            ]
          },
          "metadata": {
            "tags": []
          },
          "execution_count": 110
        },
        {
          "output_type": "execute_result",
          "data": {
            "text/plain": [
              "<matplotlib.axes._subplots.AxesSubplot at 0x7f703509d5c0>"
            ]
          },
          "metadata": {
            "tags": []
          },
          "execution_count": 110
        },
        {
          "output_type": "execute_result",
          "data": {
            "text/plain": [
              "(0.0, 1.0216780045351475, 0.0, 11025.0)"
            ]
          },
          "metadata": {
            "tags": []
          },
          "execution_count": 110
        },
        {
          "output_type": "execute_result",
          "data": {
            "text/plain": [
              "<matplotlib.axes._subplots.AxesSubplot at 0x7f703509d5c0>"
            ]
          },
          "metadata": {
            "tags": []
          },
          "execution_count": 110
        },
        {
          "output_type": "execute_result",
          "data": {
            "text/plain": [
              "(0.0, 1.0216780045351475, 0.0, 11025.0)"
            ]
          },
          "metadata": {
            "tags": []
          },
          "execution_count": 110
        },
        {
          "output_type": "execute_result",
          "data": {
            "text/plain": [
              "<matplotlib.axes._subplots.AxesSubplot at 0x7f703509d5c0>"
            ]
          },
          "metadata": {
            "tags": []
          },
          "execution_count": 110
        },
        {
          "output_type": "execute_result",
          "data": {
            "text/plain": [
              "(0.0, 1.0216780045351475, 0.0, 11025.0)"
            ]
          },
          "metadata": {
            "tags": []
          },
          "execution_count": 110
        },
        {
          "output_type": "execute_result",
          "data": {
            "text/plain": [
              "<matplotlib.axes._subplots.AxesSubplot at 0x7f703509d5c0>"
            ]
          },
          "metadata": {
            "tags": []
          },
          "execution_count": 110
        },
        {
          "output_type": "execute_result",
          "data": {
            "text/plain": [
              "(0.0, 1.0216780045351475, 0.0, 11025.0)"
            ]
          },
          "metadata": {
            "tags": []
          },
          "execution_count": 110
        },
        {
          "output_type": "execute_result",
          "data": {
            "text/plain": [
              "<matplotlib.axes._subplots.AxesSubplot at 0x7f703509d5c0>"
            ]
          },
          "metadata": {
            "tags": []
          },
          "execution_count": 110
        },
        {
          "output_type": "execute_result",
          "data": {
            "text/plain": [
              "(0.0, 1.0216780045351475, 0.0, 11025.0)"
            ]
          },
          "metadata": {
            "tags": []
          },
          "execution_count": 110
        },
        {
          "output_type": "execute_result",
          "data": {
            "text/plain": [
              "<matplotlib.axes._subplots.AxesSubplot at 0x7f703509d5c0>"
            ]
          },
          "metadata": {
            "tags": []
          },
          "execution_count": 110
        },
        {
          "output_type": "execute_result",
          "data": {
            "text/plain": [
              "(0.0, 1.0216780045351475, 0.0, 11025.0)"
            ]
          },
          "metadata": {
            "tags": []
          },
          "execution_count": 110
        },
        {
          "output_type": "execute_result",
          "data": {
            "text/plain": [
              "<matplotlib.axes._subplots.AxesSubplot at 0x7f703509d5c0>"
            ]
          },
          "metadata": {
            "tags": []
          },
          "execution_count": 110
        },
        {
          "output_type": "execute_result",
          "data": {
            "text/plain": [
              "(0.0, 1.0216780045351475, 0.0, 11025.0)"
            ]
          },
          "metadata": {
            "tags": []
          },
          "execution_count": 110
        },
        {
          "output_type": "execute_result",
          "data": {
            "text/plain": [
              "<matplotlib.axes._subplots.AxesSubplot at 0x7f703509d5c0>"
            ]
          },
          "metadata": {
            "tags": []
          },
          "execution_count": 110
        },
        {
          "output_type": "execute_result",
          "data": {
            "text/plain": [
              "(0.0, 1.0216780045351475, 0.0, 11025.0)"
            ]
          },
          "metadata": {
            "tags": []
          },
          "execution_count": 110
        },
        {
          "output_type": "execute_result",
          "data": {
            "text/plain": [
              "<matplotlib.axes._subplots.AxesSubplot at 0x7f703509d5c0>"
            ]
          },
          "metadata": {
            "tags": []
          },
          "execution_count": 110
        },
        {
          "output_type": "execute_result",
          "data": {
            "text/plain": [
              "(0.0, 1.0216780045351475, 0.0, 11025.0)"
            ]
          },
          "metadata": {
            "tags": []
          },
          "execution_count": 110
        },
        {
          "output_type": "execute_result",
          "data": {
            "text/plain": [
              "<matplotlib.axes._subplots.AxesSubplot at 0x7f703509d5c0>"
            ]
          },
          "metadata": {
            "tags": []
          },
          "execution_count": 110
        },
        {
          "output_type": "execute_result",
          "data": {
            "text/plain": [
              "(0.0, 1.0216780045351475, 0.0, 11025.0)"
            ]
          },
          "metadata": {
            "tags": []
          },
          "execution_count": 110
        },
        {
          "output_type": "execute_result",
          "data": {
            "text/plain": [
              "<matplotlib.axes._subplots.AxesSubplot at 0x7f703509d5c0>"
            ]
          },
          "metadata": {
            "tags": []
          },
          "execution_count": 110
        },
        {
          "output_type": "execute_result",
          "data": {
            "text/plain": [
              "(0.0, 1.0216780045351475, 0.0, 11025.0)"
            ]
          },
          "metadata": {
            "tags": []
          },
          "execution_count": 110
        },
        {
          "output_type": "execute_result",
          "data": {
            "text/plain": [
              "<matplotlib.axes._subplots.AxesSubplot at 0x7f703509d5c0>"
            ]
          },
          "metadata": {
            "tags": []
          },
          "execution_count": 110
        },
        {
          "output_type": "execute_result",
          "data": {
            "text/plain": [
              "(0.0, 1.0216780045351475, 0.0, 11025.0)"
            ]
          },
          "metadata": {
            "tags": []
          },
          "execution_count": 110
        },
        {
          "output_type": "execute_result",
          "data": {
            "text/plain": [
              "<matplotlib.axes._subplots.AxesSubplot at 0x7f703509d5c0>"
            ]
          },
          "metadata": {
            "tags": []
          },
          "execution_count": 110
        },
        {
          "output_type": "execute_result",
          "data": {
            "text/plain": [
              "(0.0, 1.0216780045351475, 0.0, 11025.0)"
            ]
          },
          "metadata": {
            "tags": []
          },
          "execution_count": 110
        },
        {
          "output_type": "execute_result",
          "data": {
            "text/plain": [
              "<matplotlib.axes._subplots.AxesSubplot at 0x7f703509d5c0>"
            ]
          },
          "metadata": {
            "tags": []
          },
          "execution_count": 110
        },
        {
          "output_type": "execute_result",
          "data": {
            "text/plain": [
              "(0.0, 1.0216780045351475, 0.0, 11025.0)"
            ]
          },
          "metadata": {
            "tags": []
          },
          "execution_count": 110
        },
        {
          "output_type": "execute_result",
          "data": {
            "text/plain": [
              "<matplotlib.axes._subplots.AxesSubplot at 0x7f703509d5c0>"
            ]
          },
          "metadata": {
            "tags": []
          },
          "execution_count": 110
        },
        {
          "output_type": "execute_result",
          "data": {
            "text/plain": [
              "(0.0, 1.0216780045351475, 0.0, 11025.0)"
            ]
          },
          "metadata": {
            "tags": []
          },
          "execution_count": 110
        },
        {
          "output_type": "execute_result",
          "data": {
            "text/plain": [
              "<matplotlib.axes._subplots.AxesSubplot at 0x7f703509d5c0>"
            ]
          },
          "metadata": {
            "tags": []
          },
          "execution_count": 110
        },
        {
          "output_type": "execute_result",
          "data": {
            "text/plain": [
              "(0.0, 1.0216780045351475, 0.0, 11025.0)"
            ]
          },
          "metadata": {
            "tags": []
          },
          "execution_count": 110
        },
        {
          "output_type": "execute_result",
          "data": {
            "text/plain": [
              "<matplotlib.axes._subplots.AxesSubplot at 0x7f703509d5c0>"
            ]
          },
          "metadata": {
            "tags": []
          },
          "execution_count": 110
        },
        {
          "output_type": "execute_result",
          "data": {
            "text/plain": [
              "(0.0, 1.0216780045351475, 0.0, 11025.0)"
            ]
          },
          "metadata": {
            "tags": []
          },
          "execution_count": 110
        },
        {
          "output_type": "execute_result",
          "data": {
            "text/plain": [
              "<matplotlib.axes._subplots.AxesSubplot at 0x7f703509d5c0>"
            ]
          },
          "metadata": {
            "tags": []
          },
          "execution_count": 110
        },
        {
          "output_type": "execute_result",
          "data": {
            "text/plain": [
              "(0.0, 1.0216780045351475, 0.0, 11025.0)"
            ]
          },
          "metadata": {
            "tags": []
          },
          "execution_count": 110
        },
        {
          "output_type": "execute_result",
          "data": {
            "text/plain": [
              "<matplotlib.axes._subplots.AxesSubplot at 0x7f703509d5c0>"
            ]
          },
          "metadata": {
            "tags": []
          },
          "execution_count": 110
        },
        {
          "output_type": "execute_result",
          "data": {
            "text/plain": [
              "(0.0, 1.0216780045351475, 0.0, 11025.0)"
            ]
          },
          "metadata": {
            "tags": []
          },
          "execution_count": 110
        },
        {
          "output_type": "execute_result",
          "data": {
            "text/plain": [
              "<matplotlib.axes._subplots.AxesSubplot at 0x7f703509d5c0>"
            ]
          },
          "metadata": {
            "tags": []
          },
          "execution_count": 110
        },
        {
          "output_type": "execute_result",
          "data": {
            "text/plain": [
              "(0.0, 1.0216780045351475, 0.0, 11025.0)"
            ]
          },
          "metadata": {
            "tags": []
          },
          "execution_count": 110
        },
        {
          "output_type": "execute_result",
          "data": {
            "text/plain": [
              "<matplotlib.axes._subplots.AxesSubplot at 0x7f703509d5c0>"
            ]
          },
          "metadata": {
            "tags": []
          },
          "execution_count": 110
        },
        {
          "output_type": "execute_result",
          "data": {
            "text/plain": [
              "(0.0, 1.0216780045351475, 0.0, 11025.0)"
            ]
          },
          "metadata": {
            "tags": []
          },
          "execution_count": 110
        },
        {
          "output_type": "execute_result",
          "data": {
            "text/plain": [
              "<matplotlib.axes._subplots.AxesSubplot at 0x7f703509d5c0>"
            ]
          },
          "metadata": {
            "tags": []
          },
          "execution_count": 110
        },
        {
          "output_type": "execute_result",
          "data": {
            "text/plain": [
              "(0.0, 1.0216780045351475, 0.0, 11025.0)"
            ]
          },
          "metadata": {
            "tags": []
          },
          "execution_count": 110
        },
        {
          "output_type": "execute_result",
          "data": {
            "text/plain": [
              "<matplotlib.axes._subplots.AxesSubplot at 0x7f703509d5c0>"
            ]
          },
          "metadata": {
            "tags": []
          },
          "execution_count": 110
        },
        {
          "output_type": "execute_result",
          "data": {
            "text/plain": [
              "(0.0, 1.0216780045351475, 0.0, 11025.0)"
            ]
          },
          "metadata": {
            "tags": []
          },
          "execution_count": 110
        },
        {
          "output_type": "execute_result",
          "data": {
            "text/plain": [
              "<matplotlib.axes._subplots.AxesSubplot at 0x7f703509d5c0>"
            ]
          },
          "metadata": {
            "tags": []
          },
          "execution_count": 110
        },
        {
          "output_type": "execute_result",
          "data": {
            "text/plain": [
              "(0.0, 1.0216780045351475, 0.0, 11025.0)"
            ]
          },
          "metadata": {
            "tags": []
          },
          "execution_count": 110
        },
        {
          "output_type": "execute_result",
          "data": {
            "text/plain": [
              "<matplotlib.axes._subplots.AxesSubplot at 0x7f703509d5c0>"
            ]
          },
          "metadata": {
            "tags": []
          },
          "execution_count": 110
        },
        {
          "output_type": "execute_result",
          "data": {
            "text/plain": [
              "(0.0, 1.0216780045351475, 0.0, 11025.0)"
            ]
          },
          "metadata": {
            "tags": []
          },
          "execution_count": 110
        },
        {
          "output_type": "execute_result",
          "data": {
            "text/plain": [
              "<matplotlib.axes._subplots.AxesSubplot at 0x7f703509d5c0>"
            ]
          },
          "metadata": {
            "tags": []
          },
          "execution_count": 110
        },
        {
          "output_type": "execute_result",
          "data": {
            "text/plain": [
              "(0.0, 1.0216780045351475, 0.0, 11025.0)"
            ]
          },
          "metadata": {
            "tags": []
          },
          "execution_count": 110
        },
        {
          "output_type": "execute_result",
          "data": {
            "text/plain": [
              "<matplotlib.axes._subplots.AxesSubplot at 0x7f703509d5c0>"
            ]
          },
          "metadata": {
            "tags": []
          },
          "execution_count": 110
        },
        {
          "output_type": "execute_result",
          "data": {
            "text/plain": [
              "(0.0, 1.0216780045351475, 0.0, 11025.0)"
            ]
          },
          "metadata": {
            "tags": []
          },
          "execution_count": 110
        },
        {
          "output_type": "execute_result",
          "data": {
            "text/plain": [
              "<matplotlib.axes._subplots.AxesSubplot at 0x7f703509d5c0>"
            ]
          },
          "metadata": {
            "tags": []
          },
          "execution_count": 110
        },
        {
          "output_type": "execute_result",
          "data": {
            "text/plain": [
              "(0.0, 1.0216780045351475, 0.0, 11025.0)"
            ]
          },
          "metadata": {
            "tags": []
          },
          "execution_count": 110
        },
        {
          "output_type": "execute_result",
          "data": {
            "text/plain": [
              "<matplotlib.axes._subplots.AxesSubplot at 0x7f703509d5c0>"
            ]
          },
          "metadata": {
            "tags": []
          },
          "execution_count": 110
        },
        {
          "output_type": "execute_result",
          "data": {
            "text/plain": [
              "(0.0, 1.0216780045351475, 0.0, 11025.0)"
            ]
          },
          "metadata": {
            "tags": []
          },
          "execution_count": 110
        },
        {
          "output_type": "execute_result",
          "data": {
            "text/plain": [
              "<matplotlib.axes._subplots.AxesSubplot at 0x7f703509d5c0>"
            ]
          },
          "metadata": {
            "tags": []
          },
          "execution_count": 110
        },
        {
          "output_type": "execute_result",
          "data": {
            "text/plain": [
              "(0.0, 1.0216780045351475, 0.0, 11025.0)"
            ]
          },
          "metadata": {
            "tags": []
          },
          "execution_count": 110
        },
        {
          "output_type": "execute_result",
          "data": {
            "text/plain": [
              "<matplotlib.axes._subplots.AxesSubplot at 0x7f703509d5c0>"
            ]
          },
          "metadata": {
            "tags": []
          },
          "execution_count": 110
        },
        {
          "output_type": "execute_result",
          "data": {
            "text/plain": [
              "(0.0, 1.0216780045351475, 0.0, 11025.0)"
            ]
          },
          "metadata": {
            "tags": []
          },
          "execution_count": 110
        },
        {
          "output_type": "execute_result",
          "data": {
            "text/plain": [
              "<matplotlib.axes._subplots.AxesSubplot at 0x7f703509d5c0>"
            ]
          },
          "metadata": {
            "tags": []
          },
          "execution_count": 110
        },
        {
          "output_type": "execute_result",
          "data": {
            "text/plain": [
              "(0.0, 1.0216780045351475, 0.0, 11025.0)"
            ]
          },
          "metadata": {
            "tags": []
          },
          "execution_count": 110
        },
        {
          "output_type": "execute_result",
          "data": {
            "text/plain": [
              "<matplotlib.axes._subplots.AxesSubplot at 0x7f703509d5c0>"
            ]
          },
          "metadata": {
            "tags": []
          },
          "execution_count": 110
        },
        {
          "output_type": "execute_result",
          "data": {
            "text/plain": [
              "(0.0, 1.0216780045351475, 0.0, 11025.0)"
            ]
          },
          "metadata": {
            "tags": []
          },
          "execution_count": 110
        },
        {
          "output_type": "execute_result",
          "data": {
            "text/plain": [
              "<matplotlib.axes._subplots.AxesSubplot at 0x7f703509d5c0>"
            ]
          },
          "metadata": {
            "tags": []
          },
          "execution_count": 110
        },
        {
          "output_type": "execute_result",
          "data": {
            "text/plain": [
              "(0.0, 1.0216780045351475, 0.0, 11025.0)"
            ]
          },
          "metadata": {
            "tags": []
          },
          "execution_count": 110
        },
        {
          "output_type": "execute_result",
          "data": {
            "text/plain": [
              "<matplotlib.axes._subplots.AxesSubplot at 0x7f703509d5c0>"
            ]
          },
          "metadata": {
            "tags": []
          },
          "execution_count": 110
        },
        {
          "output_type": "execute_result",
          "data": {
            "text/plain": [
              "(0.0, 1.0216780045351475, 0.0, 11025.0)"
            ]
          },
          "metadata": {
            "tags": []
          },
          "execution_count": 110
        },
        {
          "output_type": "execute_result",
          "data": {
            "text/plain": [
              "<matplotlib.axes._subplots.AxesSubplot at 0x7f703509d5c0>"
            ]
          },
          "metadata": {
            "tags": []
          },
          "execution_count": 110
        },
        {
          "output_type": "execute_result",
          "data": {
            "text/plain": [
              "(0.0, 1.0216780045351475, 0.0, 11025.0)"
            ]
          },
          "metadata": {
            "tags": []
          },
          "execution_count": 110
        },
        {
          "output_type": "execute_result",
          "data": {
            "text/plain": [
              "<matplotlib.axes._subplots.AxesSubplot at 0x7f703509d5c0>"
            ]
          },
          "metadata": {
            "tags": []
          },
          "execution_count": 110
        },
        {
          "output_type": "execute_result",
          "data": {
            "text/plain": [
              "(0.0, 1.0216780045351475, 0.0, 11025.0)"
            ]
          },
          "metadata": {
            "tags": []
          },
          "execution_count": 110
        },
        {
          "output_type": "execute_result",
          "data": {
            "text/plain": [
              "<matplotlib.axes._subplots.AxesSubplot at 0x7f703509d5c0>"
            ]
          },
          "metadata": {
            "tags": []
          },
          "execution_count": 110
        },
        {
          "output_type": "execute_result",
          "data": {
            "text/plain": [
              "(0.0, 1.0216780045351475, 0.0, 11025.0)"
            ]
          },
          "metadata": {
            "tags": []
          },
          "execution_count": 110
        },
        {
          "output_type": "execute_result",
          "data": {
            "text/plain": [
              "<matplotlib.axes._subplots.AxesSubplot at 0x7f703509d5c0>"
            ]
          },
          "metadata": {
            "tags": []
          },
          "execution_count": 110
        },
        {
          "output_type": "execute_result",
          "data": {
            "text/plain": [
              "(0.0, 1.0216780045351475, 0.0, 11025.0)"
            ]
          },
          "metadata": {
            "tags": []
          },
          "execution_count": 110
        },
        {
          "output_type": "execute_result",
          "data": {
            "text/plain": [
              "<matplotlib.axes._subplots.AxesSubplot at 0x7f703509d5c0>"
            ]
          },
          "metadata": {
            "tags": []
          },
          "execution_count": 110
        },
        {
          "output_type": "execute_result",
          "data": {
            "text/plain": [
              "(0.0, 1.0216780045351475, 0.0, 11025.0)"
            ]
          },
          "metadata": {
            "tags": []
          },
          "execution_count": 110
        },
        {
          "output_type": "execute_result",
          "data": {
            "text/plain": [
              "<matplotlib.axes._subplots.AxesSubplot at 0x7f703509d5c0>"
            ]
          },
          "metadata": {
            "tags": []
          },
          "execution_count": 110
        },
        {
          "output_type": "execute_result",
          "data": {
            "text/plain": [
              "(0.0, 1.0216780045351475, 0.0, 11025.0)"
            ]
          },
          "metadata": {
            "tags": []
          },
          "execution_count": 110
        },
        {
          "output_type": "execute_result",
          "data": {
            "text/plain": [
              "<matplotlib.axes._subplots.AxesSubplot at 0x7f703509d5c0>"
            ]
          },
          "metadata": {
            "tags": []
          },
          "execution_count": 110
        },
        {
          "output_type": "execute_result",
          "data": {
            "text/plain": [
              "(0.0, 1.0216780045351475, 0.0, 11025.0)"
            ]
          },
          "metadata": {
            "tags": []
          },
          "execution_count": 110
        },
        {
          "output_type": "execute_result",
          "data": {
            "text/plain": [
              "<matplotlib.axes._subplots.AxesSubplot at 0x7f703509d5c0>"
            ]
          },
          "metadata": {
            "tags": []
          },
          "execution_count": 110
        },
        {
          "output_type": "execute_result",
          "data": {
            "text/plain": [
              "(0.0, 1.0216780045351475, 0.0, 11025.0)"
            ]
          },
          "metadata": {
            "tags": []
          },
          "execution_count": 110
        },
        {
          "output_type": "execute_result",
          "data": {
            "text/plain": [
              "<matplotlib.axes._subplots.AxesSubplot at 0x7f703509d5c0>"
            ]
          },
          "metadata": {
            "tags": []
          },
          "execution_count": 110
        },
        {
          "output_type": "execute_result",
          "data": {
            "text/plain": [
              "(0.0, 1.0216780045351475, 0.0, 11025.0)"
            ]
          },
          "metadata": {
            "tags": []
          },
          "execution_count": 110
        },
        {
          "output_type": "execute_result",
          "data": {
            "text/plain": [
              "<matplotlib.axes._subplots.AxesSubplot at 0x7f703509d5c0>"
            ]
          },
          "metadata": {
            "tags": []
          },
          "execution_count": 110
        },
        {
          "output_type": "execute_result",
          "data": {
            "text/plain": [
              "(0.0, 1.0216780045351475, 0.0, 11025.0)"
            ]
          },
          "metadata": {
            "tags": []
          },
          "execution_count": 110
        },
        {
          "output_type": "execute_result",
          "data": {
            "text/plain": [
              "<matplotlib.axes._subplots.AxesSubplot at 0x7f703509d5c0>"
            ]
          },
          "metadata": {
            "tags": []
          },
          "execution_count": 110
        },
        {
          "output_type": "execute_result",
          "data": {
            "text/plain": [
              "(0.0, 1.0216780045351475, 0.0, 11025.0)"
            ]
          },
          "metadata": {
            "tags": []
          },
          "execution_count": 110
        },
        {
          "output_type": "execute_result",
          "data": {
            "text/plain": [
              "<matplotlib.axes._subplots.AxesSubplot at 0x7f703509d5c0>"
            ]
          },
          "metadata": {
            "tags": []
          },
          "execution_count": 110
        },
        {
          "output_type": "execute_result",
          "data": {
            "text/plain": [
              "(0.0, 1.0216780045351475, 0.0, 11025.0)"
            ]
          },
          "metadata": {
            "tags": []
          },
          "execution_count": 110
        },
        {
          "output_type": "execute_result",
          "data": {
            "text/plain": [
              "<matplotlib.axes._subplots.AxesSubplot at 0x7f703509d5c0>"
            ]
          },
          "metadata": {
            "tags": []
          },
          "execution_count": 110
        },
        {
          "output_type": "execute_result",
          "data": {
            "text/plain": [
              "(0.0, 1.0216780045351475, 0.0, 11025.0)"
            ]
          },
          "metadata": {
            "tags": []
          },
          "execution_count": 110
        },
        {
          "output_type": "execute_result",
          "data": {
            "text/plain": [
              "<matplotlib.axes._subplots.AxesSubplot at 0x7f703509d5c0>"
            ]
          },
          "metadata": {
            "tags": []
          },
          "execution_count": 110
        },
        {
          "output_type": "execute_result",
          "data": {
            "text/plain": [
              "(0.0, 1.0216780045351475, 0.0, 11025.0)"
            ]
          },
          "metadata": {
            "tags": []
          },
          "execution_count": 110
        },
        {
          "output_type": "execute_result",
          "data": {
            "text/plain": [
              "<matplotlib.axes._subplots.AxesSubplot at 0x7f703509d5c0>"
            ]
          },
          "metadata": {
            "tags": []
          },
          "execution_count": 110
        },
        {
          "output_type": "execute_result",
          "data": {
            "text/plain": [
              "(0.0, 1.0216780045351475, 0.0, 11025.0)"
            ]
          },
          "metadata": {
            "tags": []
          },
          "execution_count": 110
        },
        {
          "output_type": "execute_result",
          "data": {
            "text/plain": [
              "<matplotlib.axes._subplots.AxesSubplot at 0x7f703509d5c0>"
            ]
          },
          "metadata": {
            "tags": []
          },
          "execution_count": 110
        },
        {
          "output_type": "execute_result",
          "data": {
            "text/plain": [
              "(0.0, 1.0216780045351475, 0.0, 11025.0)"
            ]
          },
          "metadata": {
            "tags": []
          },
          "execution_count": 110
        },
        {
          "output_type": "execute_result",
          "data": {
            "text/plain": [
              "<matplotlib.axes._subplots.AxesSubplot at 0x7f703509d5c0>"
            ]
          },
          "metadata": {
            "tags": []
          },
          "execution_count": 110
        },
        {
          "output_type": "execute_result",
          "data": {
            "text/plain": [
              "(0.0, 1.0216780045351475, 0.0, 11025.0)"
            ]
          },
          "metadata": {
            "tags": []
          },
          "execution_count": 110
        },
        {
          "output_type": "execute_result",
          "data": {
            "text/plain": [
              "<matplotlib.axes._subplots.AxesSubplot at 0x7f703509d5c0>"
            ]
          },
          "metadata": {
            "tags": []
          },
          "execution_count": 110
        },
        {
          "output_type": "execute_result",
          "data": {
            "text/plain": [
              "(0.0, 1.0216780045351475, 0.0, 11025.0)"
            ]
          },
          "metadata": {
            "tags": []
          },
          "execution_count": 110
        },
        {
          "output_type": "execute_result",
          "data": {
            "text/plain": [
              "<matplotlib.axes._subplots.AxesSubplot at 0x7f703509d5c0>"
            ]
          },
          "metadata": {
            "tags": []
          },
          "execution_count": 110
        },
        {
          "output_type": "execute_result",
          "data": {
            "text/plain": [
              "(0.0, 1.0216780045351475, 0.0, 11025.0)"
            ]
          },
          "metadata": {
            "tags": []
          },
          "execution_count": 110
        },
        {
          "output_type": "execute_result",
          "data": {
            "text/plain": [
              "<matplotlib.axes._subplots.AxesSubplot at 0x7f703509d5c0>"
            ]
          },
          "metadata": {
            "tags": []
          },
          "execution_count": 110
        },
        {
          "output_type": "execute_result",
          "data": {
            "text/plain": [
              "(0.0, 1.0216780045351475, 0.0, 11025.0)"
            ]
          },
          "metadata": {
            "tags": []
          },
          "execution_count": 110
        },
        {
          "output_type": "execute_result",
          "data": {
            "text/plain": [
              "<matplotlib.axes._subplots.AxesSubplot at 0x7f703509d5c0>"
            ]
          },
          "metadata": {
            "tags": []
          },
          "execution_count": 110
        },
        {
          "output_type": "execute_result",
          "data": {
            "text/plain": [
              "(0.0, 1.0216780045351475, 0.0, 11025.0)"
            ]
          },
          "metadata": {
            "tags": []
          },
          "execution_count": 110
        },
        {
          "output_type": "execute_result",
          "data": {
            "text/plain": [
              "<matplotlib.axes._subplots.AxesSubplot at 0x7f703509d5c0>"
            ]
          },
          "metadata": {
            "tags": []
          },
          "execution_count": 110
        },
        {
          "output_type": "execute_result",
          "data": {
            "text/plain": [
              "(0.0, 1.0216780045351475, 0.0, 11025.0)"
            ]
          },
          "metadata": {
            "tags": []
          },
          "execution_count": 110
        },
        {
          "output_type": "execute_result",
          "data": {
            "text/plain": [
              "<matplotlib.axes._subplots.AxesSubplot at 0x7f703509d5c0>"
            ]
          },
          "metadata": {
            "tags": []
          },
          "execution_count": 110
        },
        {
          "output_type": "execute_result",
          "data": {
            "text/plain": [
              "(0.0, 1.0216780045351475, 0.0, 11025.0)"
            ]
          },
          "metadata": {
            "tags": []
          },
          "execution_count": 110
        },
        {
          "output_type": "execute_result",
          "data": {
            "text/plain": [
              "<matplotlib.axes._subplots.AxesSubplot at 0x7f703509d5c0>"
            ]
          },
          "metadata": {
            "tags": []
          },
          "execution_count": 110
        },
        {
          "output_type": "execute_result",
          "data": {
            "text/plain": [
              "(0.0, 1.0216780045351475, 0.0, 11025.0)"
            ]
          },
          "metadata": {
            "tags": []
          },
          "execution_count": 110
        },
        {
          "output_type": "execute_result",
          "data": {
            "text/plain": [
              "<matplotlib.axes._subplots.AxesSubplot at 0x7f703509d5c0>"
            ]
          },
          "metadata": {
            "tags": []
          },
          "execution_count": 110
        },
        {
          "output_type": "execute_result",
          "data": {
            "text/plain": [
              "(0.0, 1.0216780045351475, 0.0, 11025.0)"
            ]
          },
          "metadata": {
            "tags": []
          },
          "execution_count": 110
        },
        {
          "output_type": "execute_result",
          "data": {
            "text/plain": [
              "<matplotlib.axes._subplots.AxesSubplot at 0x7f703509d5c0>"
            ]
          },
          "metadata": {
            "tags": []
          },
          "execution_count": 110
        },
        {
          "output_type": "execute_result",
          "data": {
            "text/plain": [
              "(0.0, 1.0216780045351475, 0.0, 11025.0)"
            ]
          },
          "metadata": {
            "tags": []
          },
          "execution_count": 110
        },
        {
          "output_type": "execute_result",
          "data": {
            "text/plain": [
              "<matplotlib.axes._subplots.AxesSubplot at 0x7f703509d5c0>"
            ]
          },
          "metadata": {
            "tags": []
          },
          "execution_count": 110
        },
        {
          "output_type": "execute_result",
          "data": {
            "text/plain": [
              "(0.0, 1.0216780045351475, 0.0, 11025.0)"
            ]
          },
          "metadata": {
            "tags": []
          },
          "execution_count": 110
        },
        {
          "output_type": "execute_result",
          "data": {
            "text/plain": [
              "<matplotlib.axes._subplots.AxesSubplot at 0x7f703509d5c0>"
            ]
          },
          "metadata": {
            "tags": []
          },
          "execution_count": 110
        },
        {
          "output_type": "execute_result",
          "data": {
            "text/plain": [
              "(0.0, 1.0216780045351475, 0.0, 11025.0)"
            ]
          },
          "metadata": {
            "tags": []
          },
          "execution_count": 110
        },
        {
          "output_type": "execute_result",
          "data": {
            "text/plain": [
              "<matplotlib.axes._subplots.AxesSubplot at 0x7f703509d5c0>"
            ]
          },
          "metadata": {
            "tags": []
          },
          "execution_count": 110
        },
        {
          "output_type": "execute_result",
          "data": {
            "text/plain": [
              "(0.0, 1.0216780045351475, 0.0, 11025.0)"
            ]
          },
          "metadata": {
            "tags": []
          },
          "execution_count": 110
        },
        {
          "output_type": "execute_result",
          "data": {
            "text/plain": [
              "<matplotlib.axes._subplots.AxesSubplot at 0x7f703509d5c0>"
            ]
          },
          "metadata": {
            "tags": []
          },
          "execution_count": 110
        },
        {
          "output_type": "execute_result",
          "data": {
            "text/plain": [
              "(0.0, 1.0216780045351475, 0.0, 11025.0)"
            ]
          },
          "metadata": {
            "tags": []
          },
          "execution_count": 110
        },
        {
          "output_type": "execute_result",
          "data": {
            "text/plain": [
              "<matplotlib.axes._subplots.AxesSubplot at 0x7f703509d5c0>"
            ]
          },
          "metadata": {
            "tags": []
          },
          "execution_count": 110
        },
        {
          "output_type": "execute_result",
          "data": {
            "text/plain": [
              "(0.0, 0.3947392290249433, 0.0, 11025.0)"
            ]
          },
          "metadata": {
            "tags": []
          },
          "execution_count": 110
        },
        {
          "output_type": "execute_result",
          "data": {
            "text/plain": [
              "<matplotlib.axes._subplots.AxesSubplot at 0x7f703509d5c0>"
            ]
          },
          "metadata": {
            "tags": []
          },
          "execution_count": 110
        },
        {
          "output_type": "execute_result",
          "data": {
            "text/plain": [
              "(0.0, 1.0216780045351475, 0.0, 11025.0)"
            ]
          },
          "metadata": {
            "tags": []
          },
          "execution_count": 110
        },
        {
          "output_type": "execute_result",
          "data": {
            "text/plain": [
              "<matplotlib.axes._subplots.AxesSubplot at 0x7f703509d5c0>"
            ]
          },
          "metadata": {
            "tags": []
          },
          "execution_count": 110
        },
        {
          "output_type": "execute_result",
          "data": {
            "text/plain": [
              "(0.0, 1.0216780045351475, 0.0, 11025.0)"
            ]
          },
          "metadata": {
            "tags": []
          },
          "execution_count": 110
        },
        {
          "output_type": "execute_result",
          "data": {
            "text/plain": [
              "<matplotlib.axes._subplots.AxesSubplot at 0x7f703509d5c0>"
            ]
          },
          "metadata": {
            "tags": []
          },
          "execution_count": 110
        },
        {
          "output_type": "execute_result",
          "data": {
            "text/plain": [
              "(0.0, 1.0216780045351475, 0.0, 11025.0)"
            ]
          },
          "metadata": {
            "tags": []
          },
          "execution_count": 110
        },
        {
          "output_type": "execute_result",
          "data": {
            "text/plain": [
              "<matplotlib.axes._subplots.AxesSubplot at 0x7f703509d5c0>"
            ]
          },
          "metadata": {
            "tags": []
          },
          "execution_count": 110
        },
        {
          "output_type": "execute_result",
          "data": {
            "text/plain": [
              "(0.0, 1.0216780045351475, 0.0, 11025.0)"
            ]
          },
          "metadata": {
            "tags": []
          },
          "execution_count": 110
        },
        {
          "output_type": "execute_result",
          "data": {
            "text/plain": [
              "<matplotlib.axes._subplots.AxesSubplot at 0x7f703509d5c0>"
            ]
          },
          "metadata": {
            "tags": []
          },
          "execution_count": 110
        },
        {
          "output_type": "execute_result",
          "data": {
            "text/plain": [
              "(0.0, 1.0216780045351475, 0.0, 11025.0)"
            ]
          },
          "metadata": {
            "tags": []
          },
          "execution_count": 110
        },
        {
          "output_type": "execute_result",
          "data": {
            "text/plain": [
              "<matplotlib.axes._subplots.AxesSubplot at 0x7f703509d5c0>"
            ]
          },
          "metadata": {
            "tags": []
          },
          "execution_count": 110
        },
        {
          "output_type": "execute_result",
          "data": {
            "text/plain": [
              "(0.0, 1.0216780045351475, 0.0, 11025.0)"
            ]
          },
          "metadata": {
            "tags": []
          },
          "execution_count": 110
        },
        {
          "output_type": "execute_result",
          "data": {
            "text/plain": [
              "<matplotlib.axes._subplots.AxesSubplot at 0x7f703509d5c0>"
            ]
          },
          "metadata": {
            "tags": []
          },
          "execution_count": 110
        },
        {
          "output_type": "execute_result",
          "data": {
            "text/plain": [
              "(0.0, 1.0216780045351475, 0.0, 11025.0)"
            ]
          },
          "metadata": {
            "tags": []
          },
          "execution_count": 110
        },
        {
          "output_type": "execute_result",
          "data": {
            "text/plain": [
              "<matplotlib.axes._subplots.AxesSubplot at 0x7f703509d5c0>"
            ]
          },
          "metadata": {
            "tags": []
          },
          "execution_count": 110
        },
        {
          "output_type": "execute_result",
          "data": {
            "text/plain": [
              "(0.0, 1.0216780045351475, 0.0, 11025.0)"
            ]
          },
          "metadata": {
            "tags": []
          },
          "execution_count": 110
        },
        {
          "output_type": "execute_result",
          "data": {
            "text/plain": [
              "<matplotlib.axes._subplots.AxesSubplot at 0x7f703509d5c0>"
            ]
          },
          "metadata": {
            "tags": []
          },
          "execution_count": 110
        },
        {
          "output_type": "execute_result",
          "data": {
            "text/plain": [
              "(0.0, 1.0216780045351475, 0.0, 11025.0)"
            ]
          },
          "metadata": {
            "tags": []
          },
          "execution_count": 110
        },
        {
          "output_type": "execute_result",
          "data": {
            "text/plain": [
              "<matplotlib.axes._subplots.AxesSubplot at 0x7f703509d5c0>"
            ]
          },
          "metadata": {
            "tags": []
          },
          "execution_count": 110
        },
        {
          "output_type": "execute_result",
          "data": {
            "text/plain": [
              "(0.0, 1.0216780045351475, 0.0, 11025.0)"
            ]
          },
          "metadata": {
            "tags": []
          },
          "execution_count": 110
        },
        {
          "output_type": "execute_result",
          "data": {
            "text/plain": [
              "<matplotlib.axes._subplots.AxesSubplot at 0x7f703509d5c0>"
            ]
          },
          "metadata": {
            "tags": []
          },
          "execution_count": 110
        },
        {
          "output_type": "execute_result",
          "data": {
            "text/plain": [
              "(0.0, 1.0216780045351475, 0.0, 11025.0)"
            ]
          },
          "metadata": {
            "tags": []
          },
          "execution_count": 110
        },
        {
          "output_type": "execute_result",
          "data": {
            "text/plain": [
              "<matplotlib.axes._subplots.AxesSubplot at 0x7f703509d5c0>"
            ]
          },
          "metadata": {
            "tags": []
          },
          "execution_count": 110
        },
        {
          "output_type": "execute_result",
          "data": {
            "text/plain": [
              "(0.0, 1.0216780045351475, 0.0, 11025.0)"
            ]
          },
          "metadata": {
            "tags": []
          },
          "execution_count": 110
        },
        {
          "output_type": "execute_result",
          "data": {
            "text/plain": [
              "<matplotlib.axes._subplots.AxesSubplot at 0x7f703509d5c0>"
            ]
          },
          "metadata": {
            "tags": []
          },
          "execution_count": 110
        },
        {
          "output_type": "execute_result",
          "data": {
            "text/plain": [
              "(0.0, 1.0216780045351475, 0.0, 11025.0)"
            ]
          },
          "metadata": {
            "tags": []
          },
          "execution_count": 110
        },
        {
          "output_type": "execute_result",
          "data": {
            "text/plain": [
              "<matplotlib.axes._subplots.AxesSubplot at 0x7f703509d5c0>"
            ]
          },
          "metadata": {
            "tags": []
          },
          "execution_count": 110
        },
        {
          "output_type": "execute_result",
          "data": {
            "text/plain": [
              "(0.0, 1.0216780045351475, 0.0, 11025.0)"
            ]
          },
          "metadata": {
            "tags": []
          },
          "execution_count": 110
        },
        {
          "output_type": "execute_result",
          "data": {
            "text/plain": [
              "<matplotlib.axes._subplots.AxesSubplot at 0x7f703509d5c0>"
            ]
          },
          "metadata": {
            "tags": []
          },
          "execution_count": 110
        },
        {
          "output_type": "execute_result",
          "data": {
            "text/plain": [
              "(0.0, 1.0216780045351475, 0.0, 11025.0)"
            ]
          },
          "metadata": {
            "tags": []
          },
          "execution_count": 110
        },
        {
          "output_type": "execute_result",
          "data": {
            "text/plain": [
              "<matplotlib.axes._subplots.AxesSubplot at 0x7f703509d5c0>"
            ]
          },
          "metadata": {
            "tags": []
          },
          "execution_count": 110
        },
        {
          "output_type": "execute_result",
          "data": {
            "text/plain": [
              "(0.0, 1.0216780045351475, 0.0, 11025.0)"
            ]
          },
          "metadata": {
            "tags": []
          },
          "execution_count": 110
        },
        {
          "output_type": "execute_result",
          "data": {
            "text/plain": [
              "<matplotlib.axes._subplots.AxesSubplot at 0x7f703509d5c0>"
            ]
          },
          "metadata": {
            "tags": []
          },
          "execution_count": 110
        },
        {
          "output_type": "execute_result",
          "data": {
            "text/plain": [
              "(0.0, 1.0216780045351475, 0.0, 11025.0)"
            ]
          },
          "metadata": {
            "tags": []
          },
          "execution_count": 110
        },
        {
          "output_type": "execute_result",
          "data": {
            "text/plain": [
              "<matplotlib.axes._subplots.AxesSubplot at 0x7f703509d5c0>"
            ]
          },
          "metadata": {
            "tags": []
          },
          "execution_count": 110
        },
        {
          "output_type": "execute_result",
          "data": {
            "text/plain": [
              "(0.0, 1.0216780045351475, 0.0, 11025.0)"
            ]
          },
          "metadata": {
            "tags": []
          },
          "execution_count": 110
        },
        {
          "output_type": "execute_result",
          "data": {
            "text/plain": [
              "<matplotlib.axes._subplots.AxesSubplot at 0x7f703509d5c0>"
            ]
          },
          "metadata": {
            "tags": []
          },
          "execution_count": 110
        },
        {
          "output_type": "execute_result",
          "data": {
            "text/plain": [
              "(0.0, 1.0216780045351475, 0.0, 11025.0)"
            ]
          },
          "metadata": {
            "tags": []
          },
          "execution_count": 110
        },
        {
          "output_type": "execute_result",
          "data": {
            "text/plain": [
              "<matplotlib.axes._subplots.AxesSubplot at 0x7f703509d5c0>"
            ]
          },
          "metadata": {
            "tags": []
          },
          "execution_count": 110
        },
        {
          "output_type": "execute_result",
          "data": {
            "text/plain": [
              "(0.0, 1.0216780045351475, 0.0, 11025.0)"
            ]
          },
          "metadata": {
            "tags": []
          },
          "execution_count": 110
        },
        {
          "output_type": "execute_result",
          "data": {
            "text/plain": [
              "<matplotlib.axes._subplots.AxesSubplot at 0x7f703509d5c0>"
            ]
          },
          "metadata": {
            "tags": []
          },
          "execution_count": 110
        },
        {
          "output_type": "execute_result",
          "data": {
            "text/plain": [
              "(0.0, 1.0216780045351475, 0.0, 11025.0)"
            ]
          },
          "metadata": {
            "tags": []
          },
          "execution_count": 110
        },
        {
          "output_type": "execute_result",
          "data": {
            "text/plain": [
              "<matplotlib.axes._subplots.AxesSubplot at 0x7f703509d5c0>"
            ]
          },
          "metadata": {
            "tags": []
          },
          "execution_count": 110
        },
        {
          "output_type": "execute_result",
          "data": {
            "text/plain": [
              "(0.0, 1.0216780045351475, 0.0, 11025.0)"
            ]
          },
          "metadata": {
            "tags": []
          },
          "execution_count": 110
        },
        {
          "output_type": "execute_result",
          "data": {
            "text/plain": [
              "<matplotlib.axes._subplots.AxesSubplot at 0x7f703509d5c0>"
            ]
          },
          "metadata": {
            "tags": []
          },
          "execution_count": 110
        },
        {
          "output_type": "execute_result",
          "data": {
            "text/plain": [
              "(0.0, 1.0216780045351475, 0.0, 11025.0)"
            ]
          },
          "metadata": {
            "tags": []
          },
          "execution_count": 110
        },
        {
          "output_type": "execute_result",
          "data": {
            "text/plain": [
              "<matplotlib.axes._subplots.AxesSubplot at 0x7f703509d5c0>"
            ]
          },
          "metadata": {
            "tags": []
          },
          "execution_count": 110
        },
        {
          "output_type": "execute_result",
          "data": {
            "text/plain": [
              "(0.0, 1.0216780045351475, 0.0, 11025.0)"
            ]
          },
          "metadata": {
            "tags": []
          },
          "execution_count": 110
        },
        {
          "output_type": "execute_result",
          "data": {
            "text/plain": [
              "<matplotlib.axes._subplots.AxesSubplot at 0x7f703509d5c0>"
            ]
          },
          "metadata": {
            "tags": []
          },
          "execution_count": 110
        },
        {
          "output_type": "execute_result",
          "data": {
            "text/plain": [
              "(0.0, 1.0216780045351475, 0.0, 11025.0)"
            ]
          },
          "metadata": {
            "tags": []
          },
          "execution_count": 110
        },
        {
          "output_type": "execute_result",
          "data": {
            "text/plain": [
              "<matplotlib.axes._subplots.AxesSubplot at 0x7f703509d5c0>"
            ]
          },
          "metadata": {
            "tags": []
          },
          "execution_count": 110
        },
        {
          "output_type": "execute_result",
          "data": {
            "text/plain": [
              "(0.0, 1.0216780045351475, 0.0, 11025.0)"
            ]
          },
          "metadata": {
            "tags": []
          },
          "execution_count": 110
        },
        {
          "output_type": "execute_result",
          "data": {
            "text/plain": [
              "<matplotlib.axes._subplots.AxesSubplot at 0x7f703509d5c0>"
            ]
          },
          "metadata": {
            "tags": []
          },
          "execution_count": 110
        },
        {
          "output_type": "execute_result",
          "data": {
            "text/plain": [
              "(0.0, 1.0216780045351475, 0.0, 11025.0)"
            ]
          },
          "metadata": {
            "tags": []
          },
          "execution_count": 110
        },
        {
          "output_type": "execute_result",
          "data": {
            "text/plain": [
              "<matplotlib.axes._subplots.AxesSubplot at 0x7f703509d5c0>"
            ]
          },
          "metadata": {
            "tags": []
          },
          "execution_count": 110
        },
        {
          "output_type": "execute_result",
          "data": {
            "text/plain": [
              "(0.0, 1.0216780045351475, 0.0, 11025.0)"
            ]
          },
          "metadata": {
            "tags": []
          },
          "execution_count": 110
        },
        {
          "output_type": "execute_result",
          "data": {
            "text/plain": [
              "<matplotlib.axes._subplots.AxesSubplot at 0x7f703509d5c0>"
            ]
          },
          "metadata": {
            "tags": []
          },
          "execution_count": 110
        },
        {
          "output_type": "execute_result",
          "data": {
            "text/plain": [
              "(0.0, 1.0216780045351475, 0.0, 11025.0)"
            ]
          },
          "metadata": {
            "tags": []
          },
          "execution_count": 110
        },
        {
          "output_type": "execute_result",
          "data": {
            "text/plain": [
              "<matplotlib.axes._subplots.AxesSubplot at 0x7f703509d5c0>"
            ]
          },
          "metadata": {
            "tags": []
          },
          "execution_count": 110
        },
        {
          "output_type": "execute_result",
          "data": {
            "text/plain": [
              "(0.0, 1.0216780045351475, 0.0, 11025.0)"
            ]
          },
          "metadata": {
            "tags": []
          },
          "execution_count": 110
        },
        {
          "output_type": "execute_result",
          "data": {
            "text/plain": [
              "<matplotlib.axes._subplots.AxesSubplot at 0x7f703509d5c0>"
            ]
          },
          "metadata": {
            "tags": []
          },
          "execution_count": 110
        },
        {
          "output_type": "execute_result",
          "data": {
            "text/plain": [
              "(0.0, 1.0216780045351475, 0.0, 11025.0)"
            ]
          },
          "metadata": {
            "tags": []
          },
          "execution_count": 110
        },
        {
          "output_type": "execute_result",
          "data": {
            "text/plain": [
              "<matplotlib.axes._subplots.AxesSubplot at 0x7f703509d5c0>"
            ]
          },
          "metadata": {
            "tags": []
          },
          "execution_count": 110
        },
        {
          "output_type": "execute_result",
          "data": {
            "text/plain": [
              "(0.0, 1.0216780045351475, 0.0, 11025.0)"
            ]
          },
          "metadata": {
            "tags": []
          },
          "execution_count": 110
        },
        {
          "output_type": "execute_result",
          "data": {
            "text/plain": [
              "<matplotlib.axes._subplots.AxesSubplot at 0x7f703509d5c0>"
            ]
          },
          "metadata": {
            "tags": []
          },
          "execution_count": 110
        },
        {
          "output_type": "execute_result",
          "data": {
            "text/plain": [
              "(0.0, 1.0216780045351475, 0.0, 11025.0)"
            ]
          },
          "metadata": {
            "tags": []
          },
          "execution_count": 110
        },
        {
          "output_type": "execute_result",
          "data": {
            "text/plain": [
              "<matplotlib.axes._subplots.AxesSubplot at 0x7f703509d5c0>"
            ]
          },
          "metadata": {
            "tags": []
          },
          "execution_count": 110
        },
        {
          "output_type": "execute_result",
          "data": {
            "text/plain": [
              "(0.0, 1.0216780045351475, 0.0, 11025.0)"
            ]
          },
          "metadata": {
            "tags": []
          },
          "execution_count": 110
        },
        {
          "output_type": "execute_result",
          "data": {
            "text/plain": [
              "<matplotlib.axes._subplots.AxesSubplot at 0x7f703509d5c0>"
            ]
          },
          "metadata": {
            "tags": []
          },
          "execution_count": 110
        },
        {
          "output_type": "execute_result",
          "data": {
            "text/plain": [
              "(0.0, 1.0216780045351475, 0.0, 11025.0)"
            ]
          },
          "metadata": {
            "tags": []
          },
          "execution_count": 110
        },
        {
          "output_type": "execute_result",
          "data": {
            "text/plain": [
              "<matplotlib.axes._subplots.AxesSubplot at 0x7f703509d5c0>"
            ]
          },
          "metadata": {
            "tags": []
          },
          "execution_count": 110
        },
        {
          "output_type": "execute_result",
          "data": {
            "text/plain": [
              "(0.0, 1.0216780045351475, 0.0, 11025.0)"
            ]
          },
          "metadata": {
            "tags": []
          },
          "execution_count": 110
        },
        {
          "output_type": "execute_result",
          "data": {
            "text/plain": [
              "<matplotlib.axes._subplots.AxesSubplot at 0x7f703509d5c0>"
            ]
          },
          "metadata": {
            "tags": []
          },
          "execution_count": 110
        },
        {
          "output_type": "execute_result",
          "data": {
            "text/plain": [
              "(0.0, 1.0216780045351475, 0.0, 11025.0)"
            ]
          },
          "metadata": {
            "tags": []
          },
          "execution_count": 110
        },
        {
          "output_type": "execute_result",
          "data": {
            "text/plain": [
              "<matplotlib.axes._subplots.AxesSubplot at 0x7f703509d5c0>"
            ]
          },
          "metadata": {
            "tags": []
          },
          "execution_count": 110
        },
        {
          "output_type": "execute_result",
          "data": {
            "text/plain": [
              "(0.0, 1.0216780045351475, 0.0, 11025.0)"
            ]
          },
          "metadata": {
            "tags": []
          },
          "execution_count": 110
        },
        {
          "output_type": "execute_result",
          "data": {
            "text/plain": [
              "<matplotlib.axes._subplots.AxesSubplot at 0x7f703509d5c0>"
            ]
          },
          "metadata": {
            "tags": []
          },
          "execution_count": 110
        },
        {
          "output_type": "execute_result",
          "data": {
            "text/plain": [
              "(0.0, 1.0216780045351475, 0.0, 11025.0)"
            ]
          },
          "metadata": {
            "tags": []
          },
          "execution_count": 110
        },
        {
          "output_type": "display_data",
          "data": {
            "image/png": "[encoded data removed]",
            "text/plain": [
              "<Figure size 432x288 with 1 Axes>"
            ]
          },
          "metadata": {
            "tags": []
          }
        }
      ]
    },
    {
      "cell_type": "markdown",
      "metadata": {
        "id": "yfZZ-EoLXQeM",
        "colab_type": "text"
      },
      "source": [
        "# Trying fastai"
      ]
    },
    {
      "cell_type": "code",
      "metadata": {
        "id": "h_jZfXhWVTXC",
        "colab_type": "code",
        "colab": {}
      },
      "source": [
        "from fastai_audio import *\n",
        "\n",
        "import fastai\n",
        "from fastai.metrics import accuracy\n",
        "from fastai.torch_core import *\n",
        "from fastai_audio import *\n",
        "\n",
        "from fastai.vision import models, ClassificationInterpretation\n",
        "from fastai.vision import *"
      ],
      "execution_count": 0,
      "outputs": []
    },
    {
      "cell_type": "code",
      "metadata": {
        "id": "kEACSpEAC2Bz",
        "colab_type": "code",
        "outputId": "9a886c4e-5330-47a3-8298-bd507262ac9b",
        "colab": {
          "base_uri": "https://localhost:8080/",
          "height": 297
        }
      },
      "source": [
        "# random_seed = 3\n",
        "# data = ImageList.from_folder(path_gdrive_train_img).split_by_rand_pct(seed=random_seed).label_from_folder().databunch()\n",
        "# data.show_batch(3, figsize=(8,4), hide_axis=False)\n",
        "# learner = cnn_learner(data, models.resnet34, metrics=accuracy, callback_fns=ShowGraph)\n",
        "# learner.load(path_gdrive_models + 'resnet34_76%')"
      ],
      "execution_count": 0,
      "outputs": [
        {
          "output_type": "display_data",
          "data": {
            "image/png": "[encoded data removed]",
            "text/plain": [
              "<Figure size 576x288 with 9 Axes>"
            ]
          },
          "metadata": {
            "tags": []
          }
        }
      ]
    },
    {
      "cell_type": "code",
      "metadata": {
        "id": "NaYQD3jj74Ma",
        "colab_type": "code",
        "colab": {}
      },
      "source": [
        "# learner.lr_find()\n",
        "# learner.recorder.plot()"
      ],
      "execution_count": 0,
      "outputs": []
    },
    {
      "cell_type": "code",
      "metadata": {
        "id": "bFCfP-pgOdIS",
        "colab_type": "code",
        "colab": {}
      },
      "source": [
        "# learner.fit_one_cycle(100, max_lr=slice(1e-2,1e-1))"
      ],
      "execution_count": 0,
      "outputs": []
    },
    {
      "cell_type": "code",
      "metadata": {
        "id": "91gEP4RJSK0r",
        "colab_type": "code",
        "colab": {}
      },
      "source": [
        "#learner.save(path_gdrive_models + 'resnet34_76%')"
      ],
      "execution_count": 0,
      "outputs": []
    },
    {
      "cell_type": "code",
      "metadata": {
        "id": "rnT0iY4nZ3Ex",
        "colab_type": "code",
        "colab": {}
      },
      "source": [
        "valid_in_files = []\n",
        "valid_out_files = []\n",
        "\n",
        "for filename in os.listdir(path_gdrive_valid_img_in):\n",
        "    if filename.endswith(\"png\"):\n",
        "      valid_in_files.append(path_gdrive_valid_img_in + filename)\n",
        "      \n",
        "for filename in os.listdir(path_gdrive_valid_img_out):\n",
        "    if filename.endswith(\"png\"):\n",
        "      valid_out_files.append(path_gdrive_valid_img_out + filename)\n",
        "      \n",
        "valid_in_imgs = []\n",
        "for valid_in_file in valid_in_files:\n",
        "  valid_in_imgs.append(open_image(valid_in_file))\n",
        "  \n",
        "valid_out_imgs = []\n",
        "for valid_out_file in valid_out_files:\n",
        "  valid_out_imgs.append(open_image(valid_out_file))\n",
        "  \n",
        "for i in range(len(valid_in_imgs)):\n",
        "  print('results of ' + str(i))\n",
        "  learner.predict(valid_in_imgs[i])\n",
        "  print('\\n')\n",
        "\n",
        "print('--------------------')\n",
        "print('\\n')\n",
        "\n",
        "for i in range(len(valid_out_imgs)):\n",
        "  print('results of ' + str(i))\n",
        "  learner.predict(valid_out_imgs[i])\n",
        "  print('\\n')"
      ],
      "execution_count": 0,
      "outputs": []
    },
    {
      "cell_type": "code",
      "metadata": {
        "id": "AjSm6KWNbDJJ",
        "colab_type": "code",
        "colab": {}
      },
      "source": [
        ""
      ],
      "execution_count": 0,
      "outputs": []
    },
    {
      "cell_type": "markdown",
      "metadata": {
        "id": "X98m4-gXzv-h",
        "colab_type": "text"
      },
      "source": [
        "# Try HHT"
      ]
    },
    {
      "cell_type": "markdown",
      "metadata": {
        "id": "cN1Iv-aR7EYn",
        "colab_type": "text"
      },
      "source": [
        "EMD "
      ]
    },
    {
      "cell_type": "code",
      "metadata": {
        "id": "hyxMEI9QzyQn",
        "colab_type": "code",
        "colab": {}
      },
      "source": [
        ""
      ],
      "execution_count": 0,
      "outputs": []
    },
    {
      "cell_type": "markdown",
      "metadata": {
        "id": "Z7E77v6yz6f8",
        "colab_type": "text"
      },
      "source": [
        "# Try scikit learn"
      ]
    },
    {
      "cell_type": "code",
      "metadata": {
        "id": "mMiScjsH6vE4",
        "colab_type": "code",
        "cellView": "both",
        "colab": {}
      },
      "source": [
        "#@title run feature extraction { run: \"auto\", form-width: \"25%\" }\n",
        "run_feature_extraction = False #@param {type:\"boolean\"}\n",
        "\n",
        "if(run_feature_extraction):\n",
        "  temp_in_clips = []\n",
        "  temp_in_files = []\n",
        "\n",
        "  \n",
        "#   loading clips\n",
        "\n",
        "  for filename in os.listdir(path_gdrive_train_audio_in):\n",
        "      if filename.endswith(\"wav\"):\n",
        "        temp_in_files.append(filename)\n",
        "        temp_in_clip, temp_sr = librosa.load(path_gdrive_train_audio_in + filename)\n",
        "        temp_in_clips.append(temp_in_clip)\n",
        "\n",
        "\n",
        "  temp_out_clips = []\n",
        "  temp_out_files = []\n",
        "\n",
        "  for filename in os.listdir(path_gdrive_train_audio_out):\n",
        "      if filename.endswith(\"wav\"):\n",
        "        temp_out_files.append(filename)\n",
        "        temp_out_clip, temp_sr = librosa.load(path_gdrive_train_audio_out + filename)\n",
        "        temp_out_clips.append(temp_out_clip)"
      ],
      "execution_count": 0,
      "outputs": []
    },
    {
      "cell_type": "code",
      "metadata": {
        "id": "sUDo-QiN6g4F",
        "colab_type": "code",
        "colab": {}
      },
      "source": [
        "# bandpass_filtered_clips = bandpass_filter(temp_out_clips)\n",
        "# pre_emphasized_clips = pre_emphasize(bandpass_filtered_clips)\n",
        "# hilbert_transformed_clips = hilbert_transform(pre_emphasized_clips, emd_enabled=False, amplitude_envelope_returned=True, instantaneous_frequency_returned=False)\n",
        "# normalised_clips = normalise(hilbert_transformed_clips)"
      ],
      "execution_count": 0,
      "outputs": []
    },
    {
      "cell_type": "code",
      "metadata": {
        "colab_type": "code",
        "id": "8EaLFjjWsK-f",
        "colab": {}
      },
      "source": [
        "# features_group = []\n",
        "\n",
        "# features = []\n",
        "# for clip in normalised_clips:\n",
        "#   feature = librosa.feature.spectral_bandwidth(clip)\n",
        "#   features.append(np.mean(feature))\n",
        "# features_group.append(features)  \n",
        "\n",
        "# features = []\n",
        "# for clip in normalised_clips:\n",
        "#   feature = librosa.feature.spectral_centroid(clip)\n",
        "#   features.append(np.mean(feature))\n",
        "# features_group.append(features)  \n",
        "\n",
        "\n",
        "# features = []\n",
        "# for clip in normalised_clips:\n",
        "#   feature = librosa.feature.spectral_contrast(clip)\n",
        "#   features.append(np.mean(feature))\n",
        "# features_group.append(features)  \n",
        "\n",
        "\n",
        "# features = []\n",
        "# for clip in normalised_clips:\n",
        "#   feature = librosa.feature.spectral_flatness(clip)\n",
        "#   features.append(np.mean(feature))\n",
        "# features_group.append(features)  \n",
        "\n",
        "\n",
        "# features = []\n",
        "# for clip in normalised_clips:\n",
        "#   feature = librosa.feature.spectral_rolloff(clip)\n",
        "#   features.append(np.mean(feature))\n",
        "# features_group.append(features) \n",
        "\n",
        "\n",
        "# features = []\n",
        "# for clip in normalised_clips:\n",
        "#   feature = librosa.feature.mfcc(clip)\n",
        "#   features.append(np.mean(feature))\n",
        "# features_group.append(features)  \n",
        "\n",
        "\n",
        "# features = []\n",
        "# for clip in normalised_clips:\n",
        "#   feature = librosa.feature.mfcc(clip)\n",
        "#   feature = librosa.feature.delta(feature, mode='nearest')  \n",
        "#   features.append(np.mean(feature))\n",
        "# features_group.append(features)\n",
        "\n",
        "\n",
        "# features = []\n",
        "# for clip in normalised_clips:\n",
        "#   feature = librosa.feature.mfcc(clip)\n",
        "#   feature = librosa.feature.delta(feature, mode='nearest', order=2)  \n",
        "#   features.append(np.mean(feature))\n",
        "# features_group.append(features)\n",
        "\n",
        "# features = []\n",
        "# for clip in normalised_clips:\n",
        "#   feature = librosa.feature.rms(clip)\n",
        "#   features.append(np.mean(feature))\n",
        "# features_group.append(features)  \n",
        "\n",
        "# features = []\n",
        "# for clip in normalised_clips:\n",
        "#   feature = librosa.feature.rmse(clip)\n",
        "#   features.append(np.mean(feature))\n",
        "# features_group.append(features)  \n",
        "\n",
        "# features = []\n",
        "# for clip in normalised_clips:\n",
        "#   feature = librosa.feature.poly_features(clip)\n",
        "#   features.append(np.mean(feature))\n",
        "# features_group.append(features)  \n",
        "\n",
        "# features = []\n",
        "# for clip in normalised_clips:\n",
        "#   feature = librosa.feature.tonnetz(clip)\n",
        "#   features.append(np.mean(feature))\n",
        "# features_group.append(features)  \n",
        "\n",
        "\n",
        "# features = []\n",
        "# for clip in normalised_clips:\n",
        "#   feature = librosa.feature.zero_crossing_rate(clip)\n",
        "#   features.append(np.mean(feature))\n",
        "# features_group.append(features) \n",
        "\n",
        "\n",
        "\n",
        "# features = []\n",
        "# for clip in normalised_clips:\n",
        "#   feature = np.sum(np.square(clip))\n",
        "#   features.append(feature)\n",
        "# features_group.append(features) \n",
        "\n",
        "# np.savetxt(\"features_group_out_test.csv\", np.transpose(features_group), delimiter=\",\")"
      ],
      "execution_count": 0,
      "outputs": []
    },
    {
      "cell_type": "code",
      "metadata": {
        "id": "JltrflcKCIwB",
        "colab_type": "code",
        "colab": {}
      },
      "source": [
        "import pandas as pd\n",
        "from sklearn.ensemble import RandomForestRegressor, RandomForestClassifier\n",
        "from sklearn.metrics import classification_report, confusion_matrix, accuracy_score\n",
        "from sklearn.model_selection import train_test_split"
      ],
      "execution_count": 0,
      "outputs": []
    },
    {
      "cell_type": "code",
      "metadata": {
        "id": "o0_ZftgDCMeb",
        "colab_type": "code",
        "colab": {}
      },
      "source": [
        "df = pd.read_csv(path_gdrive + 'breathing_feature_dataset.csv')\n",
        "test_df = pd.read_csv(path_gdrive + 'test_breathing_feature_dataset.csv')"
      ],
      "execution_count": 0,
      "outputs": []
    },
    {
      "cell_type": "code",
      "metadata": {
        "id": "aM3lSTwvCeR1",
        "colab_type": "code",
        "outputId": "ea34ef01-63a5-4c57-c8e3-86f48c27cb2e",
        "colab": {
          "base_uri": "https://localhost:8080/",
          "height": 224
        }
      },
      "source": [
        "df.head()"
      ],
      "execution_count": 0,
      "outputs": [
        {
          "output_type": "execute_result",
          "data": {
            "text/html": [
              "<div>\n",
              "<style scoped>\n",
              "    .dataframe tbody tr th:only-of-type {\n",
              "        vertical-align: middle;\n",
              "    }\n",
              "\n",
              "    .dataframe tbody tr th {\n",
              "        vertical-align: top;\n",
              "    }\n",
              "\n",
              "    .dataframe thead th {\n",
              "        text-align: right;\n",
              "    }\n",
              "</style>\n",
              "<table border=\"1\" class=\"dataframe\">\n",
              "  <thead>\n",
              "    <tr style=\"text-align: right;\">\n",
              "      <th></th>\n",
              "      <th>label</th>\n",
              "      <th>bandwidth_mean</th>\n",
              "      <th>centroid_mean</th>\n",
              "      <th>contrast_mean</th>\n",
              "      <th>flatness_mean</th>\n",
              "      <th>rolloff_mean</th>\n",
              "      <th>mfcc_mean</th>\n",
              "      <th>mfcc_delta_mean</th>\n",
              "      <th>mfcc_delta_delta_mean</th>\n",
              "      <th>rms_mean</th>\n",
              "      <th>rmse_mean</th>\n",
              "      <th>poly_features_mean</th>\n",
              "      <th>tonnetz_mean</th>\n",
              "      <th>zero_crossing_rate_mean</th>\n",
              "      <th>bandwidth_std</th>\n",
              "      <th>centroid_std</th>\n",
              "      <th>contrast_std</th>\n",
              "      <th>flatness_std</th>\n",
              "      <th>rolloff_std</th>\n",
              "      <th>mfcc_std</th>\n",
              "      <th>mfcc_delta_std</th>\n",
              "      <th>mfcc_delta_delta_std</th>\n",
              "      <th>rms_std</th>\n",
              "      <th>rmse_std</th>\n",
              "      <th>poly_features_std</th>\n",
              "      <th>tonnetz_std</th>\n",
              "      <th>zero_crossing_rate_std</th>\n",
              "      <th>energy</th>\n",
              "    </tr>\n",
              "  </thead>\n",
              "  <tbody>\n",
              "    <tr>\n",
              "      <th>0</th>\n",
              "      <td>0</td>\n",
              "      <td>1865.164782</td>\n",
              "      <td>1703.019750</td>\n",
              "      <td>14.9</td>\n",
              "      <td>0.004612</td>\n",
              "      <td>3310</td>\n",
              "      <td>-1.350</td>\n",
              "      <td>-0.280318</td>\n",
              "      <td>0.021222</td>\n",
              "      <td>0.084806</td>\n",
              "      <td>0.084806</td>\n",
              "      <td>1.046822</td>\n",
              "      <td>0.008278</td>\n",
              "      <td>0</td>\n",
              "      <td>143.031891</td>\n",
              "      <td>216.535065</td>\n",
              "      <td>4.181791</td>\n",
              "      <td>0.001999</td>\n",
              "      <td>379.780250</td>\n",
              "      <td>52.314129</td>\n",
              "      <td>3.232323</td>\n",
              "      <td>1.368368</td>\n",
              "      <td>0.068487</td>\n",
              "      <td>0.068487</td>\n",
              "      <td>1.778071</td>\n",
              "      <td>0.033969</td>\n",
              "      <td>0.0</td>\n",
              "      <td>249.0</td>\n",
              "    </tr>\n",
              "    <tr>\n",
              "      <th>1</th>\n",
              "      <td>0</td>\n",
              "      <td>1841.489392</td>\n",
              "      <td>1538.309435</td>\n",
              "      <td>14.2</td>\n",
              "      <td>0.004451</td>\n",
              "      <td>3260</td>\n",
              "      <td>-1.030</td>\n",
              "      <td>0.076388</td>\n",
              "      <td>0.014175</td>\n",
              "      <td>0.071398</td>\n",
              "      <td>0.071398</td>\n",
              "      <td>0.886110</td>\n",
              "      <td>-0.006239</td>\n",
              "      <td>0</td>\n",
              "      <td>238.540644</td>\n",
              "      <td>393.965766</td>\n",
              "      <td>4.232521</td>\n",
              "      <td>0.003494</td>\n",
              "      <td>651.646234</td>\n",
              "      <td>56.629783</td>\n",
              "      <td>3.504878</td>\n",
              "      <td>2.256501</td>\n",
              "      <td>0.040563</td>\n",
              "      <td>0.040563</td>\n",
              "      <td>1.237467</td>\n",
              "      <td>0.035196</td>\n",
              "      <td>0.0</td>\n",
              "      <td>150.0</td>\n",
              "    </tr>\n",
              "    <tr>\n",
              "      <th>2</th>\n",
              "      <td>0</td>\n",
              "      <td>1615.049716</td>\n",
              "      <td>1364.157428</td>\n",
              "      <td>14.3</td>\n",
              "      <td>0.003203</td>\n",
              "      <td>2790</td>\n",
              "      <td>-1.660</td>\n",
              "      <td>-0.014437</td>\n",
              "      <td>0.025348</td>\n",
              "      <td>0.068129</td>\n",
              "      <td>0.068129</td>\n",
              "      <td>0.886644</td>\n",
              "      <td>0.000138</td>\n",
              "      <td>0</td>\n",
              "      <td>350.031473</td>\n",
              "      <td>455.817818</td>\n",
              "      <td>4.244717</td>\n",
              "      <td>0.003158</td>\n",
              "      <td>852.785514</td>\n",
              "      <td>62.268289</td>\n",
              "      <td>4.158274</td>\n",
              "      <td>2.565823</td>\n",
              "      <td>0.034689</td>\n",
              "      <td>0.034689</td>\n",
              "      <td>1.192474</td>\n",
              "      <td>0.030693</td>\n",
              "      <td>0.0</td>\n",
              "      <td>128.0</td>\n",
              "    </tr>\n",
              "    <tr>\n",
              "      <th>3</th>\n",
              "      <td>0</td>\n",
              "      <td>1907.982910</td>\n",
              "      <td>1777.478431</td>\n",
              "      <td>14.6</td>\n",
              "      <td>0.005377</td>\n",
              "      <td>3470</td>\n",
              "      <td>-0.745</td>\n",
              "      <td>0.065038</td>\n",
              "      <td>-0.011545</td>\n",
              "      <td>0.108661</td>\n",
              "      <td>0.108661</td>\n",
              "      <td>1.365765</td>\n",
              "      <td>0.007660</td>\n",
              "      <td>0</td>\n",
              "      <td>170.153563</td>\n",
              "      <td>306.437781</td>\n",
              "      <td>4.588391</td>\n",
              "      <td>0.002115</td>\n",
              "      <td>471.381013</td>\n",
              "      <td>50.580904</td>\n",
              "      <td>3.504385</td>\n",
              "      <td>1.574866</td>\n",
              "      <td>0.097834</td>\n",
              "      <td>0.097834</td>\n",
              "      <td>2.265669</td>\n",
              "      <td>0.038725</td>\n",
              "      <td>0.0</td>\n",
              "      <td>479.0</td>\n",
              "    </tr>\n",
              "    <tr>\n",
              "      <th>4</th>\n",
              "      <td>0</td>\n",
              "      <td>2054.505064</td>\n",
              "      <td>1879.887303</td>\n",
              "      <td>14.3</td>\n",
              "      <td>0.006994</td>\n",
              "      <td>3770</td>\n",
              "      <td>1.760</td>\n",
              "      <td>0.134795</td>\n",
              "      <td>0.008966</td>\n",
              "      <td>0.116312</td>\n",
              "      <td>0.116312</td>\n",
              "      <td>1.486280</td>\n",
              "      <td>0.004329</td>\n",
              "      <td>0</td>\n",
              "      <td>109.164990</td>\n",
              "      <td>241.125501</td>\n",
              "      <td>4.234589</td>\n",
              "      <td>0.002465</td>\n",
              "      <td>301.987150</td>\n",
              "      <td>39.719231</td>\n",
              "      <td>2.523597</td>\n",
              "      <td>1.677767</td>\n",
              "      <td>0.046176</td>\n",
              "      <td>0.046176</td>\n",
              "      <td>1.769156</td>\n",
              "      <td>0.030893</td>\n",
              "      <td>0.0</td>\n",
              "      <td>338.0</td>\n",
              "    </tr>\n",
              "  </tbody>\n",
              "</table>\n",
              "</div>"
            ],
            "text/plain": [
              "   label  bandwidth_mean  ...  zero_crossing_rate_std  energy\n",
              "0      0     1865.164782  ...                     0.0   249.0\n",
              "1      0     1841.489392  ...                     0.0   150.0\n",
              "2      0     1615.049716  ...                     0.0   128.0\n",
              "3      0     1907.982910  ...                     0.0   479.0\n",
              "4      0     2054.505064  ...                     0.0   338.0\n",
              "\n",
              "[5 rows x 28 columns]"
            ]
          },
          "metadata": {
            "tags": []
          },
          "execution_count": 51
        }
      ]
    },
    {
      "cell_type": "code",
      "metadata": {
        "id": "nqE7QCX73PzX",
        "colab_type": "code",
        "outputId": "a054ef14-428f-42f8-fa1a-f9ddcc27065a",
        "colab": {
          "base_uri": "https://localhost:8080/",
          "height": 224
        }
      },
      "source": [
        "test_df.head()"
      ],
      "execution_count": 0,
      "outputs": [
        {
          "output_type": "execute_result",
          "data": {
            "text/html": [
              "<div>\n",
              "<style scoped>\n",
              "    .dataframe tbody tr th:only-of-type {\n",
              "        vertical-align: middle;\n",
              "    }\n",
              "\n",
              "    .dataframe tbody tr th {\n",
              "        vertical-align: top;\n",
              "    }\n",
              "\n",
              "    .dataframe thead th {\n",
              "        text-align: right;\n",
              "    }\n",
              "</style>\n",
              "<table border=\"1\" class=\"dataframe\">\n",
              "  <thead>\n",
              "    <tr style=\"text-align: right;\">\n",
              "      <th></th>\n",
              "      <th>label</th>\n",
              "      <th>bandwidth_mean</th>\n",
              "      <th>centroid_mean</th>\n",
              "      <th>contrast_mean</th>\n",
              "      <th>flatness_mean</th>\n",
              "      <th>rolloff_mean</th>\n",
              "      <th>mfcc_mean</th>\n",
              "      <th>mfcc_delta_mean</th>\n",
              "      <th>mfcc_delta_delta_mean</th>\n",
              "      <th>rms_mean</th>\n",
              "      <th>rmse_mean</th>\n",
              "      <th>poly_features_mean</th>\n",
              "      <th>tonnetz_mean</th>\n",
              "      <th>zero_crossing_rate_mean</th>\n",
              "      <th>bandwidth_std</th>\n",
              "      <th>centroid_std</th>\n",
              "      <th>contrast_std</th>\n",
              "      <th>flatness_std</th>\n",
              "      <th>rolloff_std</th>\n",
              "      <th>mfcc_std</th>\n",
              "      <th>mfcc_delta_std</th>\n",
              "      <th>mfcc_delta_delta_std</th>\n",
              "      <th>rms_std</th>\n",
              "      <th>rmse_std</th>\n",
              "      <th>poly_features_std</th>\n",
              "      <th>tonnetz_std</th>\n",
              "      <th>zero_crossing_rate_std</th>\n",
              "      <th>energy</th>\n",
              "    </tr>\n",
              "  </thead>\n",
              "  <tbody>\n",
              "    <tr>\n",
              "      <th>0</th>\n",
              "      <td>0</td>\n",
              "      <td>1752.417867</td>\n",
              "      <td>1596.974119</td>\n",
              "      <td>15.153502</td>\n",
              "      <td>0.003320</td>\n",
              "      <td>2974.273682</td>\n",
              "      <td>1.220389</td>\n",
              "      <td>0.186088</td>\n",
              "      <td>0.017576</td>\n",
              "      <td>0.162176</td>\n",
              "      <td>0.162176</td>\n",
              "      <td>1.974889</td>\n",
              "      <td>0.003760</td>\n",
              "      <td>0.0</td>\n",
              "      <td>140.0</td>\n",
              "      <td>216.0</td>\n",
              "      <td>4.32</td>\n",
              "      <td>0.00153</td>\n",
              "      <td>351.0</td>\n",
              "      <td>43.2</td>\n",
              "      <td>2.93</td>\n",
              "      <td>1.120</td>\n",
              "      <td>0.1030</td>\n",
              "      <td>0.1030</td>\n",
              "      <td>2.70</td>\n",
              "      <td>0.0299</td>\n",
              "      <td>0.0</td>\n",
              "      <td>809.0</td>\n",
              "    </tr>\n",
              "    <tr>\n",
              "      <th>1</th>\n",
              "      <td>0</td>\n",
              "      <td>1805.669530</td>\n",
              "      <td>1643.000030</td>\n",
              "      <td>14.941525</td>\n",
              "      <td>0.003600</td>\n",
              "      <td>3085.365434</td>\n",
              "      <td>2.245212</td>\n",
              "      <td>0.058263</td>\n",
              "      <td>-0.006370</td>\n",
              "      <td>0.169820</td>\n",
              "      <td>0.169820</td>\n",
              "      <td>2.071274</td>\n",
              "      <td>0.001514</td>\n",
              "      <td>0.0</td>\n",
              "      <td>134.0</td>\n",
              "      <td>185.0</td>\n",
              "      <td>4.16</td>\n",
              "      <td>0.00154</td>\n",
              "      <td>283.0</td>\n",
              "      <td>39.5</td>\n",
              "      <td>2.14</td>\n",
              "      <td>0.938</td>\n",
              "      <td>0.0859</td>\n",
              "      <td>0.0859</td>\n",
              "      <td>2.55</td>\n",
              "      <td>0.0321</td>\n",
              "      <td>0.0</td>\n",
              "      <td>797.0</td>\n",
              "    </tr>\n",
              "    <tr>\n",
              "      <th>2</th>\n",
              "      <td>0</td>\n",
              "      <td>1815.980268</td>\n",
              "      <td>1658.232788</td>\n",
              "      <td>14.882925</td>\n",
              "      <td>0.003631</td>\n",
              "      <td>3108.366810</td>\n",
              "      <td>4.219746</td>\n",
              "      <td>0.049010</td>\n",
              "      <td>0.002882</td>\n",
              "      <td>0.259446</td>\n",
              "      <td>0.259446</td>\n",
              "      <td>3.190323</td>\n",
              "      <td>0.006105</td>\n",
              "      <td>0.0</td>\n",
              "      <td>99.1</td>\n",
              "      <td>165.0</td>\n",
              "      <td>4.32</td>\n",
              "      <td>0.00130</td>\n",
              "      <td>191.0</td>\n",
              "      <td>33.3</td>\n",
              "      <td>1.60</td>\n",
              "      <td>0.797</td>\n",
              "      <td>0.0927</td>\n",
              "      <td>0.0927</td>\n",
              "      <td>3.58</td>\n",
              "      <td>0.0292</td>\n",
              "      <td>0.0</td>\n",
              "      <td>1700.0</td>\n",
              "    </tr>\n",
              "    <tr>\n",
              "      <th>3</th>\n",
              "      <td>0</td>\n",
              "      <td>1787.995030</td>\n",
              "      <td>1635.022559</td>\n",
              "      <td>14.780505</td>\n",
              "      <td>0.003499</td>\n",
              "      <td>3071.417791</td>\n",
              "      <td>3.195650</td>\n",
              "      <td>0.139820</td>\n",
              "      <td>-0.002922</td>\n",
              "      <td>0.217430</td>\n",
              "      <td>0.217430</td>\n",
              "      <td>2.700135</td>\n",
              "      <td>0.006140</td>\n",
              "      <td>0.0</td>\n",
              "      <td>97.3</td>\n",
              "      <td>160.0</td>\n",
              "      <td>4.56</td>\n",
              "      <td>0.00128</td>\n",
              "      <td>215.0</td>\n",
              "      <td>36.2</td>\n",
              "      <td>2.17</td>\n",
              "      <td>0.876</td>\n",
              "      <td>0.0907</td>\n",
              "      <td>0.0907</td>\n",
              "      <td>3.16</td>\n",
              "      <td>0.0301</td>\n",
              "      <td>0.0</td>\n",
              "      <td>1220.0</td>\n",
              "    </tr>\n",
              "    <tr>\n",
              "      <th>4</th>\n",
              "      <td>0</td>\n",
              "      <td>1739.879730</td>\n",
              "      <td>1539.878193</td>\n",
              "      <td>15.357312</td>\n",
              "      <td>0.002953</td>\n",
              "      <td>2980.391069</td>\n",
              "      <td>0.095534</td>\n",
              "      <td>0.017391</td>\n",
              "      <td>-0.020034</td>\n",
              "      <td>0.121553</td>\n",
              "      <td>0.121553</td>\n",
              "      <td>1.417929</td>\n",
              "      <td>0.004668</td>\n",
              "      <td>0.0</td>\n",
              "      <td>237.0</td>\n",
              "      <td>337.0</td>\n",
              "      <td>4.51</td>\n",
              "      <td>0.00230</td>\n",
              "      <td>522.0</td>\n",
              "      <td>50.6</td>\n",
              "      <td>3.61</td>\n",
              "      <td>1.690</td>\n",
              "      <td>0.0866</td>\n",
              "      <td>0.0866</td>\n",
              "      <td>2.07</td>\n",
              "      <td>0.0333</td>\n",
              "      <td>0.0</td>\n",
              "      <td>501.0</td>\n",
              "    </tr>\n",
              "  </tbody>\n",
              "</table>\n",
              "</div>"
            ],
            "text/plain": [
              "   label  bandwidth_mean  ...  zero_crossing_rate_std  energy\n",
              "0      0     1752.417867  ...                     0.0   809.0\n",
              "1      0     1805.669530  ...                     0.0   797.0\n",
              "2      0     1815.980268  ...                     0.0  1700.0\n",
              "3      0     1787.995030  ...                     0.0  1220.0\n",
              "4      0     1739.879730  ...                     0.0   501.0\n",
              "\n",
              "[5 rows x 28 columns]"
            ]
          },
          "metadata": {
            "tags": []
          },
          "execution_count": 52
        }
      ]
    },
    {
      "cell_type": "code",
      "metadata": {
        "id": "jbL1P40kPCbm",
        "colab_type": "code",
        "colab": {}
      },
      "source": [
        "feature_cols = ['bandwidth_mean', \n",
        "                'contrast_mean', \n",
        "                'rolloff_mean', \n",
        "                'mfcc_mean', \n",
        "                'mfcc_delta_mean', \n",
        "                'mfcc_delta_delta_mean', \n",
        "                'rms_mean', 'rmse_mean', \n",
        "                'poly_features_mean', \n",
        "                'tonnetz_mean',\n",
        "                'energy']\n",
        "label_col = ['label']\n",
        "X = df[feature_cols]\n",
        "y = df[label_col]\n",
        "X_train, X_test, y_train, y_test = train_test_split(X, y, test_size=0.2, random_state=0)\n",
        "X_test_2 = test_df[feature_cols]\n",
        "y_test_2 = test_df[label_col]"
      ],
      "execution_count": 0,
      "outputs": []
    },
    {
      "cell_type": "code",
      "metadata": {
        "id": "mVI4znXcEIUe",
        "colab_type": "code",
        "outputId": "ed823ea1-4eb4-487b-c9ec-39d6df915954",
        "colab": {
          "base_uri": "https://localhost:8080/",
          "height": 323
        }
      },
      "source": [
        "rfc = RandomForestClassifier(n_estimators=40, random_state=0)  \n",
        "rfc.fit(X_train, y_train.values.ravel())  \n",
        "y_pred = rfc.predict(X_test)\n",
        "print(confusion_matrix(y_test,y_pred))  \n",
        "print(classification_report(y_test,y_pred))  \n",
        "print(accuracy_score(y_test, y_pred))"
      ],
      "execution_count": 0,
      "outputs": [
        {
          "output_type": "execute_result",
          "data": {
            "text/plain": [
              "RandomForestClassifier(bootstrap=True, class_weight=None, criterion='gini',\n",
              "                       max_depth=None, max_features='auto', max_leaf_nodes=None,\n",
              "                       min_impurity_decrease=0.0, min_impurity_split=None,\n",
              "                       min_samples_leaf=1, min_samples_split=2,\n",
              "                       min_weight_fraction_leaf=0.0, n_estimators=40,\n",
              "                       n_jobs=None, oob_score=False, random_state=0, verbose=0,\n",
              "                       warm_start=False)"
            ]
          },
          "metadata": {
            "tags": []
          },
          "execution_count": 64
        },
        {
          "output_type": "stream",
          "text": [
            "[[10  3]\n",
            " [ 1  7]]\n",
            "              precision    recall  f1-score   support\n",
            "\n",
            "           0       0.91      0.77      0.83        13\n",
            "           1       0.70      0.88      0.78         8\n",
            "\n",
            "    accuracy                           0.81        21\n",
            "   macro avg       0.80      0.82      0.81        21\n",
            "weighted avg       0.83      0.81      0.81        21\n",
            "\n",
            "0.8095238095238095\n"
          ],
          "name": "stdout"
        }
      ]
    },
    {
      "cell_type": "code",
      "metadata": {
        "id": "k2r8WqfA4iAd",
        "colab_type": "code",
        "outputId": "a3392899-f38a-4fc1-f399-a1aa5f8181b3",
        "colab": {
          "base_uri": "https://localhost:8080/",
          "height": 34
        }
      },
      "source": [
        "rfc.score(X_test_2, y_test_2)"
      ],
      "execution_count": 0,
      "outputs": [
        {
          "output_type": "execute_result",
          "data": {
            "text/plain": [
              "0.5384615384615384"
            ]
          },
          "metadata": {
            "tags": []
          },
          "execution_count": 55
        }
      ]
    },
    {
      "cell_type": "code",
      "metadata": {
        "id": "TWYN19aaI2T4",
        "colab_type": "code",
        "outputId": "a27e62cb-5a1a-4849-f847-0c164fbf68d3",
        "colab": {
          "base_uri": "https://localhost:8080/",
          "height": 341
        }
      },
      "source": [
        "feature_importances = rfc.feature_importances_\n",
        "plt.figure(figsize = (20,5))\n",
        "plt.plot(feature_cols, feature_importances)"
      ],
      "execution_count": 0,
      "outputs": [
        {
          "output_type": "execute_result",
          "data": {
            "text/plain": [
              "<Figure size 1440x360 with 0 Axes>"
            ]
          },
          "metadata": {
            "tags": []
          },
          "execution_count": 56
        },
        {
          "output_type": "execute_result",
          "data": {
            "text/plain": [
              "[<matplotlib.lines.Line2D at 0x7f7036affb38>]"
            ]
          },
          "metadata": {
            "tags": []
          },
          "execution_count": 56
        },
        {
          "output_type": "display_data",
          "data": {
            "image/png": "[encoded data removed]",
            "text/plain": [
              "<Figure size 1440x360 with 1 Axes>"
            ]
          },
          "metadata": {
            "tags": []
          }
        }
      ]
    },
    {
      "cell_type": "code",
      "metadata": {
        "id": "dMkA7O1sNzov",
        "colab_type": "code",
        "colab": {}
      },
      "source": [
        "from sklearn.svm import SVC"
      ],
      "execution_count": 0,
      "outputs": []
    },
    {
      "cell_type": "code",
      "metadata": {
        "id": "D1AFz3yofAyG",
        "colab_type": "code",
        "colab": {}
      },
      "source": [
        "feature_cols = ['bandwidth_mean', \n",
        "                'rolloff_mean',                 \n",
        "                'mfcc_mean', \n",
        "                'mfcc_delta_mean', \n",
        "                'mfcc_delta_delta_mean',\n",
        "                'poly_features_mean', \n",
        "                'rms_mean']\n",
        "               \n",
        "label_col = ['label']\n",
        "X = df[feature_cols]\n",
        "y = df[label_col]\n",
        "X_train, X_test, y_train, y_test = train_test_split(X, y, test_size=0.2, random_state=0)\n",
        "X_test_2 = test_df[feature_cols]\n",
        "y_test_2 = test_df[label_col]"
      ],
      "execution_count": 0,
      "outputs": []
    },
    {
      "cell_type": "code",
      "metadata": {
        "id": "BXNBAC_YSda4",
        "colab_type": "code",
        "outputId": "1cd47030-691a-42c5-bf58-fc31ef393142",
        "colab": {
          "base_uri": "https://localhost:8080/",
          "height": 272
        }
      },
      "source": [
        "random_seed = 3\n",
        "\n",
        "svc = SVC(kernel='linear', C=4,  random_state=random_seed)\n",
        "svc.fit(X_train, y_train.values.ravel())\n",
        "y_pred = svc.predict(X_test)\n",
        "print(confusion_matrix(y_test,y_pred))  \n",
        "print(classification_report(y_test,y_pred))\n",
        "print(accuracy_score(y_test, y_pred))"
      ],
      "execution_count": 0,
      "outputs": [
        {
          "output_type": "execute_result",
          "data": {
            "text/plain": [
              "SVC(C=4, cache_size=200, class_weight=None, coef0=0.0,\n",
              "    decision_function_shape='ovr', degree=3, gamma='auto_deprecated',\n",
              "    kernel='linear', max_iter=-1, probability=False, random_state=3,\n",
              "    shrinking=True, tol=0.001, verbose=False)"
            ]
          },
          "metadata": {
            "tags": []
          },
          "execution_count": 59
        },
        {
          "output_type": "stream",
          "text": [
            "[[7 6]\n",
            " [2 6]]\n",
            "              precision    recall  f1-score   support\n",
            "\n",
            "           0       0.78      0.54      0.64        13\n",
            "           1       0.50      0.75      0.60         8\n",
            "\n",
            "    accuracy                           0.62        21\n",
            "   macro avg       0.64      0.64      0.62        21\n",
            "weighted avg       0.67      0.62      0.62        21\n",
            "\n",
            "0.6190476190476191\n"
          ],
          "name": "stdout"
        }
      ]
    },
    {
      "cell_type": "code",
      "metadata": {
        "id": "snMUsWyJ4yX8",
        "colab_type": "code",
        "outputId": "dff87681-ae3b-4a63-c050-e81e41adc781",
        "colab": {
          "base_uri": "https://localhost:8080/",
          "height": 34
        }
      },
      "source": [
        "svc.score(X_test_2, y_test_2)"
      ],
      "execution_count": 0,
      "outputs": [
        {
          "output_type": "execute_result",
          "data": {
            "text/plain": [
              "0.5384615384615384"
            ]
          },
          "metadata": {
            "tags": []
          },
          "execution_count": 60
        }
      ]
    },
    {
      "cell_type": "code",
      "metadata": {
        "id": "2Kzz3GvQ40Vk",
        "colab_type": "code",
        "colab": {}
      },
      "source": [
        ""
      ],
      "execution_count": 0,
      "outputs": []
    },
    {
      "cell_type": "markdown",
      "metadata": {
        "id": "NG3AGCCNkwJ6",
        "colab_type": "text"
      },
      "source": [
        "# **Clinic dataset**"
      ]
    },
    {
      "cell_type": "markdown",
      "metadata": {
        "id": "lKDj4ubzMOuI",
        "colab_type": "text"
      },
      "source": [
        "create csv for all annotations"
      ]
    },
    {
      "cell_type": "code",
      "metadata": {
        "id": "TinIyUhEk00N",
        "colab_type": "code",
        "colab": {}
      },
      "source": [
        "import pandas as pd\n",
        "\n",
        "path_gdrive_clinic_dataset = path_gdrive + 'clinic_dataset/'\n",
        "path_gdrive_clinic_dataset_originals = path_gdrive_clinic_dataset + 'originals/'\n",
        "path_gdrive_clinic_dataset_segmented = path_gdrive_clinic_dataset + 'segmented/'\n",
        "path_gdrive_clinic_dataset_segmented_full = path_gdrive_clinic_dataset_segmented + 'full/'"
      ],
      "execution_count": 0,
      "outputs": []
    },
    {
      "cell_type": "code",
      "metadata": {
        "id": "88nc0nSDwaQe",
        "colab_type": "code",
        "outputId": "a97bc935-0129-4648-95b0-2cef6a93ee6d",
        "colab": {
          "base_uri": "https://localhost:8080/",
          "height": 255
        }
      },
      "source": [
        "from IPython.display import clear_output\n",
        "\n",
        "annotations_filenames = []\n",
        "\n",
        "header = {\n",
        "          'start':[],\n",
        "          'end':[],\n",
        "          'crackles':[],\n",
        "          'wheezes':[],\n",
        "          'wav_name':[]\n",
        "         }\n",
        "\n",
        "annotations = pd.DataFrame(header)\n",
        "i = 0\n",
        "i_total = len(os.listdir(path_gdrive_clinic_dataset_originals))\n",
        "for filename in os.listdir(path_gdrive_clinic_dataset_originals):\n",
        "  \n",
        "  i = i+1\n",
        "  if filename.endswith('txt'):\n",
        "    print(str(i) + '/' + str(i_total))\n",
        "    print(filename)\n",
        "    if(i%10 == 0):\n",
        "      clear_output()\n",
        "    annotations_filenames.append(filename)\n",
        "    \n",
        "    annotation_df = pd.read_csv(path_gdrive_clinic_dataset_originals + filename,  sep='\\t', names=header, index_col=False)\n",
        "    annotation_df['wav_name'] = filename.split('.')[0]+'.wav'    \n",
        "    annotations = annotations.append(annotation_df)"
      ],
      "execution_count": 0,
      "outputs": [
        {
          "output_type": "stream",
          "text": [
            "1831/1840\n",
            "138_2p2_Pr_mc_AKGC417L.txt\n",
            "1833/1840\n",
            "135_2b1_Tc_mc_LittC2SE.txt\n",
            "1834/1840\n",
            "112_1p1_Pr_sc_Litt3200.txt\n",
            "1835/1840\n",
            "207_3b2_Tc_mc_AKGC417L.txt\n",
            "1836/1840\n",
            "200_2p4_Pl_mc_AKGC417L.txt\n",
            "1838/1840\n",
            "170_1b4_Pl_mc_AKGC417L.txt\n",
            "1839/1840\n",
            "122_2b3_Tc_mc_LittC2SE.txt\n"
          ],
          "name": "stdout"
        }
      ]
    },
    {
      "cell_type": "code",
      "metadata": {
        "id": "X-YeY0WaW4gl",
        "colab_type": "code",
        "colab": {}
      },
      "source": [
        "annotations = annotations.reset_index()\n",
        "annotations = annotations.drop(columns = ['index'])\n",
        "annotations.to_csv(path_gdrive_clinic_dataset+'annotations.csv')"
      ],
      "execution_count": 0,
      "outputs": []
    },
    {
      "cell_type": "markdown",
      "metadata": {
        "id": "7TLq52x_MUzh",
        "colab_type": "text"
      },
      "source": [
        "create segmentations of full cycle"
      ]
    },
    {
      "cell_type": "code",
      "metadata": {
        "colab_type": "code",
        "id": "kF66-PdjFIgh",
        "outputId": "46568e65-366b-4f2e-b61a-5ac185f16fc5",
        "colab": {
          "base_uri": "https://localhost:8080/",
          "height": 187
        }
      },
      "source": [
        "cycle_duration_threshold = 5\n",
        "\n",
        "counter = 0\n",
        "\n",
        "for index, annotation in annotations.iterrows():\n",
        "  if((annotation['end'] - annotation['start']) <= cycle_duration_threshold):\n",
        "    wav, sr = librosa.load(path_gdrive_clinic_dataset_originals+annotation['wav_name'], sr=None)\n",
        "    segmented_wav = wav[int(annotation['start']*sr) : int(annotation['end']*sr)]\n",
        "    librosa.output.write_wav(path_gdrive_clinic_dataset_segmented_full+str(counter)+'_'+annotation['wav_name'], segmented_wav, sr)\n",
        "    counter = counter + 1\n",
        "    \n",
        "    print(str(counter) + '/' + str(len(annotations)))\n",
        "    print(annotation['wav_name'])\n",
        "    if(counter%10 == 0):\n",
        "      clear_output()"
      ],
      "execution_count": 0,
      "outputs": [
        {
          "output_type": "stream",
          "text": [
            "6661/6898\n",
            "122_2b3_Tc_mc_LittC2SE.wav\n",
            "6662/6898\n",
            "122_2b3_Tc_mc_LittC2SE.wav\n",
            "6663/6898\n",
            "122_2b3_Tc_mc_LittC2SE.wav\n",
            "6664/6898\n",
            "122_2b3_Tc_mc_LittC2SE.wav\n",
            "6665/6898\n",
            "122_2b3_Tc_mc_LittC2SE.wav\n"
          ],
          "name": "stdout"
        }
      ]
    },
    {
      "cell_type": "markdown",
      "metadata": {
        "id": "P7VmjXY3M2TJ",
        "colab_type": "text"
      },
      "source": [
        "read each of the full segementation and create (inghalation, transition and exhaltion) according to percentages"
      ]
    },
    {
      "cell_type": "code",
      "metadata": {
        "colab_type": "code",
        "outputId": "a88b7878-5d9e-4b37-dc72-05c5a21fb0c6",
        "id": "8rQ1xuRJHQyM",
        "colab": {
          "base_uri": "https://localhost:8080/",
          "height": 412
        }
      },
      "source": [
        "perc_inhalation = 0.4\n",
        "perc_exhalation = 0.4\n",
        "perc_transition = 1 - perc_inhalation - perc_exhalation\n",
        "\n",
        "inhalation_start = 0\n",
        "inhalation_end = perc_inhalation\n",
        "\n",
        "exhalation_start = (1 - perc_exhalation)\n",
        "exhalation_end = 1\n",
        "\n",
        "transition_start = perc_inhalation\n",
        "transition_end = (1 - perc_exhalation)\n",
        "\n",
        "path_gdrive_clinic_dataset_segmented_inhalation = path_gdrive_clinic_dataset_segmented + '0.4_0.4/' + 'inhalation/'\n",
        "path_gdrive_clinic_dataset_segmented_transition = path_gdrive_clinic_dataset_segmented + '0.4_0.4/' + 'transition/'\n",
        "path_gdrive_clinic_dataset_segmented_exhalation = path_gdrive_clinic_dataset_segmented + '0.4_0.4/' + 'exhalation/'\n",
        "\n",
        "for filename in os.listdir(path_gdrive_clinic_dataset_segmented_full):\n",
        "  if filename.endswith('wav'):\n",
        "    wav, sr = librosa.load(path_gdrive_clinic_dataset_segmented+filename, sr=None)\n",
        "    \n",
        "    total_duration = len(wav)\n",
        "    inhalation_start = int(inhalation_start * total_duratioin)\n",
        "    inhalation_end = int(inhalation_end * total_duratioin)\n",
        "    transition_start = int(transition_start * total_duratioin)\n",
        "    transition_end = int(transition_end * total_duratioin)\n",
        "    exhalation_start = int(exhalation_start * total_duratioin)\n",
        "    exhalation_end = int(exhalation_end * total_duratioin)\n",
        "    \n",
        "    wav_inhalation = wav[inhalation_start : inhalation_end]\n",
        "    wav_transition = wav[transition_start : transition_end]\n",
        "    wav_exhalation = wav[exhalation_start : exhalation_end]\n",
        "    \n",
        "    librosa.output.write_wav\n",
        "    (\n",
        "        path_gdrive_clinic_dataset_segmented_inhalation,\n",
        "        wav_inhalation,\n",
        "        sr\n",
        "    )\n",
        "    \n",
        "    librosa.output.write_wav\n",
        "    (\n",
        "        path_gdrive_clinic_dataset_segmented_transition,\n",
        "        wav_transition,\n",
        "        sr\n",
        "    )\n",
        "    \n",
        "    librosa.output.write_wav\n",
        "    (\n",
        "        path_gdrive_clinic_dataset_segmented_exhalation,\n",
        "        wav_exhalation,\n",
        "        sr\n",
        "    )"
      ],
      "execution_count": 0,
      "outputs": [
        {
          "output_type": "execute_result",
          "data": {
            "text/plain": [
              "6665"
            ]
          },
          "metadata": {
            "tags": []
          },
          "execution_count": 74
        },
        {
          "output_type": "error",
          "ename": "FileNotFoundError",
          "evalue": "ignored",
          "traceback": [
            "\u001b[0;31m---------------------------------------------------------------------------\u001b[0m",
            "\u001b[0;31mFileNotFoundError\u001b[0m                         Traceback (most recent call last)",
            "\u001b[0;32m<ipython-input-74-aa26ed51064e>\u001b[0m in \u001b[0;36m<module>\u001b[0;34m()\u001b[0m\n\u001b[1;32m     20\u001b[0m \u001b[0;32mfor\u001b[0m \u001b[0mfilename\u001b[0m \u001b[0;32min\u001b[0m \u001b[0mos\u001b[0m\u001b[0;34m.\u001b[0m\u001b[0mlistdir\u001b[0m\u001b[0;34m(\u001b[0m\u001b[0mpath_gdrive_clinic_dataset_segmented_full\u001b[0m\u001b[0;34m)\u001b[0m\u001b[0;34m:\u001b[0m\u001b[0;34m\u001b[0m\u001b[0;34m\u001b[0m\u001b[0m\n\u001b[1;32m     21\u001b[0m   \u001b[0;32mif\u001b[0m \u001b[0mfilename\u001b[0m\u001b[0;34m.\u001b[0m\u001b[0mendswith\u001b[0m\u001b[0;34m(\u001b[0m\u001b[0;34m'wav'\u001b[0m\u001b[0;34m)\u001b[0m\u001b[0;34m:\u001b[0m\u001b[0;34m\u001b[0m\u001b[0;34m\u001b[0m\u001b[0m\n\u001b[0;32m---> 22\u001b[0;31m     \u001b[0mwav\u001b[0m\u001b[0;34m,\u001b[0m \u001b[0msr\u001b[0m \u001b[0;34m=\u001b[0m \u001b[0mlibrosa\u001b[0m\u001b[0;34m.\u001b[0m\u001b[0mload\u001b[0m\u001b[0;34m(\u001b[0m\u001b[0mpath_gdrive_clinic_dataset_segmented\u001b[0m\u001b[0;34m+\u001b[0m\u001b[0mfilename\u001b[0m\u001b[0;34m,\u001b[0m \u001b[0msr\u001b[0m\u001b[0;34m=\u001b[0m\u001b[0;32mNone\u001b[0m\u001b[0;34m)\u001b[0m\u001b[0;34m\u001b[0m\u001b[0;34m\u001b[0m\u001b[0m\n\u001b[0m\u001b[1;32m     23\u001b[0m \u001b[0;34m\u001b[0m\u001b[0m\n\u001b[1;32m     24\u001b[0m     \u001b[0mtotal_duration\u001b[0m \u001b[0;34m=\u001b[0m \u001b[0mlen\u001b[0m\u001b[0;34m(\u001b[0m\u001b[0mwav\u001b[0m\u001b[0;34m)\u001b[0m\u001b[0;34m\u001b[0m\u001b[0;34m\u001b[0m\u001b[0m\n",
            "\u001b[0;32m/usr/local/lib/python3.6/dist-packages/librosa/core/audio.py\u001b[0m in \u001b[0;36mload\u001b[0;34m(path, sr, mono, offset, duration, dtype, res_type)\u001b[0m\n\u001b[1;32m    117\u001b[0m \u001b[0;34m\u001b[0m\u001b[0m\n\u001b[1;32m    118\u001b[0m     \u001b[0my\u001b[0m \u001b[0;34m=\u001b[0m \u001b[0;34m[\u001b[0m\u001b[0;34m]\u001b[0m\u001b[0;34m\u001b[0m\u001b[0;34m\u001b[0m\u001b[0m\n\u001b[0;32m--> 119\u001b[0;31m     \u001b[0;32mwith\u001b[0m \u001b[0maudioread\u001b[0m\u001b[0;34m.\u001b[0m\u001b[0maudio_open\u001b[0m\u001b[0;34m(\u001b[0m\u001b[0mos\u001b[0m\u001b[0;34m.\u001b[0m\u001b[0mpath\u001b[0m\u001b[0;34m.\u001b[0m\u001b[0mrealpath\u001b[0m\u001b[0;34m(\u001b[0m\u001b[0mpath\u001b[0m\u001b[0;34m)\u001b[0m\u001b[0;34m)\u001b[0m \u001b[0;32mas\u001b[0m \u001b[0minput_file\u001b[0m\u001b[0;34m:\u001b[0m\u001b[0;34m\u001b[0m\u001b[0;34m\u001b[0m\u001b[0m\n\u001b[0m\u001b[1;32m    120\u001b[0m         \u001b[0msr_native\u001b[0m \u001b[0;34m=\u001b[0m \u001b[0minput_file\u001b[0m\u001b[0;34m.\u001b[0m\u001b[0msamplerate\u001b[0m\u001b[0;34m\u001b[0m\u001b[0;34m\u001b[0m\u001b[0m\n\u001b[1;32m    121\u001b[0m         \u001b[0mn_channels\u001b[0m \u001b[0;34m=\u001b[0m \u001b[0minput_file\u001b[0m\u001b[0;34m.\u001b[0m\u001b[0mchannels\u001b[0m\u001b[0;34m\u001b[0m\u001b[0;34m\u001b[0m\u001b[0m\n",
            "\u001b[0;32m/usr/local/lib/python3.6/dist-packages/audioread/__init__.py\u001b[0m in \u001b[0;36maudio_open\u001b[0;34m(path, backends)\u001b[0m\n\u001b[1;32m    109\u001b[0m     \u001b[0;32mfor\u001b[0m \u001b[0mBackendClass\u001b[0m \u001b[0;32min\u001b[0m \u001b[0mbackends\u001b[0m\u001b[0;34m:\u001b[0m\u001b[0;34m\u001b[0m\u001b[0;34m\u001b[0m\u001b[0m\n\u001b[1;32m    110\u001b[0m         \u001b[0;32mtry\u001b[0m\u001b[0;34m:\u001b[0m\u001b[0;34m\u001b[0m\u001b[0;34m\u001b[0m\u001b[0m\n\u001b[0;32m--> 111\u001b[0;31m             \u001b[0;32mreturn\u001b[0m \u001b[0mBackendClass\u001b[0m\u001b[0;34m(\u001b[0m\u001b[0mpath\u001b[0m\u001b[0;34m)\u001b[0m\u001b[0;34m\u001b[0m\u001b[0;34m\u001b[0m\u001b[0m\n\u001b[0m\u001b[1;32m    112\u001b[0m         \u001b[0;32mexcept\u001b[0m \u001b[0mDecodeError\u001b[0m\u001b[0;34m:\u001b[0m\u001b[0;34m\u001b[0m\u001b[0;34m\u001b[0m\u001b[0m\n\u001b[1;32m    113\u001b[0m             \u001b[0;32mpass\u001b[0m\u001b[0;34m\u001b[0m\u001b[0;34m\u001b[0m\u001b[0m\n",
            "\u001b[0;32m/usr/local/lib/python3.6/dist-packages/audioread/rawread.py\u001b[0m in \u001b[0;36m__init__\u001b[0;34m(self, filename)\u001b[0m\n\u001b[1;32m     60\u001b[0m     \"\"\"\n\u001b[1;32m     61\u001b[0m     \u001b[0;32mdef\u001b[0m \u001b[0m__init__\u001b[0m\u001b[0;34m(\u001b[0m\u001b[0mself\u001b[0m\u001b[0;34m,\u001b[0m \u001b[0mfilename\u001b[0m\u001b[0;34m)\u001b[0m\u001b[0;34m:\u001b[0m\u001b[0;34m\u001b[0m\u001b[0;34m\u001b[0m\u001b[0m\n\u001b[0;32m---> 62\u001b[0;31m         \u001b[0mself\u001b[0m\u001b[0;34m.\u001b[0m\u001b[0m_fh\u001b[0m \u001b[0;34m=\u001b[0m \u001b[0mopen\u001b[0m\u001b[0;34m(\u001b[0m\u001b[0mfilename\u001b[0m\u001b[0;34m,\u001b[0m \u001b[0;34m'rb'\u001b[0m\u001b[0;34m)\u001b[0m\u001b[0;34m\u001b[0m\u001b[0;34m\u001b[0m\u001b[0m\n\u001b[0m\u001b[1;32m     63\u001b[0m \u001b[0;34m\u001b[0m\u001b[0m\n\u001b[1;32m     64\u001b[0m         \u001b[0;32mtry\u001b[0m\u001b[0;34m:\u001b[0m\u001b[0;34m\u001b[0m\u001b[0;34m\u001b[0m\u001b[0m\n",
            "\u001b[0;31mFileNotFoundError\u001b[0m: [Errno 2] No such file or directory: '/content/gdrive/My Drive/colab PhD/clinic_dataset/segmented/0_133_2p4_Ar_mc_AKGC417L.wav'"
          ]
        }
      ]
    },
    {
      "cell_type": "code",
      "metadata": {
        "id": "KSQwmiwzglUI",
        "colab_type": "code",
        "colab": {}
      },
      "source": [
        "\n"
      ],
      "execution_count": 0,
      "outputs": []
    }
  ]
}