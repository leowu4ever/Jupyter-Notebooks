{
  "nbformat": 4,
  "nbformat_minor": 0,
  "metadata": {
    "colab": {
      "name": "s&p.ipynb",
      "provenance": [],
      "collapsed_sections": [],
      "authorship_tag": "ABX9TyO0wiRuW7lM1SMev7mmqsny",
      "include_colab_link": true
    },
    "kernelspec": {
      "name": "python3",
      "display_name": "Python 3"
    }
  },
  "cells": [
    {
      "cell_type": "markdown",
      "metadata": {
        "id": "view-in-github",
        "colab_type": "text"
      },
      "source": [
        "<a href=\"https://colab.research.google.com/github/leowu4ever/Jupyter-Notebooks/blob/master/s%26p%20test.ipynb\" target=\"_parent\"><img src=\"https://colab.research.google.com/assets/colab-badge.svg\" alt=\"Open In Colab\"/></a>"
      ]
    },
    {
      "cell_type": "code",
      "metadata": {
        "id": "uQTxTjBwQRGc",
        "colab_type": "code",
        "colab": {}
      },
      "source": [
        "import pandas as pd\n",
        "df = pd.read_excel('household_power_demand.xlsx', index_col=0)"
      ],
      "execution_count": 0,
      "outputs": []
    },
    {
      "cell_type": "code",
      "metadata": {
        "id": "2c4A5vygQjqz",
        "colab_type": "code",
        "colab": {
          "base_uri": "https://localhost:8080/",
          "height": 367
        },
        "outputId": "c1399a29-a7c2-4457-e161-693a0b1f9254"
      },
      "source": [
        "df.head(10)"
      ],
      "execution_count": 75,
      "outputs": [
        {
          "output_type": "execute_result",
          "data": {
            "text/html": [
              "<div>\n",
              "<style scoped>\n",
              "    .dataframe tbody tr th:only-of-type {\n",
              "        vertical-align: middle;\n",
              "    }\n",
              "\n",
              "    .dataframe tbody tr th {\n",
              "        vertical-align: top;\n",
              "    }\n",
              "\n",
              "    .dataframe thead th {\n",
              "        text-align: right;\n",
              "    }\n",
              "</style>\n",
              "<table border=\"1\" class=\"dataframe\">\n",
              "  <thead>\n",
              "    <tr style=\"text-align: right;\">\n",
              "      <th></th>\n",
              "      <th>household income (GBP/month)</th>\n",
              "      <th>size (m2)</th>\n",
              "      <th>number of solar panels</th>\n",
              "      <th>occupation</th>\n",
              "      <th>no. of adults</th>\n",
              "      <th>no. of children</th>\n",
              "      <th>monthly power demand from grid (kWh)</th>\n",
              "    </tr>\n",
              "  </thead>\n",
              "  <tbody>\n",
              "    <tr>\n",
              "      <th>0</th>\n",
              "      <td>1103</td>\n",
              "      <td>47</td>\n",
              "      <td>0</td>\n",
              "      <td>metal worker</td>\n",
              "      <td>3</td>\n",
              "      <td>4</td>\n",
              "      <td>956.051758</td>\n",
              "    </tr>\n",
              "    <tr>\n",
              "      <th>1</th>\n",
              "      <td>1114</td>\n",
              "      <td>130</td>\n",
              "      <td>5</td>\n",
              "      <td>Politician</td>\n",
              "      <td>2</td>\n",
              "      <td>4</td>\n",
              "      <td>689.405788</td>\n",
              "    </tr>\n",
              "    <tr>\n",
              "      <th>2</th>\n",
              "      <td>1130</td>\n",
              "      <td>87</td>\n",
              "      <td>0</td>\n",
              "      <td>politician</td>\n",
              "      <td>2</td>\n",
              "      <td>3</td>\n",
              "      <td>831.260063</td>\n",
              "    </tr>\n",
              "    <tr>\n",
              "      <th>3</th>\n",
              "      <td>1255</td>\n",
              "      <td>94</td>\n",
              "      <td>3</td>\n",
              "      <td>police</td>\n",
              "      <td>1</td>\n",
              "      <td>4</td>\n",
              "      <td>716.089012</td>\n",
              "    </tr>\n",
              "    <tr>\n",
              "      <th>4</th>\n",
              "      <td>1262</td>\n",
              "      <td>94</td>\n",
              "      <td>5</td>\n",
              "      <td>carpenter</td>\n",
              "      <td>2</td>\n",
              "      <td>1</td>\n",
              "      <td>767.914414</td>\n",
              "    </tr>\n",
              "    <tr>\n",
              "      <th>5</th>\n",
              "      <td>1269</td>\n",
              "      <td>63</td>\n",
              "      <td>0</td>\n",
              "      <td>baker</td>\n",
              "      <td>2</td>\n",
              "      <td>3</td>\n",
              "      <td>643.437868</td>\n",
              "    </tr>\n",
              "    <tr>\n",
              "      <th>6</th>\n",
              "      <td>1289</td>\n",
              "      <td>108</td>\n",
              "      <td>0</td>\n",
              "      <td>baker</td>\n",
              "      <td>2</td>\n",
              "      <td>2</td>\n",
              "      <td>843.564297</td>\n",
              "    </tr>\n",
              "    <tr>\n",
              "      <th>7</th>\n",
              "      <td>1318</td>\n",
              "      <td>61</td>\n",
              "      <td>3</td>\n",
              "      <td>metalworker</td>\n",
              "      <td>2</td>\n",
              "      <td>0</td>\n",
              "      <td>655.414086</td>\n",
              "    </tr>\n",
              "    <tr>\n",
              "      <th>8</th>\n",
              "      <td>1330</td>\n",
              "      <td>87</td>\n",
              "      <td>0</td>\n",
              "      <td>baker</td>\n",
              "      <td>1</td>\n",
              "      <td>1</td>\n",
              "      <td>509.969317</td>\n",
              "    </tr>\n",
              "    <tr>\n",
              "      <th>9</th>\n",
              "      <td>1333</td>\n",
              "      <td>128</td>\n",
              "      <td>3</td>\n",
              "      <td>politician</td>\n",
              "      <td>2</td>\n",
              "      <td>4</td>\n",
              "      <td>787.735267</td>\n",
              "    </tr>\n",
              "  </tbody>\n",
              "</table>\n",
              "</div>"
            ],
            "text/plain": [
              "   household income (GBP/month)  ...  monthly power demand from grid (kWh)\n",
              "0                          1103  ...                            956.051758\n",
              "1                          1114  ...                            689.405788\n",
              "2                          1130  ...                            831.260063\n",
              "3                          1255  ...                            716.089012\n",
              "4                          1262  ...                            767.914414\n",
              "5                          1269  ...                            643.437868\n",
              "6                          1289  ...                            843.564297\n",
              "7                          1318  ...                            655.414086\n",
              "8                          1330  ...                            509.969317\n",
              "9                          1333  ...                            787.735267\n",
              "\n",
              "[10 rows x 7 columns]"
            ]
          },
          "metadata": {
            "tags": []
          },
          "execution_count": 75
        }
      ]
    },
    {
      "cell_type": "markdown",
      "metadata": {
        "id": "HSr7HsqFSHVO",
        "colab_type": "text"
      },
      "source": [
        "The dataset has no missing values which is very good."
      ]
    },
    {
      "cell_type": "code",
      "metadata": {
        "id": "pgkVcfg1QqGx",
        "colab_type": "code",
        "colab": {
          "base_uri": "https://localhost:8080/",
          "height": 147
        },
        "outputId": "1725ea28-6e8a-4f8b-f2f3-5053fed3e0bb"
      },
      "source": [
        "df.isna().sum()"
      ],
      "execution_count": 16,
      "outputs": [
        {
          "output_type": "execute_result",
          "data": {
            "text/plain": [
              "household income (GBP/month)            0\n",
              "size (m2)                               0\n",
              "number of solar panels                  0\n",
              "occupation                              0\n",
              "no. of adults                           0\n",
              "no. of children                         0\n",
              "monthly power demand from grid (kWh)    0\n",
              "dtype: int64"
            ]
          },
          "metadata": {
            "tags": []
          },
          "execution_count": 16
        }
      ]
    },
    {
      "cell_type": "code",
      "metadata": {
        "id": "D7UTDQwUeYPe",
        "colab_type": "code",
        "colab": {
          "base_uri": "https://localhost:8080/",
          "height": 245
        },
        "outputId": "d986057a-b586-4941-845c-3aaf058641c0"
      },
      "source": [
        "df.iloc[:,3].astype('category')"
      ],
      "execution_count": 104,
      "outputs": [
        {
          "output_type": "execute_result",
          "data": {
            "text/plain": [
              "0      metal worker\n",
              "1        Politician\n",
              "2        politician\n",
              "3            police\n",
              "4         carpenter\n",
              "           ...     \n",
              "995           baker\n",
              "996           baker\n",
              "997           baker\n",
              "998    metal worker\n",
              "999           baker\n",
              "Name: occupation, Length: 1000, dtype: category\n",
              "Categories (8, object): [Politician, baker, carpenter, cop, metal worker, metalworker, police,\n",
              "                         politician]"
            ]
          },
          "metadata": {
            "tags": []
          },
          "execution_count": 104
        }
      ]
    },
    {
      "cell_type": "markdown",
      "metadata": {
        "id": "JADIGcNcSktS",
        "colab_type": "text"
      },
      "source": [
        "creating box plots, histogram for each column"
      ]
    },
    {
      "cell_type": "code",
      "metadata": {
        "id": "2MZkyOVrRVRU",
        "colab_type": "code",
        "colab": {
          "base_uri": "https://localhost:8080/",
          "height": 431
        },
        "outputId": "70a67f6a-693b-479c-a650-e4e5c6183d52"
      },
      "source": [
        "import matplotlib.pyplot as plt\n",
        "data = df.iloc[:,0]\n",
        "fig, axs = plt.subplots(2, figsize=(6,6))\n",
        "fig.suptitle('Original data household income')\n",
        "axs[0].boxplot(data)\n",
        "axs[0].set_ylabel('GBP/month')\n",
        "axs[1].hist(data, bins=10)\n",
        "axs[1].set_xlabel('GBP/month')\n",
        "axs[1].set_ylabel('count');"
      ],
      "execution_count": 66,
      "outputs": [
        {
          "output_type": "display_data",
          "data": {
            "image/png": "[encoded data removed]",
            "text/plain": [
              "<Figure size 432x432 with 2 Axes>"
            ]
          },
          "metadata": {
            "tags": [],
            "needs_background": "light"
          }
        }
      ]
    },
    {
      "cell_type": "code",
      "metadata": {
        "id": "0dXmnEWIa0wv",
        "colab_type": "code",
        "colab": {
          "base_uri": "https://localhost:8080/",
          "height": 431
        },
        "outputId": "5234681a-19ab-48fc-b4fb-b6ca095661a9"
      },
      "source": [
        "data = df[df[df.columns[0]]<100000].iloc[:,0]\n",
        "fig, axs = plt.subplots(2, figsize=(6,6))\n",
        "fig.suptitle('Cleaned data household income')\n",
        "axs[0].boxplot(data)\n",
        "axs[0].set_ylabel('GBP/month')\n",
        "axs[1].hist(data, bins=10)\n",
        "axs[1].set_xlabel('GBP/month')\n",
        "axs[1].set_ylabel('count');"
      ],
      "execution_count": 93,
      "outputs": [
        {
          "output_type": "display_data",
          "data": {
            "image/png": "[encoded data removed]",
            "text/plain": [
              "<Figure size 432x432 with 2 Axes>"
            ]
          },
          "metadata": {
            "tags": [],
            "needs_background": "light"
          }
        }
      ]
    },
    {
      "cell_type": "markdown",
      "metadata": {
        "id": "TA-CIV-ZWAvj",
        "colab_type": "text"
      },
      "source": [
        "It seems household income has some extreme data. It is better to remove then first"
      ]
    },
    {
      "cell_type": "code",
      "metadata": {
        "id": "zWtzqkrLawSx",
        "colab_type": "code",
        "colab": {
          "base_uri": "https://localhost:8080/",
          "height": 431
        },
        "outputId": "838e88f4-0fc3-44e9-9e99-95598fffe7bd"
      },
      "source": [
        "import matplotlib.pyplot as plt\n",
        "col_num = 6\n",
        "data = df[(df[df.columns[0]]<100000) & (df[df.columns[5]]<10)].iloc[:,col_num]\n",
        "fig, axs = plt.subplots(2, figsize=(6,6))\n",
        "fig.suptitle('Cleaned data ' + df.columns[col_num])\n",
        "axs[0].boxplot(data)\n",
        "axs[0].set_ylabel(df.columns[col_num])\n",
        "axs[1].hist(data, bins=10)\n",
        "axs[1].set_xlabel(df.columns[col_num])\n",
        "axs[1].set_ylabel('count');"
      ],
      "execution_count": 135,
      "outputs": [
        {
          "output_type": "display_data",
          "data": {
            "image/png": "[encoded data removed]",
            "text/plain": [
              "<Figure size 432x432 with 2 Axes>"
            ]
          },
          "metadata": {
            "tags": [],
            "needs_background": "light"
          }
        }
      ]
    },
    {
      "cell_type": "code",
      "metadata": {
        "id": "U1dtHOxJd1gd",
        "colab_type": "code",
        "colab": {
          "base_uri": "https://localhost:8080/",
          "height": 337
        },
        "outputId": "f8f06c57-4c3f-4fdb-f994-d334cdcd15a8"
      },
      "source": [
        "df[df.columns[3]].value_counts().plot(kind='bar')"
      ],
      "execution_count": 125,
      "outputs": [
        {
          "output_type": "execute_result",
          "data": {
            "text/plain": [
              "<matplotlib.axes._subplots.AxesSubplot at 0x7f612a8909b0>"
            ]
          },
          "metadata": {
            "tags": []
          },
          "execution_count": 125
        },
        {
          "output_type": "display_data",
          "data": {
            "image/png": "[encoded data removed]",
            "text/plain": [
              "<Figure size 432x288 with 1 Axes>"
            ]
          },
          "metadata": {
            "tags": [],
            "needs_background": "light"
          }
        }
      ]
    },
    {
      "cell_type": "code",
      "metadata": {
        "id": "miAhHWpZgtjR",
        "colab_type": "code",
        "colab": {
          "base_uri": "https://localhost:8080/",
          "height": 50
        },
        "outputId": "72d0f667-d3cd-43ea-c07c-98a2760444ee"
      },
      "source": [
        "df.iloc[:,3].unique()"
      ],
      "execution_count": 128,
      "outputs": [
        {
          "output_type": "execute_result",
          "data": {
            "text/plain": [
              "array(['metal worker', 'Politician', 'politician', 'police', 'carpenter',\n",
              "       'baker', 'metalworker', 'cop'], dtype=object)"
            ]
          },
          "metadata": {
            "tags": []
          },
          "execution_count": 128
        }
      ]
    },
    {
      "cell_type": "code",
      "metadata": {
        "id": "golwdBfagy6D",
        "colab_type": "code",
        "colab": {
          "base_uri": "https://localhost:8080/",
          "height": 173
        },
        "outputId": "d36ea6ce-0e3c-4b66-902b-30d4490ffbf9"
      },
      "source": [
        "import pandas as pd\n",
        "import numpy as np\n",
        "\n",
        "corr = df.corr()\n",
        "corr.style.background_gradient(cmap='coolwarm')\n",
        "# 'RdBu_r' & 'BrBG' are other good diverging colormaps"
      ],
      "execution_count": 136,
      "outputs": [
        {
          "output_type": "execute_result",
          "data": {
            "text/html": [
              "<style  type=\"text/css\" >\n",
              "    #T_0a8a6e70_a99c_11ea_a24b_0242ac1c0002row0_col0 {\n",
              "            background-color:  #b40426;\n",
              "            color:  #f1f1f1;\n",
              "        }    #T_0a8a6e70_a99c_11ea_a24b_0242ac1c0002row0_col1 {\n",
              "            background-color:  #4f69d9;\n",
              "            color:  #000000;\n",
              "        }    #T_0a8a6e70_a99c_11ea_a24b_0242ac1c0002row0_col2 {\n",
              "            background-color:  #9ebeff;\n",
              "            color:  #000000;\n",
              "        }    #T_0a8a6e70_a99c_11ea_a24b_0242ac1c0002row0_col3 {\n",
              "            background-color:  #4358cb;\n",
              "            color:  #f1f1f1;\n",
              "        }    #T_0a8a6e70_a99c_11ea_a24b_0242ac1c0002row0_col4 {\n",
              "            background-color:  #4b64d5;\n",
              "            color:  #f1f1f1;\n",
              "        }    #T_0a8a6e70_a99c_11ea_a24b_0242ac1c0002row0_col5 {\n",
              "            background-color:  #aec9fc;\n",
              "            color:  #000000;\n",
              "        }    #T_0a8a6e70_a99c_11ea_a24b_0242ac1c0002row1_col0 {\n",
              "            background-color:  #5470de;\n",
              "            color:  #000000;\n",
              "        }    #T_0a8a6e70_a99c_11ea_a24b_0242ac1c0002row1_col1 {\n",
              "            background-color:  #b40426;\n",
              "            color:  #f1f1f1;\n",
              "        }    #T_0a8a6e70_a99c_11ea_a24b_0242ac1c0002row1_col2 {\n",
              "            background-color:  #aac7fd;\n",
              "            color:  #000000;\n",
              "        }    #T_0a8a6e70_a99c_11ea_a24b_0242ac1c0002row1_col3 {\n",
              "            background-color:  #3e51c5;\n",
              "            color:  #f1f1f1;\n",
              "        }    #T_0a8a6e70_a99c_11ea_a24b_0242ac1c0002row1_col4 {\n",
              "            background-color:  #3b4cc0;\n",
              "            color:  #f1f1f1;\n",
              "        }    #T_0a8a6e70_a99c_11ea_a24b_0242ac1c0002row1_col5 {\n",
              "            background-color:  #f7b497;\n",
              "            color:  #000000;\n",
              "        }    #T_0a8a6e70_a99c_11ea_a24b_0242ac1c0002row2_col0 {\n",
              "            background-color:  #3b4cc0;\n",
              "            color:  #f1f1f1;\n",
              "        }    #T_0a8a6e70_a99c_11ea_a24b_0242ac1c0002row2_col1 {\n",
              "            background-color:  #455cce;\n",
              "            color:  #f1f1f1;\n",
              "        }    #T_0a8a6e70_a99c_11ea_a24b_0242ac1c0002row2_col2 {\n",
              "            background-color:  #b40426;\n",
              "            color:  #f1f1f1;\n",
              "        }    #T_0a8a6e70_a99c_11ea_a24b_0242ac1c0002row2_col3 {\n",
              "            background-color:  #3b4cc0;\n",
              "            color:  #f1f1f1;\n",
              "        }    #T_0a8a6e70_a99c_11ea_a24b_0242ac1c0002row2_col4 {\n",
              "            background-color:  #455cce;\n",
              "            color:  #f1f1f1;\n",
              "        }    #T_0a8a6e70_a99c_11ea_a24b_0242ac1c0002row2_col5 {\n",
              "            background-color:  #3b4cc0;\n",
              "            color:  #f1f1f1;\n",
              "        }    #T_0a8a6e70_a99c_11ea_a24b_0242ac1c0002row3_col0 {\n",
              "            background-color:  #455cce;\n",
              "            color:  #f1f1f1;\n",
              "        }    #T_0a8a6e70_a99c_11ea_a24b_0242ac1c0002row3_col1 {\n",
              "            background-color:  #3e51c5;\n",
              "            color:  #f1f1f1;\n",
              "        }    #T_0a8a6e70_a99c_11ea_a24b_0242ac1c0002row3_col2 {\n",
              "            background-color:  #a1c0ff;\n",
              "            color:  #000000;\n",
              "        }    #T_0a8a6e70_a99c_11ea_a24b_0242ac1c0002row3_col3 {\n",
              "            background-color:  #b40426;\n",
              "            color:  #f1f1f1;\n",
              "        }    #T_0a8a6e70_a99c_11ea_a24b_0242ac1c0002row3_col4 {\n",
              "            background-color:  #3d50c3;\n",
              "            color:  #f1f1f1;\n",
              "        }    #T_0a8a6e70_a99c_11ea_a24b_0242ac1c0002row3_col5 {\n",
              "            background-color:  #cedaeb;\n",
              "            color:  #000000;\n",
              "        }    #T_0a8a6e70_a99c_11ea_a24b_0242ac1c0002row4_col0 {\n",
              "            background-color:  #4f69d9;\n",
              "            color:  #000000;\n",
              "        }    #T_0a8a6e70_a99c_11ea_a24b_0242ac1c0002row4_col1 {\n",
              "            background-color:  #3b4cc0;\n",
              "            color:  #f1f1f1;\n",
              "        }    #T_0a8a6e70_a99c_11ea_a24b_0242ac1c0002row4_col2 {\n",
              "            background-color:  #aac7fd;\n",
              "            color:  #000000;\n",
              "        }    #T_0a8a6e70_a99c_11ea_a24b_0242ac1c0002row4_col3 {\n",
              "            background-color:  #3e51c5;\n",
              "            color:  #f1f1f1;\n",
              "        }    #T_0a8a6e70_a99c_11ea_a24b_0242ac1c0002row4_col4 {\n",
              "            background-color:  #b40426;\n",
              "            color:  #f1f1f1;\n",
              "        }    #T_0a8a6e70_a99c_11ea_a24b_0242ac1c0002row4_col5 {\n",
              "            background-color:  #abc8fd;\n",
              "            color:  #000000;\n",
              "        }    #T_0a8a6e70_a99c_11ea_a24b_0242ac1c0002row5_col0 {\n",
              "            background-color:  #4e68d8;\n",
              "            color:  #000000;\n",
              "        }    #T_0a8a6e70_a99c_11ea_a24b_0242ac1c0002row5_col1 {\n",
              "            background-color:  #e5d8d1;\n",
              "            color:  #000000;\n",
              "        }    #T_0a8a6e70_a99c_11ea_a24b_0242ac1c0002row5_col2 {\n",
              "            background-color:  #3b4cc0;\n",
              "            color:  #f1f1f1;\n",
              "        }    #T_0a8a6e70_a99c_11ea_a24b_0242ac1c0002row5_col3 {\n",
              "            background-color:  #7da0f9;\n",
              "            color:  #000000;\n",
              "        }    #T_0a8a6e70_a99c_11ea_a24b_0242ac1c0002row5_col4 {\n",
              "            background-color:  #465ecf;\n",
              "            color:  #f1f1f1;\n",
              "        }    #T_0a8a6e70_a99c_11ea_a24b_0242ac1c0002row5_col5 {\n",
              "            background-color:  #b40426;\n",
              "            color:  #f1f1f1;\n",
              "        }</style><table id=\"T_0a8a6e70_a99c_11ea_a24b_0242ac1c0002\" ><thead>    <tr>        <th class=\"blank level0\" ></th>        <th class=\"col_heading level0 col0\" >household income (GBP/month)</th>        <th class=\"col_heading level0 col1\" >size (m2)</th>        <th class=\"col_heading level0 col2\" >number of solar panels</th>        <th class=\"col_heading level0 col3\" >no. of adults</th>        <th class=\"col_heading level0 col4\" >no. of children</th>        <th class=\"col_heading level0 col5\" >monthly power demand from grid (kWh)</th>    </tr></thead><tbody>\n",
              "                <tr>\n",
              "                        <th id=\"T_0a8a6e70_a99c_11ea_a24b_0242ac1c0002level0_row0\" class=\"row_heading level0 row0\" >household income (GBP/month)</th>\n",
              "                        <td id=\"T_0a8a6e70_a99c_11ea_a24b_0242ac1c0002row0_col0\" class=\"data row0 col0\" >1.000000</td>\n",
              "                        <td id=\"T_0a8a6e70_a99c_11ea_a24b_0242ac1c0002row0_col1\" class=\"data row0 col1\" >0.061350</td>\n",
              "                        <td id=\"T_0a8a6e70_a99c_11ea_a24b_0242ac1c0002row0_col2\" class=\"data row0 col2\" >-0.022696</td>\n",
              "                        <td id=\"T_0a8a6e70_a99c_11ea_a24b_0242ac1c0002row0_col3\" class=\"data row0 col3\" >0.016322</td>\n",
              "                        <td id=\"T_0a8a6e70_a99c_11ea_a24b_0242ac1c0002row0_col4\" class=\"data row0 col4\" >0.046012</td>\n",
              "                        <td id=\"T_0a8a6e70_a99c_11ea_a24b_0242ac1c0002row0_col5\" class=\"data row0 col5\" >0.044902</td>\n",
              "            </tr>\n",
              "            <tr>\n",
              "                        <th id=\"T_0a8a6e70_a99c_11ea_a24b_0242ac1c0002level0_row1\" class=\"row_heading level0 row1\" >size (m2)</th>\n",
              "                        <td id=\"T_0a8a6e70_a99c_11ea_a24b_0242ac1c0002row1_col0\" class=\"data row1 col0\" >0.061350</td>\n",
              "                        <td id=\"T_0a8a6e70_a99c_11ea_a24b_0242ac1c0002row1_col1\" class=\"data row1 col1\" >1.000000</td>\n",
              "                        <td id=\"T_0a8a6e70_a99c_11ea_a24b_0242ac1c0002row1_col2\" class=\"data row1 col2\" >0.026554</td>\n",
              "                        <td id=\"T_0a8a6e70_a99c_11ea_a24b_0242ac1c0002row1_col3\" class=\"data row1 col3\" >0.003737</td>\n",
              "                        <td id=\"T_0a8a6e70_a99c_11ea_a24b_0242ac1c0002row1_col4\" class=\"data row1 col4\" >-0.009602</td>\n",
              "                        <td id=\"T_0a8a6e70_a99c_11ea_a24b_0242ac1c0002row1_col5\" class=\"data row1 col5\" >0.530187</td>\n",
              "            </tr>\n",
              "            <tr>\n",
              "                        <th id=\"T_0a8a6e70_a99c_11ea_a24b_0242ac1c0002level0_row2\" class=\"row_heading level0 row2\" >number of solar panels</th>\n",
              "                        <td id=\"T_0a8a6e70_a99c_11ea_a24b_0242ac1c0002row2_col0\" class=\"data row2 col0\" >-0.022696</td>\n",
              "                        <td id=\"T_0a8a6e70_a99c_11ea_a24b_0242ac1c0002row2_col1\" class=\"data row2 col1\" >0.026554</td>\n",
              "                        <td id=\"T_0a8a6e70_a99c_11ea_a24b_0242ac1c0002row2_col2\" class=\"data row2 col2\" >1.000000</td>\n",
              "                        <td id=\"T_0a8a6e70_a99c_11ea_a24b_0242ac1c0002row2_col3\" class=\"data row2 col3\" >-0.011409</td>\n",
              "                        <td id=\"T_0a8a6e70_a99c_11ea_a24b_0242ac1c0002row2_col4\" class=\"data row2 col4\" >0.027489</td>\n",
              "                        <td id=\"T_0a8a6e70_a99c_11ea_a24b_0242ac1c0002row2_col5\" class=\"data row2 col5\" >-0.458932</td>\n",
              "            </tr>\n",
              "            <tr>\n",
              "                        <th id=\"T_0a8a6e70_a99c_11ea_a24b_0242ac1c0002level0_row3\" class=\"row_heading level0 row3\" >no. of adults</th>\n",
              "                        <td id=\"T_0a8a6e70_a99c_11ea_a24b_0242ac1c0002row3_col0\" class=\"data row3 col0\" >0.016322</td>\n",
              "                        <td id=\"T_0a8a6e70_a99c_11ea_a24b_0242ac1c0002row3_col1\" class=\"data row3 col1\" >0.003737</td>\n",
              "                        <td id=\"T_0a8a6e70_a99c_11ea_a24b_0242ac1c0002row3_col2\" class=\"data row3 col2\" >-0.011409</td>\n",
              "                        <td id=\"T_0a8a6e70_a99c_11ea_a24b_0242ac1c0002row3_col3\" class=\"data row3 col3\" >1.000000</td>\n",
              "                        <td id=\"T_0a8a6e70_a99c_11ea_a24b_0242ac1c0002row3_col4\" class=\"data row3 col4\" >0.000795</td>\n",
              "                        <td id=\"T_0a8a6e70_a99c_11ea_a24b_0242ac1c0002row3_col5\" class=\"data row3 col5\" >0.195257</td>\n",
              "            </tr>\n",
              "            <tr>\n",
              "                        <th id=\"T_0a8a6e70_a99c_11ea_a24b_0242ac1c0002level0_row4\" class=\"row_heading level0 row4\" >no. of children</th>\n",
              "                        <td id=\"T_0a8a6e70_a99c_11ea_a24b_0242ac1c0002row4_col0\" class=\"data row4 col0\" >0.046012</td>\n",
              "                        <td id=\"T_0a8a6e70_a99c_11ea_a24b_0242ac1c0002row4_col1\" class=\"data row4 col1\" >-0.009602</td>\n",
              "                        <td id=\"T_0a8a6e70_a99c_11ea_a24b_0242ac1c0002row4_col2\" class=\"data row4 col2\" >0.027489</td>\n",
              "                        <td id=\"T_0a8a6e70_a99c_11ea_a24b_0242ac1c0002row4_col3\" class=\"data row4 col3\" >0.000795</td>\n",
              "                        <td id=\"T_0a8a6e70_a99c_11ea_a24b_0242ac1c0002row4_col4\" class=\"data row4 col4\" >1.000000</td>\n",
              "                        <td id=\"T_0a8a6e70_a99c_11ea_a24b_0242ac1c0002row4_col5\" class=\"data row4 col5\" >0.033238</td>\n",
              "            </tr>\n",
              "            <tr>\n",
              "                        <th id=\"T_0a8a6e70_a99c_11ea_a24b_0242ac1c0002level0_row5\" class=\"row_heading level0 row5\" >monthly power demand from grid (kWh)</th>\n",
              "                        <td id=\"T_0a8a6e70_a99c_11ea_a24b_0242ac1c0002row5_col0\" class=\"data row5 col0\" >0.044902</td>\n",
              "                        <td id=\"T_0a8a6e70_a99c_11ea_a24b_0242ac1c0002row5_col1\" class=\"data row5 col1\" >0.530187</td>\n",
              "                        <td id=\"T_0a8a6e70_a99c_11ea_a24b_0242ac1c0002row5_col2\" class=\"data row5 col2\" >-0.458932</td>\n",
              "                        <td id=\"T_0a8a6e70_a99c_11ea_a24b_0242ac1c0002row5_col3\" class=\"data row5 col3\" >0.195257</td>\n",
              "                        <td id=\"T_0a8a6e70_a99c_11ea_a24b_0242ac1c0002row5_col4\" class=\"data row5 col4\" >0.033238</td>\n",
              "                        <td id=\"T_0a8a6e70_a99c_11ea_a24b_0242ac1c0002row5_col5\" class=\"data row5 col5\" >1.000000</td>\n",
              "            </tr>\n",
              "    </tbody></table>"
            ],
            "text/plain": [
              "<pandas.io.formats.style.Styler at 0x7f612ad4e518>"
            ]
          },
          "metadata": {
            "tags": []
          },
          "execution_count": 136
        }
      ]
    },
    {
      "cell_type": "code",
      "metadata": {
        "id": "arEOLYlLhsyO",
        "colab_type": "code",
        "colab": {
          "base_uri": "https://localhost:8080/",
          "height": 98
        },
        "outputId": "0d08cc10-cf24-4741-dbca-9de919f47be7"
      },
      "source": [
        "from sklearn import linear_model\n",
        "from sklearn.model_selection import train_test_split\n",
        "X = data.iloc[:, 1:3]\n",
        "y = data.iloc[:,6]\n",
        "X_train, X_test, y_train, y_test = train_test_split(X, y, test_size=0.33, random_state=42)\n",
        "regressor = linear_model.LinearRegression()\n",
        "data = df[(df[df.columns[0]]<100000) & (df[df.columns[5]]<10)]\n",
        "model = regressor.fit(X_train, y_train)\n",
        "print('intercept' + str(model.intercept_))\n",
        "print('intercept' + str(model.coef_))\n",
        "y_pred = regressor.predict(X_test)\n",
        "from sklearn import metrics\n",
        "print('Mean Absolute Error:', metrics.mean_absolute_error(y_test, y_pred))  \n",
        "print('Mean Squared Error:', metrics.mean_squared_error(y_test, y_pred))  \n",
        "print('Root Mean Squared Error:', np.sqrt(metrics.mean_squared_error(y_test, y_pred)))"
      ],
      "execution_count": 164,
      "outputs": [
        {
          "output_type": "stream",
          "text": [
            "intercept500.5523799570292\n",
            "intercept[  2.55589769 -27.32018803]\n",
            "Mean Absolute Error: 86.97554971142411\n",
            "Mean Squared Error: 12434.142226365255\n",
            "Root Mean Squared Error: 111.50848499717523\n"
          ],
          "name": "stdout"
        }
      ]
    }
  ]
}